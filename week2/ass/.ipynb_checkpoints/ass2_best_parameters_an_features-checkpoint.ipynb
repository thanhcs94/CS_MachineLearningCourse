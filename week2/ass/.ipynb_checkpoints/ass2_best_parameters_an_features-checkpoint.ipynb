{
 "cells": [
  {
   "cell_type": "markdown",
   "metadata": {},
   "source": [
    "# First - Import full library"
   ]
  },
  {
   "cell_type": "code",
   "execution_count": 155,
   "metadata": {},
   "outputs": [],
   "source": [
    "import pandas as pd\n",
    "import numpy as np\n",
    "from sklearn import  preprocessing, cross_validation, neighbors, metrics, svm\n",
    "from sklearn.preprocessing import StandardScaler\n",
    "from sklearn.metrics import confusion_matrix\n",
    "from sklearn.svm import SVC\n",
    "from sklearn.linear_model import LogisticRegression\n",
    "from sklearn.ensemble import RandomForestClassifier\n",
    "from sklearn.feature_selection import SelectKBest"
   ]
  },
  {
   "cell_type": "code",
   "execution_count": 156,
   "metadata": {},
   "outputs": [],
   "source": [
    "songs_dataset = pd.read_json('MasterSongList.json')"
   ]
  },
  {
   "cell_type": "code",
   "execution_count": 157,
   "metadata": {},
   "outputs": [
    {
     "data": {
      "text/html": [
       "<div>\n",
       "<style scoped>\n",
       "    .dataframe tbody tr th:only-of-type {\n",
       "        vertical-align: middle;\n",
       "    }\n",
       "\n",
       "    .dataframe tbody tr th {\n",
       "        vertical-align: top;\n",
       "    }\n",
       "\n",
       "    .dataframe thead th {\n",
       "        text-align: right;\n",
       "    }\n",
       "</style>\n",
       "<table border=\"1\" class=\"dataframe\">\n",
       "  <thead>\n",
       "    <tr style=\"text-align: right;\">\n",
       "      <th></th>\n",
       "      <th>_id</th>\n",
       "      <th>album</th>\n",
       "      <th>artist</th>\n",
       "      <th>audio_features</th>\n",
       "      <th>context</th>\n",
       "      <th>decades</th>\n",
       "      <th>genres</th>\n",
       "      <th>lyrics_features</th>\n",
       "      <th>moods</th>\n",
       "      <th>name</th>\n",
       "      <th>new_context</th>\n",
       "      <th>picture</th>\n",
       "      <th>recording_id</th>\n",
       "      <th>sub_context</th>\n",
       "      <th>yt_id</th>\n",
       "      <th>yt_views</th>\n",
       "    </tr>\n",
       "  </thead>\n",
       "  <tbody>\n",
       "    <tr>\n",
       "      <th>0</th>\n",
       "      <td>{'$oid': '52fdfb440b9398049f3d7a8c'}</td>\n",
       "      <td>Gangnam Style (강남스타일)</td>\n",
       "      <td>PSY</td>\n",
       "      <td>[11, 0.912744, 0.083704, 132.069, 0.293137, 0....</td>\n",
       "      <td>[work out]</td>\n",
       "      <td>[]</td>\n",
       "      <td>[pop]</td>\n",
       "      <td>[oppa, gangnam, style, gangnam, style, najeneu...</td>\n",
       "      <td>[energetic, motivational]</td>\n",
       "      <td>Gangnam Style (강남스타일)</td>\n",
       "      <td>work out</td>\n",
       "      <td>http://images.musicnet.com/albums/073/463/405/...</td>\n",
       "      <td>50232.0</td>\n",
       "      <td>[working out: cardio]</td>\n",
       "      <td>9bZkp7q19f0</td>\n",
       "      <td>2450112089</td>\n",
       "    </tr>\n",
       "  </tbody>\n",
       "</table>\n",
       "</div>"
      ],
      "text/plain": [
       "                                    _id                  album artist  \\\n",
       "0  {'$oid': '52fdfb440b9398049f3d7a8c'}  Gangnam Style (강남스타일)    PSY   \n",
       "\n",
       "                                      audio_features     context decades  \\\n",
       "0  [11, 0.912744, 0.083704, 132.069, 0.293137, 0....  [work out]      []   \n",
       "\n",
       "  genres                                    lyrics_features  \\\n",
       "0  [pop]  [oppa, gangnam, style, gangnam, style, najeneu...   \n",
       "\n",
       "                       moods                   name new_context  \\\n",
       "0  [energetic, motivational]  Gangnam Style (강남스타일)    work out   \n",
       "\n",
       "                                             picture  recording_id  \\\n",
       "0  http://images.musicnet.com/albums/073/463/405/...       50232.0   \n",
       "\n",
       "             sub_context        yt_id    yt_views  \n",
       "0  [working out: cardio]  9bZkp7q19f0  2450112089  "
      ]
     },
     "execution_count": 157,
     "metadata": {},
     "output_type": "execute_result"
    }
   ],
   "source": [
    "songs_dataset.head(1)"
   ]
  },
  {
   "cell_type": "code",
   "execution_count": 158,
   "metadata": {},
   "outputs": [],
   "source": [
    "songs_dataset.loc[:,'genres'] = songs_dataset['genres'].apply(''.join)\n",
    "def consolidateGenre(genre):\n",
    "    if(len(genre) > 0):\n",
    "        return genre.split(':')[0]\n",
    "    else:\n",
    "        return genre\n",
    "songs_dataset.loc[:,'genres'] = songs_dataset['genres'].apply(consolidateGenre)"
   ]
  },
  {
   "cell_type": "code",
   "execution_count": 159,
   "metadata": {},
   "outputs": [],
   "source": [
    "audio_feature_list = []\n",
    "for audio_feature in songs_dataset['audio_features']:\n",
    "    audio_feature_list.append(audio_feature)"
   ]
  },
  {
   "cell_type": "code",
   "execution_count": 160,
   "metadata": {
    "scrolled": true
   },
   "outputs": [
    {
     "data": {
      "text/html": [
       "<div>\n",
       "<style scoped>\n",
       "    .dataframe tbody tr th:only-of-type {\n",
       "        vertical-align: middle;\n",
       "    }\n",
       "\n",
       "    .dataframe tbody tr th {\n",
       "        vertical-align: top;\n",
       "    }\n",
       "\n",
       "    .dataframe thead th {\n",
       "        text-align: right;\n",
       "    }\n",
       "</style>\n",
       "<table border=\"1\" class=\"dataframe\">\n",
       "  <thead>\n",
       "    <tr style=\"text-align: right;\">\n",
       "      <th></th>\n",
       "      <th>key</th>\n",
       "      <th>energy</th>\n",
       "      <th>liveliness</th>\n",
       "      <th>tempo</th>\n",
       "      <th>speechiness</th>\n",
       "      <th>acousticness</th>\n",
       "      <th>instrumentalness</th>\n",
       "      <th>time_signature</th>\n",
       "      <th>duration</th>\n",
       "      <th>loudness</th>\n",
       "      <th>valence</th>\n",
       "      <th>danceability</th>\n",
       "      <th>mode</th>\n",
       "      <th>time_signature_confidence</th>\n",
       "      <th>tempo_confidence</th>\n",
       "      <th>key_confidence</th>\n",
       "      <th>mode_confidence</th>\n",
       "      <th>genres</th>\n",
       "    </tr>\n",
       "  </thead>\n",
       "  <tbody>\n",
       "    <tr>\n",
       "      <th>0</th>\n",
       "      <td>11.0</td>\n",
       "      <td>0.912744</td>\n",
       "      <td>0.083704</td>\n",
       "      <td>132.069</td>\n",
       "      <td>0.293137</td>\n",
       "      <td>0.005423</td>\n",
       "      <td>0.000001</td>\n",
       "      <td>0.0</td>\n",
       "      <td>4.0</td>\n",
       "      <td>218.30667</td>\n",
       "      <td>-3.890</td>\n",
       "      <td>0.752186</td>\n",
       "      <td>0.726920</td>\n",
       "      <td>0.552</td>\n",
       "      <td>0.541</td>\n",
       "      <td>1.000</td>\n",
       "      <td>1.000</td>\n",
       "      <td>pop</td>\n",
       "    </tr>\n",
       "    <tr>\n",
       "      <th>1</th>\n",
       "      <td>6.0</td>\n",
       "      <td>0.745704</td>\n",
       "      <td>0.119955</td>\n",
       "      <td>100.008</td>\n",
       "      <td>0.046255</td>\n",
       "      <td>0.026230</td>\n",
       "      <td>0.012727</td>\n",
       "      <td>1.0</td>\n",
       "      <td>4.0</td>\n",
       "      <td>235.06086</td>\n",
       "      <td>-7.687</td>\n",
       "      <td>0.351282</td>\n",
       "      <td>0.691817</td>\n",
       "      <td>0.737</td>\n",
       "      <td>0.634</td>\n",
       "      <td>0.796</td>\n",
       "      <td>1.000</td>\n",
       "      <td>pop</td>\n",
       "    </tr>\n",
       "    <tr>\n",
       "      <th>2</th>\n",
       "      <td>5.0</td>\n",
       "      <td>0.709932</td>\n",
       "      <td>0.231455</td>\n",
       "      <td>130.030</td>\n",
       "      <td>0.121741</td>\n",
       "      <td>0.036662</td>\n",
       "      <td>0.000000</td>\n",
       "      <td>0.0</td>\n",
       "      <td>4.0</td>\n",
       "      <td>232.46104</td>\n",
       "      <td>-5.150</td>\n",
       "      <td>0.374390</td>\n",
       "      <td>0.704729</td>\n",
       "      <td>0.565</td>\n",
       "      <td>0.565</td>\n",
       "      <td>0.743</td>\n",
       "      <td>1.000</td>\n",
       "      <td></td>\n",
       "    </tr>\n",
       "    <tr>\n",
       "      <th>3</th>\n",
       "      <td>3.0</td>\n",
       "      <td>0.705822</td>\n",
       "      <td>0.053292</td>\n",
       "      <td>126.009</td>\n",
       "      <td>0.126016</td>\n",
       "      <td>0.001966</td>\n",
       "      <td>0.000000</td>\n",
       "      <td>0.0</td>\n",
       "      <td>4.0</td>\n",
       "      <td>194.09333</td>\n",
       "      <td>-3.898</td>\n",
       "      <td>0.592798</td>\n",
       "      <td>0.875137</td>\n",
       "      <td>0.004</td>\n",
       "      <td>0.114</td>\n",
       "      <td>1.000</td>\n",
       "      <td>0.742</td>\n",
       "      <td>dance</td>\n",
       "    </tr>\n",
       "    <tr>\n",
       "      <th>4</th>\n",
       "      <td>3.0</td>\n",
       "      <td>0.741757</td>\n",
       "      <td>0.072774</td>\n",
       "      <td>129.985</td>\n",
       "      <td>0.051255</td>\n",
       "      <td>0.096732</td>\n",
       "      <td>0.000474</td>\n",
       "      <td>0.0</td>\n",
       "      <td>4.0</td>\n",
       "      <td>285.42667</td>\n",
       "      <td>-5.860</td>\n",
       "      <td>0.585630</td>\n",
       "      <td>0.730711</td>\n",
       "      <td>0.271</td>\n",
       "      <td>0.324</td>\n",
       "      <td>0.822</td>\n",
       "      <td>1.000</td>\n",
       "      <td>reggaeton</td>\n",
       "    </tr>\n",
       "    <tr>\n",
       "      <th>5</th>\n",
       "      <td>8.0</td>\n",
       "      <td>0.733856</td>\n",
       "      <td>0.093043</td>\n",
       "      <td>174.952</td>\n",
       "      <td>0.058137</td>\n",
       "      <td>0.293325</td>\n",
       "      <td>0.000000</td>\n",
       "      <td>0.0</td>\n",
       "      <td>4.0</td>\n",
       "      <td>188.94281</td>\n",
       "      <td>-4.312</td>\n",
       "      <td>0.953424</td>\n",
       "      <td>0.785102</td>\n",
       "      <td>0.177</td>\n",
       "      <td>0.404</td>\n",
       "      <td>0.826</td>\n",
       "      <td>1.000</td>\n",
       "      <td></td>\n",
       "    </tr>\n",
       "    <tr>\n",
       "      <th>6</th>\n",
       "      <td>8.0</td>\n",
       "      <td>0.777375</td>\n",
       "      <td>0.054104</td>\n",
       "      <td>104.946</td>\n",
       "      <td>0.029302</td>\n",
       "      <td>0.130350</td>\n",
       "      <td>0.000000</td>\n",
       "      <td>1.0</td>\n",
       "      <td>4.0</td>\n",
       "      <td>228.29333</td>\n",
       "      <td>-5.112</td>\n",
       "      <td>0.525632</td>\n",
       "      <td>0.729051</td>\n",
       "      <td>0.817</td>\n",
       "      <td>0.672</td>\n",
       "      <td>0.394</td>\n",
       "      <td>0.963</td>\n",
       "      <td>r&amp;b</td>\n",
       "    </tr>\n",
       "    <tr>\n",
       "      <th>7</th>\n",
       "      <td>7.0</td>\n",
       "      <td>0.585564</td>\n",
       "      <td>0.108297</td>\n",
       "      <td>120.014</td>\n",
       "      <td>0.038924</td>\n",
       "      <td>0.011707</td>\n",
       "      <td>0.000005</td>\n",
       "      <td>1.0</td>\n",
       "      <td>4.0</td>\n",
       "      <td>193.57333</td>\n",
       "      <td>-6.583</td>\n",
       "      <td>0.622176</td>\n",
       "      <td>0.781822</td>\n",
       "      <td>0.970</td>\n",
       "      <td>0.861</td>\n",
       "      <td>0.792</td>\n",
       "      <td>1.000</td>\n",
       "      <td>pop</td>\n",
       "    </tr>\n",
       "    <tr>\n",
       "      <th>8</th>\n",
       "      <td>0.0</td>\n",
       "      <td>0.418212</td>\n",
       "      <td>0.105322</td>\n",
       "      <td>129.054</td>\n",
       "      <td>0.045461</td>\n",
       "      <td>0.548385</td>\n",
       "      <td>0.000120</td>\n",
       "      <td>0.0</td>\n",
       "      <td>4.0</td>\n",
       "      <td>248.28000</td>\n",
       "      <td>-7.284</td>\n",
       "      <td>0.440790</td>\n",
       "      <td>0.841824</td>\n",
       "      <td>0.011</td>\n",
       "      <td>0.303</td>\n",
       "      <td>0.843</td>\n",
       "      <td>1.000</td>\n",
       "      <td></td>\n",
       "    </tr>\n",
       "    <tr>\n",
       "      <th>9</th>\n",
       "      <td>4.0</td>\n",
       "      <td>0.814030</td>\n",
       "      <td>0.079196</td>\n",
       "      <td>124.991</td>\n",
       "      <td>0.072440</td>\n",
       "      <td>0.005355</td>\n",
       "      <td>0.000000</td>\n",
       "      <td>1.0</td>\n",
       "      <td>4.0</td>\n",
       "      <td>198.25333</td>\n",
       "      <td>-1.985</td>\n",
       "      <td>0.838512</td>\n",
       "      <td>0.700860</td>\n",
       "      <td>0.429</td>\n",
       "      <td>0.375</td>\n",
       "      <td>0.740</td>\n",
       "      <td>1.000</td>\n",
       "      <td>pop</td>\n",
       "    </tr>\n",
       "  </tbody>\n",
       "</table>\n",
       "</div>"
      ],
      "text/plain": [
       "    key    energy  liveliness    tempo  speechiness  acousticness  \\\n",
       "0  11.0  0.912744    0.083704  132.069     0.293137      0.005423   \n",
       "1   6.0  0.745704    0.119955  100.008     0.046255      0.026230   \n",
       "2   5.0  0.709932    0.231455  130.030     0.121741      0.036662   \n",
       "3   3.0  0.705822    0.053292  126.009     0.126016      0.001966   \n",
       "4   3.0  0.741757    0.072774  129.985     0.051255      0.096732   \n",
       "5   8.0  0.733856    0.093043  174.952     0.058137      0.293325   \n",
       "6   8.0  0.777375    0.054104  104.946     0.029302      0.130350   \n",
       "7   7.0  0.585564    0.108297  120.014     0.038924      0.011707   \n",
       "8   0.0  0.418212    0.105322  129.054     0.045461      0.548385   \n",
       "9   4.0  0.814030    0.079196  124.991     0.072440      0.005355   \n",
       "\n",
       "   instrumentalness  time_signature  duration   loudness  valence  \\\n",
       "0          0.000001             0.0       4.0  218.30667   -3.890   \n",
       "1          0.012727             1.0       4.0  235.06086   -7.687   \n",
       "2          0.000000             0.0       4.0  232.46104   -5.150   \n",
       "3          0.000000             0.0       4.0  194.09333   -3.898   \n",
       "4          0.000474             0.0       4.0  285.42667   -5.860   \n",
       "5          0.000000             0.0       4.0  188.94281   -4.312   \n",
       "6          0.000000             1.0       4.0  228.29333   -5.112   \n",
       "7          0.000005             1.0       4.0  193.57333   -6.583   \n",
       "8          0.000120             0.0       4.0  248.28000   -7.284   \n",
       "9          0.000000             1.0       4.0  198.25333   -1.985   \n",
       "\n",
       "   danceability      mode  time_signature_confidence  tempo_confidence  \\\n",
       "0      0.752186  0.726920                      0.552             0.541   \n",
       "1      0.351282  0.691817                      0.737             0.634   \n",
       "2      0.374390  0.704729                      0.565             0.565   \n",
       "3      0.592798  0.875137                      0.004             0.114   \n",
       "4      0.585630  0.730711                      0.271             0.324   \n",
       "5      0.953424  0.785102                      0.177             0.404   \n",
       "6      0.525632  0.729051                      0.817             0.672   \n",
       "7      0.622176  0.781822                      0.970             0.861   \n",
       "8      0.440790  0.841824                      0.011             0.303   \n",
       "9      0.838512  0.700860                      0.429             0.375   \n",
       "\n",
       "   key_confidence  mode_confidence     genres  \n",
       "0           1.000            1.000        pop  \n",
       "1           0.796            1.000        pop  \n",
       "2           0.743            1.000             \n",
       "3           1.000            0.742      dance  \n",
       "4           0.822            1.000  reggaeton  \n",
       "5           0.826            1.000             \n",
       "6           0.394            0.963        r&b  \n",
       "7           0.792            1.000        pop  \n",
       "8           0.843            1.000             \n",
       "9           0.740            1.000        pop  "
      ]
     },
     "execution_count": 160,
     "metadata": {},
     "output_type": "execute_result"
    }
   ],
   "source": [
    "audio_feature_header = ['key','energy','liveliness','tempo','speechiness','acousticness','instrumentalness','time_signature'\n",
    "                         ,'duration','loudness','valence','danceability','mode','time_signature_confidence','tempo_confidence'\n",
    "                         ,'key_confidence','mode_confidence']\n",
    "\n",
    "df_feature =  pd.DataFrame(audio_feature_list, columns = audio_feature_header)\n",
    "df_feature.loc[:,].dropna(axis=0,how='all',inplace=True)\n",
    "\n",
    "df_feature['genres'] = songs_dataset['genres']\n",
    "df_feature.head(10)"
   ]
  },
  {
   "cell_type": "markdown",
   "metadata": {},
   "source": [
    "# Consolidatin addition feature"
   ]
  },
  {
   "cell_type": "code",
   "execution_count": 161,
   "metadata": {
    "scrolled": true
   },
   "outputs": [
    {
     "name": "stdout",
     "output_type": "stream",
     "text": [
      "Dance\n",
      "(1938, 18)\n",
      "Jazz\n",
      "(1677, 18)\n",
      "Rock\n",
      "(6245, 18)\n",
      "Rap\n",
      "(2411, 18)\n"
     ]
    },
    {
     "name": "stderr",
     "output_type": "stream",
     "text": [
      "/Volumes/Data/anaconda3/lib/python3.6/site-packages/ipykernel_launcher.py:2: UserWarning: Boolean Series key will be reindexed to match DataFrame index.\n",
      "  \n",
      "/Volumes/Data/anaconda3/lib/python3.6/site-packages/ipykernel_launcher.py:8: UserWarning: Boolean Series key will be reindexed to match DataFrame index.\n",
      "  \n",
      "/Volumes/Data/anaconda3/lib/python3.6/site-packages/ipykernel_launcher.py:14: UserWarning: Boolean Series key will be reindexed to match DataFrame index.\n",
      "  \n",
      "/Volumes/Data/anaconda3/lib/python3.6/site-packages/ipykernel_launcher.py:20: UserWarning: Boolean Series key will be reindexed to match DataFrame index.\n"
     ]
    }
   ],
   "source": [
    "# Dance\n",
    "dance_df = df_feature[(songs_dataset['genres'] == 'dance') & (songs_dataset['yt_views'] > 1000)]\n",
    "dance_new = pd.DataFrame(dance_df).dropna()\n",
    "print(\"Dance\")\n",
    "print(dance_new.shape)\n",
    "\n",
    "# Jazz\n",
    "jazz_df = df_feature[(songs_dataset['genres'] == 'jazz') & (songs_dataset['yt_views'] > 1000)]\n",
    "jazz_new = pd.DataFrame(jazz_df).dropna()\n",
    "print(\"Jazz\")\n",
    "print(jazz_new.shape)\n",
    "\n",
    "# Rock\n",
    "rock_df = df_feature[(songs_dataset['genres'] == 'rock') & (songs_dataset['yt_views'] > 1000)]\n",
    "rock_new = pd.DataFrame(rock_df).dropna()\n",
    "print(\"Rock\")\n",
    "print(rock_new.shape)\n",
    "\n",
    "# Rap\n",
    "rap_df = df_feature[(songs_dataset['genres'] == 'rap') & (songs_dataset['yt_views'] > 1000)]\n",
    "rap_new = pd.DataFrame(rap_df).dropna()\n",
    "print(\"Rap\")\n",
    "print(rap_new.shape)"
   ]
  },
  {
   "cell_type": "code",
   "execution_count": 162,
   "metadata": {},
   "outputs": [
    {
     "name": "stdout",
     "output_type": "stream",
     "text": [
      "(6000, 18)\n"
     ]
    },
    {
     "data": {
      "text/html": [
       "<div>\n",
       "<style scoped>\n",
       "    .dataframe tbody tr th:only-of-type {\n",
       "        vertical-align: middle;\n",
       "    }\n",
       "\n",
       "    .dataframe tbody tr th {\n",
       "        vertical-align: top;\n",
       "    }\n",
       "\n",
       "    .dataframe thead th {\n",
       "        text-align: right;\n",
       "    }\n",
       "</style>\n",
       "<table border=\"1\" class=\"dataframe\">\n",
       "  <thead>\n",
       "    <tr style=\"text-align: right;\">\n",
       "      <th></th>\n",
       "      <th>key</th>\n",
       "      <th>energy</th>\n",
       "      <th>liveliness</th>\n",
       "      <th>tempo</th>\n",
       "      <th>speechiness</th>\n",
       "      <th>acousticness</th>\n",
       "      <th>instrumentalness</th>\n",
       "      <th>time_signature</th>\n",
       "      <th>duration</th>\n",
       "      <th>loudness</th>\n",
       "      <th>valence</th>\n",
       "      <th>danceability</th>\n",
       "      <th>mode</th>\n",
       "      <th>time_signature_confidence</th>\n",
       "      <th>tempo_confidence</th>\n",
       "      <th>key_confidence</th>\n",
       "      <th>mode_confidence</th>\n",
       "      <th>genres</th>\n",
       "    </tr>\n",
       "  </thead>\n",
       "  <tbody>\n",
       "    <tr>\n",
       "      <th>26872</th>\n",
       "      <td>7.0</td>\n",
       "      <td>0.413997</td>\n",
       "      <td>0.088377</td>\n",
       "      <td>119.965</td>\n",
       "      <td>0.046340</td>\n",
       "      <td>0.905124</td>\n",
       "      <td>0.929734</td>\n",
       "      <td>1.0</td>\n",
       "      <td>4.0</td>\n",
       "      <td>210.10667</td>\n",
       "      <td>-14.422</td>\n",
       "      <td>0.197229</td>\n",
       "      <td>0.694723</td>\n",
       "      <td>0.089</td>\n",
       "      <td>0.304</td>\n",
       "      <td>0.605</td>\n",
       "      <td>0.023</td>\n",
       "      <td>dance</td>\n",
       "    </tr>\n",
       "    <tr>\n",
       "      <th>4582</th>\n",
       "      <td>1.0</td>\n",
       "      <td>0.689778</td>\n",
       "      <td>0.283752</td>\n",
       "      <td>129.482</td>\n",
       "      <td>0.041365</td>\n",
       "      <td>0.011664</td>\n",
       "      <td>0.854270</td>\n",
       "      <td>1.0</td>\n",
       "      <td>4.0</td>\n",
       "      <td>349.52000</td>\n",
       "      <td>-7.279</td>\n",
       "      <td>0.971121</td>\n",
       "      <td>0.659309</td>\n",
       "      <td>0.604</td>\n",
       "      <td>0.577</td>\n",
       "      <td>0.858</td>\n",
       "      <td>0.744</td>\n",
       "      <td>dance</td>\n",
       "    </tr>\n",
       "    <tr>\n",
       "      <th>5038</th>\n",
       "      <td>4.0</td>\n",
       "      <td>0.738654</td>\n",
       "      <td>0.044702</td>\n",
       "      <td>116.792</td>\n",
       "      <td>0.063966</td>\n",
       "      <td>0.044469</td>\n",
       "      <td>0.017710</td>\n",
       "      <td>0.0</td>\n",
       "      <td>4.0</td>\n",
       "      <td>280.46667</td>\n",
       "      <td>-7.814</td>\n",
       "      <td>0.854048</td>\n",
       "      <td>0.781668</td>\n",
       "      <td>0.371</td>\n",
       "      <td>0.324</td>\n",
       "      <td>0.914</td>\n",
       "      <td>1.000</td>\n",
       "      <td>dance</td>\n",
       "    </tr>\n",
       "    <tr>\n",
       "      <th>28575</th>\n",
       "      <td>1.0</td>\n",
       "      <td>0.441488</td>\n",
       "      <td>0.088110</td>\n",
       "      <td>127.994</td>\n",
       "      <td>0.049830</td>\n",
       "      <td>0.000493</td>\n",
       "      <td>0.024812</td>\n",
       "      <td>1.0</td>\n",
       "      <td>4.0</td>\n",
       "      <td>382.50000</td>\n",
       "      <td>-2.997</td>\n",
       "      <td>0.405731</td>\n",
       "      <td>0.654535</td>\n",
       "      <td>0.517</td>\n",
       "      <td>0.300</td>\n",
       "      <td>0.790</td>\n",
       "      <td>1.000</td>\n",
       "      <td>dance</td>\n",
       "    </tr>\n",
       "    <tr>\n",
       "      <th>29054</th>\n",
       "      <td>10.0</td>\n",
       "      <td>0.772109</td>\n",
       "      <td>0.121702</td>\n",
       "      <td>123.166</td>\n",
       "      <td>0.046866</td>\n",
       "      <td>0.003274</td>\n",
       "      <td>0.890622</td>\n",
       "      <td>0.0</td>\n",
       "      <td>4.0</td>\n",
       "      <td>296.41333</td>\n",
       "      <td>-11.219</td>\n",
       "      <td>0.510498</td>\n",
       "      <td>0.792937</td>\n",
       "      <td>0.640</td>\n",
       "      <td>0.692</td>\n",
       "      <td>0.795</td>\n",
       "      <td>1.000</td>\n",
       "      <td>dance</td>\n",
       "    </tr>\n",
       "  </tbody>\n",
       "</table>\n",
       "</div>"
      ],
      "text/plain": [
       "        key    energy  liveliness    tempo  speechiness  acousticness  \\\n",
       "26872   7.0  0.413997    0.088377  119.965     0.046340      0.905124   \n",
       "4582    1.0  0.689778    0.283752  129.482     0.041365      0.011664   \n",
       "5038    4.0  0.738654    0.044702  116.792     0.063966      0.044469   \n",
       "28575   1.0  0.441488    0.088110  127.994     0.049830      0.000493   \n",
       "29054  10.0  0.772109    0.121702  123.166     0.046866      0.003274   \n",
       "\n",
       "       instrumentalness  time_signature  duration   loudness  valence  \\\n",
       "26872          0.929734             1.0       4.0  210.10667  -14.422   \n",
       "4582           0.854270             1.0       4.0  349.52000   -7.279   \n",
       "5038           0.017710             0.0       4.0  280.46667   -7.814   \n",
       "28575          0.024812             1.0       4.0  382.50000   -2.997   \n",
       "29054          0.890622             0.0       4.0  296.41333  -11.219   \n",
       "\n",
       "       danceability      mode  time_signature_confidence  tempo_confidence  \\\n",
       "26872      0.197229  0.694723                      0.089             0.304   \n",
       "4582       0.971121  0.659309                      0.604             0.577   \n",
       "5038       0.854048  0.781668                      0.371             0.324   \n",
       "28575      0.405731  0.654535                      0.517             0.300   \n",
       "29054      0.510498  0.792937                      0.640             0.692   \n",
       "\n",
       "       key_confidence  mode_confidence genres  \n",
       "26872           0.605            0.023  dance  \n",
       "4582            0.858            0.744  dance  \n",
       "5038            0.914            1.000  dance  \n",
       "28575           0.790            1.000  dance  \n",
       "29054           0.795            1.000  dance  "
      ]
     },
     "execution_count": 162,
     "metadata": {},
     "output_type": "execute_result"
    }
   ],
   "source": [
    "data_add_feature = pd.concat((dance_new.sample(n=1500, replace=True), jazz_new.sample(n=1500, replace=True), rock_new.sample(n=1500, replace=True), rap_new.sample(n=1500, replace=True)), axis=0)\n",
    "print(data_add_feature.shape)\n",
    "data_add_feature.head(5)"
   ]
  },
  {
   "cell_type": "code",
   "execution_count": 163,
   "metadata": {},
   "outputs": [
    {
     "data": {
      "text/plain": [
       "array(['dance', 'jazz', 'rock', 'rap'], dtype=object)"
      ]
     },
     "execution_count": 163,
     "metadata": {},
     "output_type": "execute_result"
    }
   ],
   "source": [
    "df_labels = data_add_feature['genres']\n",
    "df_features = data_add_feature.drop('genres', axis=1)\n",
    "df_labels.unique()"
   ]
  },
  {
   "cell_type": "code",
   "execution_count": 164,
   "metadata": {},
   "outputs": [],
   "source": [
    "scander_scaler = StandardScaler()\n",
    "df_features_results = scander_scaler.fit_transform(df_features)"
   ]
  },
  {
   "cell_type": "code",
   "execution_count": 165,
   "metadata": {},
   "outputs": [],
   "source": [
    "from sklearn.cross_validation import train_test_split\n",
    "X = df_features_results\n",
    "y = df_labels\n",
    "\n",
    "X_train, X_test, y_train, y_test = train_test_split(X, y, test_size=0.3, random_state=101)"
   ]
  },
  {
   "cell_type": "markdown",
   "metadata": {},
   "source": [
    "# 2) Build the following classifiers"
   ]
  },
  {
   "cell_type": "code",
   "execution_count": 166,
   "metadata": {
    "scrolled": true
   },
   "outputs": [
    {
     "name": "stdout",
     "output_type": "stream",
     "text": [
      "#LogisticRegression\n",
      "             precision    recall  f1-score   support\n",
      "\n",
      "      dance       0.72      0.71      0.72       455\n",
      "       jazz       0.82      0.80      0.81       437\n",
      "        rap       0.79      0.77      0.78       455\n",
      "       rock       0.68      0.73      0.70       453\n",
      "\n",
      "avg / total       0.75      0.75      0.75      1800\n",
      "\n",
      "#SVC\n",
      "             precision    recall  f1-score   support\n",
      "\n",
      "      dance       0.91      0.62      0.74       455\n",
      "       jazz       0.96      0.51      0.67       437\n",
      "        rap       0.94      0.60      0.74       455\n",
      "       rock       0.44      0.94      0.60       453\n",
      "\n",
      "avg / total       0.81      0.67      0.69      1800\n",
      "\n",
      "#Random Forest\n",
      "             precision    recall  f1-score   support\n",
      "\n",
      "      dance       0.76      0.81      0.78       455\n",
      "       jazz       0.83      0.89      0.86       437\n",
      "        rap       0.82      0.82      0.82       455\n",
      "       rock       0.77      0.68      0.72       453\n",
      "\n",
      "avg / total       0.80      0.80      0.80      1800\n",
      "\n"
     ]
    }
   ],
   "source": [
    "from sklearn.svm import SVC\n",
    "from sklearn.metrics import classification_report\n",
    "from nltk import ConfusionMatrix\n",
    "\n",
    "\n",
    "model_loreg = LogisticRegression(solver='saga',multi_class='multinomial')\n",
    "model_loreg.fit(X_train, y_train)\n",
    "predict = model_loreg.predict(X_test)\n",
    "classifi_report = classification_report(y_test, predict)\n",
    "print(\"#LogisticRegression\")\n",
    "print(classifi_report)\n",
    "\n",
    "\n",
    "model_svc = SVC(C=1, gamma=1)\n",
    "model_svc.fit(X_train, y_train)\n",
    "predict = model_svc.predict(X_test)\n",
    "classifi_report = classification_report(y_test, predict)\n",
    "print(\"#SVC\")\n",
    "print(classifi_report)\n",
    "\n",
    "\n",
    "model_rf = RandomForestClassifier(n_estimators=5,min_samples_split=2, max_features='log2')\n",
    "model_rf.fit(X_train, y_train)\n",
    "predict = model_rf.predict(X_test)\n",
    "classifi_report = classification_report(y_test, predict)\n",
    "print(\"#Random Forest\")\n",
    "print(classifi_report)\n",
    "# confus_mat = ConfusionMatrix(list(y_test), list(predict))"
   ]
  },
  {
   "cell_type": "markdown",
   "metadata": {},
   "source": [
    "# 3) Successfully find the best values for the following classifier parameters using GridSearchCV"
   ]
  },
  {
   "cell_type": "markdown",
   "metadata": {},
   "source": [
    "# SVC"
   ]
  },
  {
   "cell_type": "code",
   "execution_count": 167,
   "metadata": {},
   "outputs": [],
   "source": [
    "from  sklearn.model_selection import GridSearchCV\n",
    "param_grid = {'C': [0.1,1, 10], 'gamma': [1,0.1,0.01,0.001]}"
   ]
  },
  {
   "cell_type": "code",
   "execution_count": 168,
   "metadata": {},
   "outputs": [
    {
     "name": "stdout",
     "output_type": "stream",
     "text": [
      "Fitting 3 folds for each of 12 candidates, totalling 36 fits\n",
      "[CV] C=0.1, gamma=1 ..................................................\n",
      "[CV] ........ C=0.1, gamma=1, score=0.25320970042796004, total=   0.7s\n",
      "[CV] C=0.1, gamma=1 ..................................................\n"
     ]
    },
    {
     "name": "stderr",
     "output_type": "stream",
     "text": [
      "[Parallel(n_jobs=1)]: Done   1 out of   1 | elapsed:    1.4s remaining:    0.0s\n"
     ]
    },
    {
     "name": "stdout",
     "output_type": "stream",
     "text": [
      "[CV] ........ C=0.1, gamma=1, score=0.25303788420300216, total=   1.4s\n",
      "[CV] C=0.1, gamma=1 ..................................................\n"
     ]
    },
    {
     "name": "stderr",
     "output_type": "stream",
     "text": [
      "[Parallel(n_jobs=1)]: Done   2 out of   2 | elapsed:    3.0s remaining:    0.0s\n"
     ]
    },
    {
     "name": "stdout",
     "output_type": "stream",
     "text": [
      "[CV] ........ C=0.1, gamma=1, score=0.25303788420300216, total=   0.7s\n",
      "[CV] C=0.1, gamma=0.1 ................................................\n",
      "[CV] ....... C=0.1, gamma=0.1, score=0.7475035663338089, total=   0.4s\n",
      "[CV] C=0.1, gamma=0.1 ................................................\n",
      "[CV] ....... C=0.1, gamma=0.1, score=0.7412437455325233, total=   0.4s\n",
      "[CV] C=0.1, gamma=0.1 ................................................\n",
      "[CV] ....... C=0.1, gamma=0.1, score=0.7569692637598284, total=   0.6s\n",
      "[CV] C=0.1, gamma=0.01 ...............................................\n",
      "[CV] ...... C=0.1, gamma=0.01, score=0.7432239657631954, total=   0.5s\n",
      "[CV] C=0.1, gamma=0.01 ...............................................\n",
      "[CV] ....... C=0.1, gamma=0.01, score=0.729807005003574, total=   0.5s\n",
      "[CV] C=0.1, gamma=0.01 ...............................................\n",
      "[CV] ...... C=0.1, gamma=0.01, score=0.7648320228734811, total=   1.1s\n",
      "[CV] C=0.1, gamma=0.001 ..............................................\n",
      "[CV] ....... C=0.1, gamma=0.001, score=0.68830242510699, total=   0.7s\n",
      "[CV] C=0.1, gamma=0.001 ..............................................\n",
      "[CV] ..... C=0.1, gamma=0.001, score=0.6726233023588277, total=   0.8s\n",
      "[CV] C=0.1, gamma=0.001 ..............................................\n",
      "[CV] ..... C=0.1, gamma=0.001, score=0.7183702644746247, total=   0.7s\n",
      "[CV] C=1, gamma=1 ....................................................\n",
      "[CV] ........... C=1, gamma=1, score=0.6005706134094151, total=   0.8s\n",
      "[CV] C=1, gamma=1 ....................................................\n",
      "[CV] ........... C=1, gamma=1, score=0.6018584703359543, total=   0.9s\n",
      "[CV] C=1, gamma=1 ....................................................\n",
      "[CV] ............ C=1, gamma=1, score=0.588277340957827, total=   0.7s\n",
      "[CV] C=1, gamma=0.1 ..................................................\n",
      "[CV] ......... C=1, gamma=0.1, score=0.7838801711840229, total=   0.4s\n",
      "[CV] C=1, gamma=0.1 ..................................................\n",
      "[CV] ......... C=1, gamma=0.1, score=0.7969978556111508, total=   0.5s\n",
      "[CV] C=1, gamma=0.1 ..................................................\n",
      "[CV] ......... C=1, gamma=0.1, score=0.7941386704789135, total=   0.3s\n",
      "[CV] C=1, gamma=0.01 .................................................\n",
      "[CV] ........ C=1, gamma=0.01, score=0.7532097004279601, total=   0.3s\n",
      "[CV] C=1, gamma=0.01 .................................................\n",
      "[CV] ........ C=1, gamma=0.01, score=0.7598284488920658, total=   0.3s\n",
      "[CV] C=1, gamma=0.01 .................................................\n",
      "[CV] ........ C=1, gamma=0.01, score=0.7827019299499642, total=   0.3s\n",
      "[CV] C=1, gamma=0.001 ................................................\n",
      "[CV] ....... C=1, gamma=0.001, score=0.7360912981455064, total=   0.4s\n",
      "[CV] C=1, gamma=0.001 ................................................\n",
      "[CV] ........ C=1, gamma=0.001, score=0.725518227305218, total=   0.4s\n",
      "[CV] C=1, gamma=0.001 ................................................\n",
      "[CV] ....... C=1, gamma=0.001, score=0.7648320228734811, total=   0.3s\n",
      "[CV] C=10, gamma=1 ...................................................\n",
      "[CV] ........... C=10, gamma=1, score=0.615549215406562, total=   0.7s\n",
      "[CV] C=10, gamma=1 ...................................................\n",
      "[CV] .......... C=10, gamma=1, score=0.6190135811293781, total=   0.7s\n",
      "[CV] C=10, gamma=1 ...................................................\n",
      "[CV] .......... C=10, gamma=1, score=0.6082916368834882, total=   0.7s\n",
      "[CV] C=10, gamma=0.1 .................................................\n",
      "[CV] ......... C=10, gamma=0.1, score=0.782453637660485, total=   0.4s\n",
      "[CV] C=10, gamma=0.1 .................................................\n",
      "[CV] ........ C=10, gamma=0.1, score=0.7855611150822016, total=   0.4s\n",
      "[CV] C=10, gamma=0.1 .................................................\n",
      "[CV] ......... C=10, gamma=0.1, score=0.781987133666905, total=   0.4s\n",
      "[CV] C=10, gamma=0.01 ................................................\n",
      "[CV] ....... C=10, gamma=0.01, score=0.7653352353780314, total=   0.3s\n",
      "[CV] C=10, gamma=0.01 ................................................\n",
      "[CV] ....... C=10, gamma=0.01, score=0.7698355968548963, total=   0.3s\n",
      "[CV] C=10, gamma=0.01 ................................................\n",
      "[CV] ....... C=10, gamma=0.01, score=0.7912794853466762, total=   0.4s\n",
      "[CV] C=10, gamma=0.001 ...............................................\n",
      "[CV] ...... C=10, gamma=0.001, score=0.7446504992867332, total=   0.3s\n",
      "[CV] C=10, gamma=0.001 ...............................................\n",
      "[CV] ...... C=10, gamma=0.001, score=0.7448177269478199, total=   0.4s\n",
      "[CV] C=10, gamma=0.001 ...............................................\n",
      "[CV] ...... C=10, gamma=0.001, score=0.7748391708363116, total=   0.2s\n"
     ]
    },
    {
     "name": "stderr",
     "output_type": "stream",
     "text": [
      "[Parallel(n_jobs=1)]: Done  36 out of  36 | elapsed:   27.1s finished\n"
     ]
    },
    {
     "data": {
      "text/plain": [
       "GridSearchCV(cv=None, error_score='raise',\n",
       "       estimator=SVC(C=1, cache_size=200, class_weight=None, coef0=0.0,\n",
       "  decision_function_shape='ovr', degree=3, gamma=1, kernel='rbf',\n",
       "  max_iter=-1, probability=False, random_state=None, shrinking=True,\n",
       "  tol=0.001, verbose=False),\n",
       "       fit_params=None, iid=True, n_jobs=1,\n",
       "       param_grid={'C': [0.1, 1, 10], 'gamma': [1, 0.1, 0.01, 0.001]},\n",
       "       pre_dispatch='2*n_jobs', refit=True, return_train_score='warn',\n",
       "       scoring=None, verbose=3)"
      ]
     },
     "execution_count": 168,
     "metadata": {},
     "output_type": "execute_result"
    }
   ],
   "source": [
    "grid = GridSearchCV(model_svc, param_grid, verbose=3)\n",
    "grid.fit(X_train, y_train)"
   ]
  },
  {
   "cell_type": "code",
   "execution_count": 169,
   "metadata": {},
   "outputs": [
    {
     "data": {
      "text/plain": [
       "{'C': 1, 'gamma': 0.1}"
      ]
     },
     "execution_count": 169,
     "metadata": {},
     "output_type": "execute_result"
    }
   ],
   "source": [
    "grid.best_params_"
   ]
  },
  {
   "cell_type": "code",
   "execution_count": 170,
   "metadata": {},
   "outputs": [
    {
     "name": "stdout",
     "output_type": "stream",
     "text": [
      "[[344   7  52  52]\n",
      " [ 11 383   6  37]\n",
      " [ 47  21 368  19]\n",
      " [ 44  54  20 335]]\n",
      "             precision    recall  f1-score   support\n",
      "\n",
      "      dance       0.77      0.76      0.76       455\n",
      "       jazz       0.82      0.88      0.85       437\n",
      "        rap       0.83      0.81      0.82       455\n",
      "       rock       0.76      0.74      0.75       453\n",
      "\n",
      "avg / total       0.79      0.79      0.79      1800\n",
      "\n"
     ]
    }
   ],
   "source": [
    "svc_best = SVC(C=1, gamma=0.1)\n",
    "svc_best.fit(X_train, y_train)\n",
    "svc_predictions = svc_best.predict(X_test)\n",
    "print(confusion_matrix(y_test, svc_predictions))\n",
    "print(classification_report(list(y_test), list(svc_predictions)))"
   ]
  },
  {
   "cell_type": "markdown",
   "metadata": {},
   "source": [
    "# Logistic Regression"
   ]
  },
  {
   "cell_type": "code",
   "execution_count": 178,
   "metadata": {},
   "outputs": [
    {
     "name": "stdout",
     "output_type": "stream",
     "text": [
      "Fitting 3 folds for each of 8 candidates, totalling 24 fits\n",
      "[CV] multi_class=ovr, solver=newton-cg ...............................\n",
      "[CV]  multi_class=ovr, solver=newton-cg, score=0.7439372325249644, total=   0.3s\n",
      "[CV] multi_class=ovr, solver=newton-cg ...............................\n",
      "[CV]  multi_class=ovr, solver=newton-cg, score=0.7526804860614725, total=   0.2s\n",
      "[CV] multi_class=ovr, solver=newton-cg ...............................\n"
     ]
    },
    {
     "name": "stderr",
     "output_type": "stream",
     "text": [
      "[Parallel(n_jobs=1)]: Done   1 out of   1 | elapsed:    0.3s remaining:    0.0s\n",
      "[Parallel(n_jobs=1)]: Done   2 out of   2 | elapsed:    0.5s remaining:    0.0s\n"
     ]
    },
    {
     "name": "stdout",
     "output_type": "stream",
     "text": [
      "[CV]  multi_class=ovr, solver=newton-cg, score=0.773409578270193, total=   0.1s\n",
      "[CV] multi_class=ovr, solver=lbfgs ...................................\n",
      "[CV]  multi_class=ovr, solver=lbfgs, score=0.7439372325249644, total=   0.1s\n",
      "[CV] multi_class=ovr, solver=lbfgs ...................................\n",
      "[CV]  multi_class=ovr, solver=lbfgs, score=0.7526804860614725, total=   0.1s\n",
      "[CV] multi_class=ovr, solver=lbfgs ...................................\n",
      "[CV]  multi_class=ovr, solver=lbfgs, score=0.773409578270193, total=   0.1s\n",
      "[CV] multi_class=ovr, solver=sag .....................................\n",
      "[CV]  multi_class=ovr, solver=sag, score=0.7439372325249644, total=   0.2s\n",
      "[CV] multi_class=ovr, solver=sag .....................................\n",
      "[CV]  multi_class=ovr, solver=sag, score=0.7526804860614725, total=   0.2s\n",
      "[CV] multi_class=ovr, solver=sag .....................................\n",
      "[CV]  multi_class=ovr, solver=sag, score=0.773409578270193, total=   0.2s\n",
      "[CV] multi_class=ovr, solver=saga ....................................\n",
      "[CV]  multi_class=ovr, solver=saga, score=0.7439372325249644, total=   0.3s\n",
      "[CV] multi_class=ovr, solver=saga ....................................\n",
      "[CV]  multi_class=ovr, solver=saga, score=0.7526804860614725, total=   0.3s\n",
      "[CV] multi_class=ovr, solver=saga ....................................\n",
      "[CV]  multi_class=ovr, solver=saga, score=0.773409578270193, total=   0.1s\n",
      "[CV] multi_class=multinomial, solver=newton-cg .......................\n",
      "[CV]  multi_class=multinomial, solver=newton-cg, score=0.7432239657631954, total=   0.2s\n",
      "[CV] multi_class=multinomial, solver=newton-cg .......................\n",
      "[CV]  multi_class=multinomial, solver=newton-cg, score=0.7469621157969979, total=   0.5s\n",
      "[CV] multi_class=multinomial, solver=newton-cg .......................\n",
      "[CV]  multi_class=multinomial, solver=newton-cg, score=0.7698355968548963, total=   0.2s\n",
      "[CV] multi_class=multinomial, solver=lbfgs ...........................\n",
      "[CV]  multi_class=multinomial, solver=lbfgs, score=0.7432239657631954, total=   0.1s\n",
      "[CV] multi_class=multinomial, solver=lbfgs ...........................\n",
      "[CV]  multi_class=multinomial, solver=lbfgs, score=0.7469621157969979, total=   0.1s\n",
      "[CV] multi_class=multinomial, solver=lbfgs ...........................\n",
      "[CV]  multi_class=multinomial, solver=lbfgs, score=0.7698355968548963, total=   0.1s\n",
      "[CV] multi_class=multinomial, solver=sag .............................\n",
      "[CV]  multi_class=multinomial, solver=sag, score=0.7432239657631954, total=   0.3s\n",
      "[CV] multi_class=multinomial, solver=sag .............................\n",
      "[CV]  multi_class=multinomial, solver=sag, score=0.7469621157969979, total=   0.2s\n",
      "[CV] multi_class=multinomial, solver=sag .............................\n",
      "[CV]  multi_class=multinomial, solver=sag, score=0.7698355968548963, total=   0.2s\n",
      "[CV] multi_class=multinomial, solver=saga ............................\n",
      "[CV]  multi_class=multinomial, solver=saga, score=0.7432239657631954, total=   0.1s\n",
      "[CV] multi_class=multinomial, solver=saga ............................\n",
      "[CV]  multi_class=multinomial, solver=saga, score=0.7469621157969979, total=   0.1s\n",
      "[CV] multi_class=multinomial, solver=saga ............................\n",
      "[CV]  multi_class=multinomial, solver=saga, score=0.7698355968548963, total=   0.1s\n"
     ]
    },
    {
     "name": "stderr",
     "output_type": "stream",
     "text": [
      "[Parallel(n_jobs=1)]: Done  24 out of  24 | elapsed:    4.7s finished\n"
     ]
    },
    {
     "data": {
      "text/plain": [
       "GridSearchCV(cv=None, error_score='raise',\n",
       "       estimator=LogisticRegression(C=1.0, class_weight=None, dual=False, fit_intercept=True,\n",
       "          intercept_scaling=1, max_iter=100, multi_class='multinomial',\n",
       "          n_jobs=1, penalty='l2', random_state=None, solver='saga',\n",
       "          tol=0.0001, verbose=0, warm_start=False),\n",
       "       fit_params=None, iid=True, n_jobs=1,\n",
       "       param_grid={'solver': ['newton-cg', 'lbfgs', 'sag', 'saga'], 'multi_class': ['ovr', 'multinomial']},\n",
       "       pre_dispatch='2*n_jobs', refit=True, return_train_score='warn',\n",
       "       scoring=None, verbose=3)"
      ]
     },
     "execution_count": 178,
     "metadata": {},
     "output_type": "execute_result"
    }
   ],
   "source": [
    "param_grid_loreg = {'solver': ['newton-cg', 'lbfgs', 'sag', 'saga'], 'multi_class':['ovr', 'multinomial']}\n",
    "grid_loreg = GridSearchCV(model_loreg, param_grid_loreg, verbose=3)\n",
    "grid_loreg.fit(X_train, y_train)"
   ]
  },
  {
   "cell_type": "code",
   "execution_count": 179,
   "metadata": {},
   "outputs": [
    {
     "data": {
      "text/plain": [
       "{'multi_class': 'ovr', 'solver': 'newton-cg'}"
      ]
     },
     "execution_count": 179,
     "metadata": {},
     "output_type": "execute_result"
    }
   ],
   "source": [
    "grid_loreg.best_params_"
   ]
  },
  {
   "cell_type": "code",
   "execution_count": 185,
   "metadata": {},
   "outputs": [
    {
     "name": "stdout",
     "output_type": "stream",
     "text": [
      "#LogisticRegression\n",
      "             precision    recall  f1-score   support\n",
      "\n",
      "      dance       0.72      0.70      0.71       455\n",
      "       jazz       0.81      0.84      0.82       437\n",
      "        rap       0.78      0.78      0.78       455\n",
      "       rock       0.71      0.72      0.71       453\n",
      "\n",
      "avg / total       0.76      0.76      0.76      1800\n",
      "\n"
     ]
    }
   ],
   "source": [
    "model_loreg_best = LogisticRegression(multi_class='ovr', solver='newton-cg')\n",
    "model_loreg_best.fit(X_train, y_train)\n",
    "predict = model_loreg_best.predict(X_test)\n",
    "classifi_report = classification_report(y_test, predict)\n",
    "print(\"#LogisticRegression\")\n",
    "print(classifi_report)\n",
    "# better a litter"
   ]
  },
  {
   "cell_type": "markdown",
   "metadata": {},
   "source": [
    "# Random Forest"
   ]
  },
  {
   "cell_type": "code",
   "execution_count": 186,
   "metadata": {},
   "outputs": [
    {
     "name": "stdout",
     "output_type": "stream",
     "text": [
      "Fitting 3 folds for each of 45 candidates, totalling 135 fits\n",
      "[CV] max_features=sqrt, min_samples_split=2, n_estimators=5 ..........\n",
      "[CV]  max_features=sqrt, min_samples_split=2, n_estimators=5, score=0.7731811697574893, total=   0.1s\n",
      "[CV] max_features=sqrt, min_samples_split=2, n_estimators=5 ..........\n",
      "[CV]  max_features=sqrt, min_samples_split=2, n_estimators=5, score=0.7634024303073624, total=   0.0s\n",
      "[CV] max_features=sqrt, min_samples_split=2, n_estimators=5 ..........\n",
      "[CV]  max_features=sqrt, min_samples_split=2, n_estimators=5, score=0.7848463187991422, total=   0.0s\n",
      "[CV] max_features=sqrt, min_samples_split=2, n_estimators=10 .........\n"
     ]
    },
    {
     "name": "stderr",
     "output_type": "stream",
     "text": [
      "[Parallel(n_jobs=1)]: Done   1 out of   1 | elapsed:    0.1s remaining:    0.0s\n",
      "[Parallel(n_jobs=1)]: Done   2 out of   2 | elapsed:    0.1s remaining:    0.0s\n"
     ]
    },
    {
     "name": "stdout",
     "output_type": "stream",
     "text": [
      "[CV]  max_features=sqrt, min_samples_split=2, n_estimators=10, score=0.8017118402282454, total=   0.1s\n",
      "[CV] max_features=sqrt, min_samples_split=2, n_estimators=10 .........\n",
      "[CV]  max_features=sqrt, min_samples_split=2, n_estimators=10, score=0.8112937812723374, total=   0.1s\n",
      "[CV] max_features=sqrt, min_samples_split=2, n_estimators=10 .........\n",
      "[CV]  max_features=sqrt, min_samples_split=2, n_estimators=10, score=0.7941386704789135, total=   0.1s\n",
      "[CV] max_features=sqrt, min_samples_split=2, n_estimators=100 ........\n",
      "[CV]  max_features=sqrt, min_samples_split=2, n_estimators=100, score=0.8266761768901569, total=   1.2s\n",
      "[CV] max_features=sqrt, min_samples_split=2, n_estimators=100 ........\n",
      "[CV]  max_features=sqrt, min_samples_split=2, n_estimators=100, score=0.8270192994996426, total=   0.8s\n",
      "[CV] max_features=sqrt, min_samples_split=2, n_estimators=100 ........\n",
      "[CV]  max_features=sqrt, min_samples_split=2, n_estimators=100, score=0.823445318084346, total=   0.9s\n",
      "[CV] max_features=sqrt, min_samples_split=3, n_estimators=5 ..........\n",
      "[CV]  max_features=sqrt, min_samples_split=3, n_estimators=5, score=0.7845934379457917, total=   0.0s\n",
      "[CV] max_features=sqrt, min_samples_split=3, n_estimators=5 ..........\n",
      "[CV]  max_features=sqrt, min_samples_split=3, n_estimators=5, score=0.7626876340243031, total=   0.0s\n",
      "[CV] max_features=sqrt, min_samples_split=3, n_estimators=5 ..........\n",
      "[CV]  max_features=sqrt, min_samples_split=3, n_estimators=5, score=0.7805575411007862, total=   0.0s\n",
      "[CV] max_features=sqrt, min_samples_split=3, n_estimators=10 .........\n",
      "[CV]  max_features=sqrt, min_samples_split=3, n_estimators=10, score=0.8024251069900142, total=   0.1s\n",
      "[CV] max_features=sqrt, min_samples_split=3, n_estimators=10 .........\n",
      "[CV]  max_features=sqrt, min_samples_split=3, n_estimators=10, score=0.7927090779127949, total=   0.1s\n",
      "[CV] max_features=sqrt, min_samples_split=3, n_estimators=10 .........\n",
      "[CV]  max_features=sqrt, min_samples_split=3, n_estimators=10, score=0.8091493924231594, total=   0.1s\n",
      "[CV] max_features=sqrt, min_samples_split=3, n_estimators=100 ........\n",
      "[CV]  max_features=sqrt, min_samples_split=3, n_estimators=100, score=0.8174037089871612, total=   1.3s\n",
      "[CV] max_features=sqrt, min_samples_split=3, n_estimators=100 ........\n",
      "[CV]  max_features=sqrt, min_samples_split=3, n_estimators=100, score=0.8241601143674053, total=   0.7s\n",
      "[CV] max_features=sqrt, min_samples_split=3, n_estimators=100 ........\n",
      "[CV]  max_features=sqrt, min_samples_split=3, n_estimators=100, score=0.8248749106504646, total=   0.7s\n",
      "[CV] max_features=sqrt, min_samples_split=4, n_estimators=5 ..........\n",
      "[CV]  max_features=sqrt, min_samples_split=4, n_estimators=5, score=0.776034236804565, total=   0.0s\n",
      "[CV] max_features=sqrt, min_samples_split=4, n_estimators=5 ..........\n",
      "[CV]  max_features=sqrt, min_samples_split=4, n_estimators=5, score=0.7698355968548963, total=   0.0s\n",
      "[CV] max_features=sqrt, min_samples_split=4, n_estimators=5 ..........\n",
      "[CV]  max_features=sqrt, min_samples_split=4, n_estimators=5, score=0.7834167262330236, total=   0.0s\n",
      "[CV] max_features=sqrt, min_samples_split=4, n_estimators=10 .........\n",
      "[CV]  max_features=sqrt, min_samples_split=4, n_estimators=10, score=0.7960057061340942, total=   0.1s\n",
      "[CV] max_features=sqrt, min_samples_split=4, n_estimators=10 .........\n",
      "[CV]  max_features=sqrt, min_samples_split=4, n_estimators=10, score=0.812723373838456, total=   0.1s\n",
      "[CV] max_features=sqrt, min_samples_split=4, n_estimators=10 .........\n",
      "[CV]  max_features=sqrt, min_samples_split=4, n_estimators=10, score=0.8027162258756254, total=   0.1s\n",
      "[CV] max_features=sqrt, min_samples_split=4, n_estimators=100 ........\n",
      "[CV]  max_features=sqrt, min_samples_split=4, n_estimators=100, score=0.8216833095577746, total=   2.1s\n",
      "[CV] max_features=sqrt, min_samples_split=4, n_estimators=100 ........\n",
      "[CV]  max_features=sqrt, min_samples_split=4, n_estimators=100, score=0.8291636883488206, total=   0.8s\n",
      "[CV] max_features=sqrt, min_samples_split=4, n_estimators=100 ........\n",
      "[CV]  max_features=sqrt, min_samples_split=4, n_estimators=100, score=0.8270192994996426, total=   1.2s\n",
      "[CV] max_features=sqrt, min_samples_split=5, n_estimators=5 ..........\n",
      "[CV]  max_features=sqrt, min_samples_split=5, n_estimators=5, score=0.7774607703281027, total=   0.1s\n",
      "[CV] max_features=sqrt, min_samples_split=5, n_estimators=5 ..........\n",
      "[CV]  max_features=sqrt, min_samples_split=5, n_estimators=5, score=0.7612580414581844, total=   0.1s\n",
      "[CV] max_features=sqrt, min_samples_split=5, n_estimators=5 ..........\n",
      "[CV]  max_features=sqrt, min_samples_split=5, n_estimators=5, score=0.777698355968549, total=   0.1s\n",
      "[CV] max_features=sqrt, min_samples_split=5, n_estimators=10 .........\n",
      "[CV]  max_features=sqrt, min_samples_split=5, n_estimators=10, score=0.796718972895863, total=   0.1s\n",
      "[CV] max_features=sqrt, min_samples_split=5, n_estimators=10 .........\n",
      "[CV]  max_features=sqrt, min_samples_split=5, n_estimators=10, score=0.7941386704789135, total=   0.1s\n",
      "[CV] max_features=sqrt, min_samples_split=5, n_estimators=10 .........\n",
      "[CV]  max_features=sqrt, min_samples_split=5, n_estimators=10, score=0.7962830593280915, total=   0.1s\n",
      "[CV] max_features=sqrt, min_samples_split=5, n_estimators=100 ........\n",
      "[CV]  max_features=sqrt, min_samples_split=5, n_estimators=100, score=0.8202567760342369, total=   1.1s\n",
      "[CV] max_features=sqrt, min_samples_split=5, n_estimators=100 ........\n",
      "[CV]  max_features=sqrt, min_samples_split=5, n_estimators=100, score=0.8248749106504646, total=   1.0s\n",
      "[CV] max_features=sqrt, min_samples_split=5, n_estimators=100 ........\n",
      "[CV]  max_features=sqrt, min_samples_split=5, n_estimators=100, score=0.8284488920657612, total=   0.9s\n",
      "[CV] max_features=sqrt, min_samples_split=10, n_estimators=5 .........\n",
      "[CV]  max_features=sqrt, min_samples_split=10, n_estimators=5, score=0.7717546362339515, total=   0.1s\n",
      "[CV] max_features=sqrt, min_samples_split=10, n_estimators=5 .........\n",
      "[CV]  max_features=sqrt, min_samples_split=10, n_estimators=5, score=0.7641172265904217, total=   0.1s\n",
      "[CV] max_features=sqrt, min_samples_split=10, n_estimators=5 .........\n",
      "[CV]  max_features=sqrt, min_samples_split=10, n_estimators=5, score=0.779842744817727, total=   0.0s\n",
      "[CV] max_features=sqrt, min_samples_split=10, n_estimators=10 ........\n",
      "[CV]  max_features=sqrt, min_samples_split=10, n_estimators=10, score=0.7952924393723253, total=   0.1s\n",
      "[CV] max_features=sqrt, min_samples_split=10, n_estimators=10 ........\n",
      "[CV]  max_features=sqrt, min_samples_split=10, n_estimators=10, score=0.781987133666905, total=   0.1s\n",
      "[CV] max_features=sqrt, min_samples_split=10, n_estimators=10 ........\n",
      "[CV]  max_features=sqrt, min_samples_split=10, n_estimators=10, score=0.8098641887062187, total=   0.1s\n",
      "[CV] max_features=sqrt, min_samples_split=10, n_estimators=100 .......\n",
      "[CV]  max_features=sqrt, min_samples_split=10, n_estimators=100, score=0.8195435092724679, total=   0.8s\n",
      "[CV] max_features=sqrt, min_samples_split=10, n_estimators=100 .......\n",
      "[CV]  max_features=sqrt, min_samples_split=10, n_estimators=100, score=0.8170121515368121, total=   1.1s\n",
      "[CV] max_features=sqrt, min_samples_split=10, n_estimators=100 .......\n",
      "[CV]  max_features=sqrt, min_samples_split=10, n_estimators=100, score=0.8134381701215153, total=   0.7s\n",
      "[CV] max_features=log2, min_samples_split=2, n_estimators=5 ..........\n",
      "[CV]  max_features=log2, min_samples_split=2, n_estimators=5, score=0.7653352353780314, total=   0.0s\n",
      "[CV] max_features=log2, min_samples_split=2, n_estimators=5 ..........\n",
      "[CV]  max_features=log2, min_samples_split=2, n_estimators=5, score=0.7741243745532523, total=   0.0s\n",
      "[CV] max_features=log2, min_samples_split=2, n_estimators=5 ..........\n",
      "[CV]  max_features=log2, min_samples_split=2, n_estimators=5, score=0.7841315225160829, total=   0.0s\n",
      "[CV] max_features=log2, min_samples_split=2, n_estimators=10 .........\n",
      "[CV]  max_features=log2, min_samples_split=2, n_estimators=10, score=0.8059914407988588, total=   0.1s\n",
      "[CV] max_features=log2, min_samples_split=2, n_estimators=10 .........\n",
      "[CV]  max_features=log2, min_samples_split=2, n_estimators=10, score=0.7919942816297355, total=   0.1s\n",
      "[CV] max_features=log2, min_samples_split=2, n_estimators=10 .........\n",
      "[CV]  max_features=log2, min_samples_split=2, n_estimators=10, score=0.8148677626876341, total=   0.1s\n",
      "[CV] max_features=log2, min_samples_split=2, n_estimators=100 ........\n"
     ]
    },
    {
     "name": "stdout",
     "output_type": "stream",
     "text": [
      "[CV]  max_features=log2, min_samples_split=2, n_estimators=100, score=0.8252496433666191, total=   0.8s\n",
      "[CV] max_features=log2, min_samples_split=2, n_estimators=100 ........\n",
      "[CV]  max_features=log2, min_samples_split=2, n_estimators=100, score=0.8263045032165832, total=   0.8s\n",
      "[CV] max_features=log2, min_samples_split=2, n_estimators=100 ........\n",
      "[CV]  max_features=log2, min_samples_split=2, n_estimators=100, score=0.8248749106504646, total=   1.1s\n",
      "[CV] max_features=log2, min_samples_split=3, n_estimators=5 ..........\n",
      "[CV]  max_features=log2, min_samples_split=3, n_estimators=5, score=0.776034236804565, total=   0.1s\n",
      "[CV] max_features=log2, min_samples_split=3, n_estimators=5 ..........\n",
      "[CV]  max_features=log2, min_samples_split=3, n_estimators=5, score=0.7726947819871337, total=   0.2s\n",
      "[CV] max_features=log2, min_samples_split=3, n_estimators=5 ..........\n",
      "[CV]  max_features=log2, min_samples_split=3, n_estimators=5, score=0.773409578270193, total=   0.1s\n",
      "[CV] max_features=log2, min_samples_split=3, n_estimators=10 .........\n",
      "[CV]  max_features=log2, min_samples_split=3, n_estimators=10, score=0.7981455064194009, total=   0.1s\n",
      "[CV] max_features=log2, min_samples_split=3, n_estimators=10 .........\n",
      "[CV]  max_features=log2, min_samples_split=3, n_estimators=10, score=0.8027162258756254, total=   0.1s\n",
      "[CV] max_features=log2, min_samples_split=3, n_estimators=10 .........\n",
      "[CV]  max_features=log2, min_samples_split=3, n_estimators=10, score=0.8020014295925662, total=   0.2s\n",
      "[CV] max_features=log2, min_samples_split=3, n_estimators=100 ........\n",
      "[CV]  max_features=log2, min_samples_split=3, n_estimators=100, score=0.8231098430813124, total=   2.1s\n",
      "[CV] max_features=log2, min_samples_split=3, n_estimators=100 ........\n",
      "[CV]  max_features=log2, min_samples_split=3, n_estimators=100, score=0.8348820586132952, total=   1.2s\n",
      "[CV] max_features=log2, min_samples_split=3, n_estimators=100 ........\n",
      "[CV]  max_features=log2, min_samples_split=3, n_estimators=100, score=0.8270192994996426, total=   1.0s\n",
      "[CV] max_features=log2, min_samples_split=4, n_estimators=5 ..........\n",
      "[CV]  max_features=log2, min_samples_split=4, n_estimators=5, score=0.7681883024251069, total=   0.0s\n",
      "[CV] max_features=log2, min_samples_split=4, n_estimators=5 ..........\n",
      "[CV]  max_features=log2, min_samples_split=4, n_estimators=5, score=0.7662616154395997, total=   0.1s\n",
      "[CV] max_features=log2, min_samples_split=4, n_estimators=5 ..........\n",
      "[CV]  max_features=log2, min_samples_split=4, n_estimators=5, score=0.7862759113652609, total=   0.0s\n",
      "[CV] max_features=log2, min_samples_split=4, n_estimators=10 .........\n",
      "[CV]  max_features=log2, min_samples_split=4, n_estimators=10, score=0.8059914407988588, total=   0.1s\n",
      "[CV] max_features=log2, min_samples_split=4, n_estimators=10 .........\n",
      "[CV]  max_features=log2, min_samples_split=4, n_estimators=10, score=0.781987133666905, total=   0.1s\n",
      "[CV] max_features=log2, min_samples_split=4, n_estimators=10 .........\n",
      "[CV]  max_features=log2, min_samples_split=4, n_estimators=10, score=0.8134381701215153, total=   0.1s\n",
      "[CV] max_features=log2, min_samples_split=4, n_estimators=100 ........\n",
      "[CV]  max_features=log2, min_samples_split=4, n_estimators=100, score=0.8195435092724679, total=   1.1s\n",
      "[CV] max_features=log2, min_samples_split=4, n_estimators=100 ........\n",
      "[CV]  max_features=log2, min_samples_split=4, n_estimators=100, score=0.8291636883488206, total=   1.2s\n",
      "[CV] max_features=log2, min_samples_split=4, n_estimators=100 ........\n",
      "[CV]  max_features=log2, min_samples_split=4, n_estimators=100, score=0.8291636883488206, total=   0.8s\n",
      "[CV] max_features=log2, min_samples_split=5, n_estimators=5 ..........\n",
      "[CV]  max_features=log2, min_samples_split=5, n_estimators=5, score=0.7788873038516405, total=   0.1s\n",
      "[CV] max_features=log2, min_samples_split=5, n_estimators=5 ..........\n",
      "[CV]  max_features=log2, min_samples_split=5, n_estimators=5, score=0.7698355968548963, total=   0.1s\n",
      "[CV] max_features=log2, min_samples_split=5, n_estimators=5 ..........\n",
      "[CV]  max_features=log2, min_samples_split=5, n_estimators=5, score=0.7641172265904217, total=   0.1s\n",
      "[CV] max_features=log2, min_samples_split=5, n_estimators=10 .........\n",
      "[CV]  max_features=log2, min_samples_split=5, n_estimators=10, score=0.797432239657632, total=   0.2s\n",
      "[CV] max_features=log2, min_samples_split=5, n_estimators=10 .........\n",
      "[CV]  max_features=log2, min_samples_split=5, n_estimators=10, score=0.8041458184417442, total=   0.1s\n",
      "[CV] max_features=log2, min_samples_split=5, n_estimators=10 .........\n",
      "[CV]  max_features=log2, min_samples_split=5, n_estimators=10, score=0.7984274481772695, total=   0.1s\n",
      "[CV] max_features=log2, min_samples_split=5, n_estimators=100 ........\n",
      "[CV]  max_features=log2, min_samples_split=5, n_estimators=100, score=0.8216833095577746, total=   0.8s\n",
      "[CV] max_features=log2, min_samples_split=5, n_estimators=100 ........\n",
      "[CV]  max_features=log2, min_samples_split=5, n_estimators=100, score=0.825589706933524, total=   0.8s\n",
      "[CV] max_features=log2, min_samples_split=5, n_estimators=100 ........\n",
      "[CV]  max_features=log2, min_samples_split=5, n_estimators=100, score=0.81915654038599, total=   0.8s\n",
      "[CV] max_features=log2, min_samples_split=10, n_estimators=5 .........\n",
      "[CV]  max_features=log2, min_samples_split=10, n_estimators=5, score=0.7731811697574893, total=   0.1s\n",
      "[CV] max_features=log2, min_samples_split=10, n_estimators=5 .........\n",
      "[CV]  max_features=log2, min_samples_split=10, n_estimators=5, score=0.7605432451751251, total=   0.0s\n",
      "[CV] max_features=log2, min_samples_split=10, n_estimators=5 .........\n",
      "[CV]  max_features=log2, min_samples_split=10, n_estimators=5, score=0.7841315225160829, total=   0.0s\n",
      "[CV] max_features=log2, min_samples_split=10, n_estimators=10 ........\n",
      "[CV]  max_features=log2, min_samples_split=10, n_estimators=10, score=0.7888730385164051, total=   0.1s\n",
      "[CV] max_features=log2, min_samples_split=10, n_estimators=10 ........\n",
      "[CV]  max_features=log2, min_samples_split=10, n_estimators=10, score=0.7977126518942101, total=   0.1s\n",
      "[CV] max_features=log2, min_samples_split=10, n_estimators=10 ........\n",
      "[CV]  max_features=log2, min_samples_split=10, n_estimators=10, score=0.8041458184417442, total=   0.1s\n",
      "[CV] max_features=log2, min_samples_split=10, n_estimators=100 .......\n",
      "[CV]  max_features=log2, min_samples_split=10, n_estimators=100, score=0.8159771754636234, total=   0.8s\n",
      "[CV] max_features=log2, min_samples_split=10, n_estimators=100 .......\n",
      "[CV]  max_features=log2, min_samples_split=10, n_estimators=100, score=0.8155825589706933, total=   0.8s\n",
      "[CV] max_features=log2, min_samples_split=10, n_estimators=100 .......\n",
      "[CV]  max_features=log2, min_samples_split=10, n_estimators=100, score=0.8177269478198713, total=   0.9s\n",
      "[CV] max_features=auto, min_samples_split=2, n_estimators=5 ..........\n",
      "[CV]  max_features=auto, min_samples_split=2, n_estimators=5, score=0.775320970042796, total=   0.0s\n",
      "[CV] max_features=auto, min_samples_split=2, n_estimators=5 ..........\n",
      "[CV]  max_features=auto, min_samples_split=2, n_estimators=5, score=0.7648320228734811, total=   0.0s\n",
      "[CV] max_features=auto, min_samples_split=2, n_estimators=5 ..........\n",
      "[CV]  max_features=auto, min_samples_split=2, n_estimators=5, score=0.777698355968549, total=   0.0s\n",
      "[CV] max_features=auto, min_samples_split=2, n_estimators=10 .........\n",
      "[CV]  max_features=auto, min_samples_split=2, n_estimators=10, score=0.8109843081312411, total=   0.1s\n",
      "[CV] max_features=auto, min_samples_split=2, n_estimators=10 .........\n",
      "[CV]  max_features=auto, min_samples_split=2, n_estimators=10, score=0.7962830593280915, total=   0.1s\n",
      "[CV] max_features=auto, min_samples_split=2, n_estimators=10 .........\n",
      "[CV]  max_features=auto, min_samples_split=2, n_estimators=10, score=0.8020014295925662, total=   0.1s\n",
      "[CV] max_features=auto, min_samples_split=2, n_estimators=100 ........\n",
      "[CV]  max_features=auto, min_samples_split=2, n_estimators=100, score=0.8259629101283881, total=   0.8s\n",
      "[CV] max_features=auto, min_samples_split=2, n_estimators=100 ........\n",
      "[CV]  max_features=auto, min_samples_split=2, n_estimators=100, score=0.8363116511794139, total=   0.8s\n",
      "[CV] max_features=auto, min_samples_split=2, n_estimators=100 ........\n",
      "[CV]  max_features=auto, min_samples_split=2, n_estimators=100, score=0.8205861329521087, total=   0.8s\n",
      "[CV] max_features=auto, min_samples_split=3, n_estimators=5 ..........\n",
      "[CV]  max_features=auto, min_samples_split=3, n_estimators=5, score=0.7931526390870185, total=   0.1s\n",
      "[CV] max_features=auto, min_samples_split=3, n_estimators=5 ..........\n",
      "[CV]  max_features=auto, min_samples_split=3, n_estimators=5, score=0.7827019299499642, total=   0.0s\n",
      "[CV] max_features=auto, min_samples_split=3, n_estimators=5 ..........\n",
      "[CV]  max_features=auto, min_samples_split=3, n_estimators=5, score=0.7726947819871337, total=   0.0s\n",
      "[CV] max_features=auto, min_samples_split=3, n_estimators=10 .........\n"
     ]
    },
    {
     "name": "stdout",
     "output_type": "stream",
     "text": [
      "[CV]  max_features=auto, min_samples_split=3, n_estimators=10, score=0.7945791726105563, total=   0.1s\n",
      "[CV] max_features=auto, min_samples_split=3, n_estimators=10 .........\n",
      "[CV]  max_features=auto, min_samples_split=3, n_estimators=10, score=0.7962830593280915, total=   0.1s\n",
      "[CV] max_features=auto, min_samples_split=3, n_estimators=10 .........\n",
      "[CV]  max_features=auto, min_samples_split=3, n_estimators=10, score=0.8084345961401, total=   0.1s\n",
      "[CV] max_features=auto, min_samples_split=3, n_estimators=100 ........\n",
      "[CV]  max_features=auto, min_samples_split=3, n_estimators=100, score=0.8245363766048502, total=   1.1s\n",
      "[CV] max_features=auto, min_samples_split=3, n_estimators=100 ........\n",
      "[CV]  max_features=auto, min_samples_split=3, n_estimators=100, score=0.82987848463188, total=   0.9s\n",
      "[CV] max_features=auto, min_samples_split=3, n_estimators=100 ........\n",
      "[CV]  max_features=auto, min_samples_split=3, n_estimators=100, score=0.8148677626876341, total=   0.7s\n",
      "[CV] max_features=auto, min_samples_split=4, n_estimators=5 ..........\n",
      "[CV]  max_features=auto, min_samples_split=4, n_estimators=5, score=0.7703281027104137, total=   0.1s\n",
      "[CV] max_features=auto, min_samples_split=4, n_estimators=5 ..........\n",
      "[CV]  max_features=auto, min_samples_split=4, n_estimators=5, score=0.7791279485346676, total=   0.1s\n",
      "[CV] max_features=auto, min_samples_split=4, n_estimators=5 ..........\n",
      "[CV]  max_features=auto, min_samples_split=4, n_estimators=5, score=0.7934238741958541, total=   0.1s\n",
      "[CV] max_features=auto, min_samples_split=4, n_estimators=10 .........\n",
      "[CV]  max_features=auto, min_samples_split=4, n_estimators=10, score=0.7895863052781741, total=   0.1s\n",
      "[CV] max_features=auto, min_samples_split=4, n_estimators=10 .........\n",
      "[CV]  max_features=auto, min_samples_split=4, n_estimators=10, score=0.7941386704789135, total=   0.1s\n",
      "[CV] max_features=auto, min_samples_split=4, n_estimators=10 .........\n",
      "[CV]  max_features=auto, min_samples_split=4, n_estimators=10, score=0.7977126518942101, total=   0.1s\n",
      "[CV] max_features=auto, min_samples_split=4, n_estimators=100 ........\n",
      "[CV]  max_features=auto, min_samples_split=4, n_estimators=100, score=0.8252496433666191, total=   1.1s\n",
      "[CV] max_features=auto, min_samples_split=4, n_estimators=100 ........\n",
      "[CV]  max_features=auto, min_samples_split=4, n_estimators=100, score=0.8241601143674053, total=   0.8s\n",
      "[CV] max_features=auto, min_samples_split=4, n_estimators=100 ........\n",
      "[CV]  max_features=auto, min_samples_split=4, n_estimators=100, score=0.8248749106504646, total=   0.8s\n",
      "[CV] max_features=auto, min_samples_split=5, n_estimators=5 ..........\n",
      "[CV]  max_features=auto, min_samples_split=5, n_estimators=5, score=0.7674750356633381, total=   0.1s\n",
      "[CV] max_features=auto, min_samples_split=5, n_estimators=5 ..........\n",
      "[CV]  max_features=auto, min_samples_split=5, n_estimators=5, score=0.7869907076483202, total=   0.1s\n",
      "[CV] max_features=auto, min_samples_split=5, n_estimators=5 ..........\n",
      "[CV]  max_features=auto, min_samples_split=5, n_estimators=5, score=0.7877055039313795, total=   0.1s\n",
      "[CV] max_features=auto, min_samples_split=5, n_estimators=10 .........\n",
      "[CV]  max_features=auto, min_samples_split=5, n_estimators=10, score=0.8031383737517832, total=   0.2s\n",
      "[CV] max_features=auto, min_samples_split=5, n_estimators=10 .........\n",
      "[CV]  max_features=auto, min_samples_split=5, n_estimators=10, score=0.8012866333095068, total=   0.1s\n",
      "[CV] max_features=auto, min_samples_split=5, n_estimators=10 .........\n",
      "[CV]  max_features=auto, min_samples_split=5, n_estimators=10, score=0.8034310221586848, total=   0.2s\n",
      "[CV] max_features=auto, min_samples_split=5, n_estimators=100 ........\n",
      "[CV]  max_features=auto, min_samples_split=5, n_estimators=100, score=0.8223965763195435, total=   0.8s\n",
      "[CV] max_features=auto, min_samples_split=5, n_estimators=100 ........\n",
      "[CV]  max_features=auto, min_samples_split=5, n_estimators=100, score=0.8305932809149392, total=   0.8s\n",
      "[CV] max_features=auto, min_samples_split=5, n_estimators=100 ........\n",
      "[CV]  max_features=auto, min_samples_split=5, n_estimators=100, score=0.823445318084346, total=   0.8s\n",
      "[CV] max_features=auto, min_samples_split=10, n_estimators=5 .........\n",
      "[CV]  max_features=auto, min_samples_split=10, n_estimators=5, score=0.7774607703281027, total=   0.0s\n",
      "[CV] max_features=auto, min_samples_split=10, n_estimators=5 .........\n",
      "[CV]  max_features=auto, min_samples_split=10, n_estimators=5, score=0.7619728377412437, total=   0.0s\n",
      "[CV] max_features=auto, min_samples_split=10, n_estimators=5 .........\n",
      "[CV]  max_features=auto, min_samples_split=10, n_estimators=5, score=0.775553967119371, total=   0.0s\n",
      "[CV] max_features=auto, min_samples_split=10, n_estimators=10 ........\n",
      "[CV]  max_features=auto, min_samples_split=10, n_estimators=10, score=0.7938659058487875, total=   0.1s\n",
      "[CV] max_features=auto, min_samples_split=10, n_estimators=10 ........\n",
      "[CV]  max_features=auto, min_samples_split=10, n_estimators=10, score=0.7934238741958541, total=   0.1s\n",
      "[CV] max_features=auto, min_samples_split=10, n_estimators=10 ........\n",
      "[CV]  max_features=auto, min_samples_split=10, n_estimators=10, score=0.8020014295925662, total=   0.2s\n",
      "[CV] max_features=auto, min_samples_split=10, n_estimators=100 .......\n",
      "[CV]  max_features=auto, min_samples_split=10, n_estimators=100, score=0.8152639087018545, total=   1.0s\n",
      "[CV] max_features=auto, min_samples_split=10, n_estimators=100 .......\n",
      "[CV]  max_features=auto, min_samples_split=10, n_estimators=100, score=0.8170121515368121, total=   0.8s\n",
      "[CV] max_features=auto, min_samples_split=10, n_estimators=100 .......\n",
      "[CV]  max_features=auto, min_samples_split=10, n_estimators=100, score=0.8184417441029307, total=   0.9s\n"
     ]
    },
    {
     "name": "stderr",
     "output_type": "stream",
     "text": [
      "[Parallel(n_jobs=1)]: Done 135 out of 135 | elapsed:   54.7s finished\n"
     ]
    },
    {
     "data": {
      "text/plain": [
       "GridSearchCV(cv=None, error_score='raise',\n",
       "       estimator=RandomForestClassifier(bootstrap=True, class_weight=None, criterion='gini',\n",
       "            max_depth=None, max_features='log2', max_leaf_nodes=None,\n",
       "            min_impurity_decrease=0.0, min_impurity_split=None,\n",
       "            min_samples_leaf=1, min_samples_split=2,\n",
       "            min_weight_fraction_leaf=0.0, n_estimators=5, n_jobs=1,\n",
       "            oob_score=False, random_state=None, verbose=0,\n",
       "            warm_start=False),\n",
       "       fit_params=None, iid=True, n_jobs=1,\n",
       "       param_grid={'n_estimators': [5, 10, 100], 'min_samples_split': [2, 3, 4, 5, 10], 'max_features': ['sqrt', 'log2', 'auto']},\n",
       "       pre_dispatch='2*n_jobs', refit=True, return_train_score='warn',\n",
       "       scoring=None, verbose=3)"
      ]
     },
     "execution_count": 186,
     "metadata": {},
     "output_type": "execute_result"
    }
   ],
   "source": [
    "param_grid_rf = {'n_estimators':[5, 10, 100], 'min_samples_split':[2, 3, 4, 5, 10], 'max_features': ['sqrt', 'log2', 'auto']}\n",
    "grid_rf = GridSearchCV(model_rf, param_grid_rf, verbose=3)\n",
    "grid_rf.fit(X_train, y_train)"
   ]
  },
  {
   "cell_type": "code",
   "execution_count": 187,
   "metadata": {},
   "outputs": [
    {
     "data": {
      "text/plain": [
       "{'max_features': 'log2', 'min_samples_split': 3, 'n_estimators': 100}"
      ]
     },
     "execution_count": 187,
     "metadata": {},
     "output_type": "execute_result"
    }
   ],
   "source": [
    "grid_rf.best_params_"
   ]
  },
  {
   "cell_type": "code",
   "execution_count": 189,
   "metadata": {},
   "outputs": [
    {
     "name": "stdout",
     "output_type": "stream",
     "text": [
      "             precision    recall  f1-score   support\n",
      "\n",
      "      dance       0.86      0.84      0.85       455\n",
      "       jazz       0.89      0.90      0.90       437\n",
      "        rap       0.88      0.89      0.88       455\n",
      "       rock       0.81      0.81      0.81       453\n",
      "\n",
      "avg / total       0.86      0.86      0.86      1800\n",
      "\n"
     ]
    }
   ],
   "source": [
    "model_rf_best = RandomForestClassifier(n_estimators=100,min_samples_split=3, max_features='log2')\n",
    "model_rf_best.fit(X_train, y_train)\n",
    "predict = model_rf_best.predict(X_test)\n",
    "classifi_report = classification_report(y_test, predict)\n",
    "print(classifi_report)"
   ]
  },
  {
   "cell_type": "markdown",
   "metadata": {},
   "source": [
    "# 4) Successfully find the best audio_features for all classifiers using the following feature selection methods:"
   ]
  },
  {
   "cell_type": "markdown",
   "metadata": {},
   "source": [
    "# Support Vector Machine - SelectKBest"
   ]
  },
  {
   "cell_type": "code",
   "execution_count": 142,
   "metadata": {},
   "outputs": [
    {
     "data": {
      "text/plain": [
       "(6000, 5)"
      ]
     },
     "execution_count": 142,
     "metadata": {},
     "output_type": "execute_result"
    }
   ],
   "source": [
    "selectK = SelectKBest(k=5)\n",
    "X_new = selectK.fit_transform(X, y)\n",
    "X_new.shape"
   ]
  },
  {
   "cell_type": "code",
   "execution_count": 191,
   "metadata": {},
   "outputs": [
    {
     "data": {
      "text/plain": [
       "['key', 'energy', 'liveliness', 'tempo', 'speechiness']"
      ]
     },
     "execution_count": 191,
     "metadata": {},
     "output_type": "execute_result"
    }
   ],
   "source": [
    "df_features.columns[selectK.get_support(indices=True)].tolist()"
   ]
  },
  {
   "cell_type": "markdown",
   "metadata": {},
   "source": [
    "# Logistic Regression - SelectFromModel - RFE"
   ]
  },
  {
   "cell_type": "code",
   "execution_count": 145,
   "metadata": {},
   "outputs": [],
   "source": [
    "from numpy import sort\n",
    "from sklearn.metrics import accuracy_score\n",
    "from sklearn.feature_selection import SelectFromModel, RFE"
   ]
  },
  {
   "cell_type": "code",
   "execution_count": 147,
   "metadata": {},
   "outputs": [
    {
     "ename": "NameError",
     "evalue": "name 'rfc_original' is not defined",
     "output_type": "error",
     "traceback": [
      "\u001b[0;31m---------------------------------------------------------------------------\u001b[0m",
      "\u001b[0;31mNameError\u001b[0m                                 Traceback (most recent call last)",
      "\u001b[0;32m<ipython-input-147-0aaedc4dd5b4>\u001b[0m in \u001b[0;36m<module>\u001b[0;34m()\u001b[0m\n\u001b[0;32m----> 1\u001b[0;31m \u001b[0mrfe\u001b[0m \u001b[0;34m=\u001b[0m \u001b[0mRFE\u001b[0m\u001b[0;34m(\u001b[0m\u001b[0mrfc_original\u001b[0m\u001b[0;34m,\u001b[0m \u001b[0;36m5\u001b[0m\u001b[0;34m)\u001b[0m\u001b[0;34m\u001b[0m\u001b[0m\n\u001b[0m\u001b[1;32m      2\u001b[0m \u001b[0mrfc_5\u001b[0m \u001b[0;34m=\u001b[0m \u001b[0mrfe\u001b[0m\u001b[0;34m.\u001b[0m\u001b[0mfit\u001b[0m\u001b[0;34m(\u001b[0m\u001b[0mX\u001b[0m\u001b[0;34m,\u001b[0m \u001b[0my\u001b[0m\u001b[0;34m)\u001b[0m\u001b[0;34m\u001b[0m\u001b[0m\n\u001b[1;32m      3\u001b[0m \u001b[0mprint\u001b[0m \u001b[0;34m(\u001b[0m\u001b[0;34m'5 importance features: '\u001b[0m\u001b[0;34m)\u001b[0m\u001b[0;34m\u001b[0m\u001b[0m\n\u001b[1;32m      4\u001b[0m \u001b[0mdf_audio_features_jdrr_final\u001b[0m\u001b[0;34m.\u001b[0m\u001b[0mcolumns\u001b[0m\u001b[0;34m[\u001b[0m\u001b[0mrfe\u001b[0m\u001b[0;34m.\u001b[0m\u001b[0mget_support\u001b[0m\u001b[0;34m(\u001b[0m\u001b[0mimportances\u001b[0m\u001b[0;34m)\u001b[0m\u001b[0;34m]\u001b[0m\u001b[0;34m.\u001b[0m\u001b[0mtolist\u001b[0m\u001b[0;34m(\u001b[0m\u001b[0;34m)\u001b[0m\u001b[0;34m\u001b[0m\u001b[0m\n",
      "\u001b[0;31mNameError\u001b[0m: name 'rfc_original' is not defined"
     ]
    }
   ],
   "source": [
    "rfe = RFE(rfc_original, 5)\n",
    "rfc_5 = rfe.fit(X, y)\n",
    "print ('5 importance features: ')\n",
    "df_audio_features_jdrr_final.columns[rfe.get_support(importances)].tolist()"
   ]
  },
  {
   "cell_type": "code",
   "execution_count": null,
   "metadata": {},
   "outputs": [],
   "source": []
  }
 ],
 "metadata": {
  "kernelspec": {
   "display_name": "Python 3",
   "language": "python",
   "name": "python3"
  },
  "language_info": {
   "codemirror_mode": {
    "name": "ipython",
    "version": 3
   },
   "file_extension": ".py",
   "mimetype": "text/x-python",
   "name": "python",
   "nbconvert_exporter": "python",
   "pygments_lexer": "ipython3",
   "version": "3.6.4"
  }
 },
 "nbformat": 4,
 "nbformat_minor": 2
}
