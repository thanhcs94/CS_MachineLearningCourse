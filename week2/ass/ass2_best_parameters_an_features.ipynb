{
 "cells": [
  {
   "cell_type": "markdown",
   "metadata": {},
   "source": [
    "# First - Import full library"
   ]
  },
  {
   "cell_type": "code",
   "execution_count": 45,
   "metadata": {},
   "outputs": [],
   "source": [
    "import pandas as pd\n",
    "import numpy as np\n",
    "from sklearn import  preprocessing, cross_validation, neighbors, metrics, svm\n",
    "from sklearn.preprocessing import StandardScaler\n",
    "from sklearn.metrics import confusion_matrix\n",
    "from sklearn.svm import SVC\n",
    "from sklearn.linear_model import LogisticRegression\n",
    "from sklearn.ensemble import RandomForestClassifier\n",
    "from sklearn.feature_selection import SelectKBest"
   ]
  },
  {
   "cell_type": "code",
   "execution_count": 46,
   "metadata": {},
   "outputs": [],
   "source": [
    "songs_dataset = pd.read_json('MasterSongList.json')"
   ]
  },
  {
   "cell_type": "code",
   "execution_count": 47,
   "metadata": {},
   "outputs": [
    {
     "data": {
      "text/html": [
       "<div>\n",
       "<style scoped>\n",
       "    .dataframe tbody tr th:only-of-type {\n",
       "        vertical-align: middle;\n",
       "    }\n",
       "\n",
       "    .dataframe tbody tr th {\n",
       "        vertical-align: top;\n",
       "    }\n",
       "\n",
       "    .dataframe thead th {\n",
       "        text-align: right;\n",
       "    }\n",
       "</style>\n",
       "<table border=\"1\" class=\"dataframe\">\n",
       "  <thead>\n",
       "    <tr style=\"text-align: right;\">\n",
       "      <th></th>\n",
       "      <th>_id</th>\n",
       "      <th>album</th>\n",
       "      <th>artist</th>\n",
       "      <th>audio_features</th>\n",
       "      <th>context</th>\n",
       "      <th>decades</th>\n",
       "      <th>genres</th>\n",
       "      <th>lyrics_features</th>\n",
       "      <th>moods</th>\n",
       "      <th>name</th>\n",
       "      <th>new_context</th>\n",
       "      <th>picture</th>\n",
       "      <th>recording_id</th>\n",
       "      <th>sub_context</th>\n",
       "      <th>yt_id</th>\n",
       "      <th>yt_views</th>\n",
       "    </tr>\n",
       "  </thead>\n",
       "  <tbody>\n",
       "    <tr>\n",
       "      <th>0</th>\n",
       "      <td>{'$oid': '52fdfb440b9398049f3d7a8c'}</td>\n",
       "      <td>Gangnam Style (강남스타일)</td>\n",
       "      <td>PSY</td>\n",
       "      <td>[11, 0.912744, 0.083704, 132.069, 0.293137, 0....</td>\n",
       "      <td>[work out]</td>\n",
       "      <td>[]</td>\n",
       "      <td>[pop]</td>\n",
       "      <td>[oppa, gangnam, style, gangnam, style, najeneu...</td>\n",
       "      <td>[energetic, motivational]</td>\n",
       "      <td>Gangnam Style (강남스타일)</td>\n",
       "      <td>work out</td>\n",
       "      <td>http://images.musicnet.com/albums/073/463/405/...</td>\n",
       "      <td>50232.0</td>\n",
       "      <td>[working out: cardio]</td>\n",
       "      <td>9bZkp7q19f0</td>\n",
       "      <td>2450112089</td>\n",
       "    </tr>\n",
       "  </tbody>\n",
       "</table>\n",
       "</div>"
      ],
      "text/plain": [
       "                                    _id                  album artist  \\\n",
       "0  {'$oid': '52fdfb440b9398049f3d7a8c'}  Gangnam Style (강남스타일)    PSY   \n",
       "\n",
       "                                      audio_features     context decades  \\\n",
       "0  [11, 0.912744, 0.083704, 132.069, 0.293137, 0....  [work out]      []   \n",
       "\n",
       "  genres                                    lyrics_features  \\\n",
       "0  [pop]  [oppa, gangnam, style, gangnam, style, najeneu...   \n",
       "\n",
       "                       moods                   name new_context  \\\n",
       "0  [energetic, motivational]  Gangnam Style (강남스타일)    work out   \n",
       "\n",
       "                                             picture  recording_id  \\\n",
       "0  http://images.musicnet.com/albums/073/463/405/...       50232.0   \n",
       "\n",
       "             sub_context        yt_id    yt_views  \n",
       "0  [working out: cardio]  9bZkp7q19f0  2450112089  "
      ]
     },
     "execution_count": 47,
     "metadata": {},
     "output_type": "execute_result"
    }
   ],
   "source": [
    "songs_dataset.head(1)"
   ]
  },
  {
   "cell_type": "code",
   "execution_count": 48,
   "metadata": {},
   "outputs": [],
   "source": [
    "songs_dataset.loc[:,'genres'] = songs_dataset['genres'].apply(''.join)\n",
    "def consolidateGenre(genre):\n",
    "    if(len(genre) > 0):\n",
    "        return genre.split(':')[0]\n",
    "    else:\n",
    "        return genre\n",
    "songs_dataset.loc[:,'genres'] = songs_dataset['genres'].apply(consolidateGenre)"
   ]
  },
  {
   "cell_type": "code",
   "execution_count": 49,
   "metadata": {},
   "outputs": [],
   "source": [
    "audio_feature_list = []\n",
    "for audio_feature in songs_dataset['audio_features']:\n",
    "    audio_feature_list.append(audio_feature)"
   ]
  },
  {
   "cell_type": "code",
   "execution_count": 50,
   "metadata": {
    "scrolled": true
   },
   "outputs": [
    {
     "data": {
      "text/html": [
       "<div>\n",
       "<style scoped>\n",
       "    .dataframe tbody tr th:only-of-type {\n",
       "        vertical-align: middle;\n",
       "    }\n",
       "\n",
       "    .dataframe tbody tr th {\n",
       "        vertical-align: top;\n",
       "    }\n",
       "\n",
       "    .dataframe thead th {\n",
       "        text-align: right;\n",
       "    }\n",
       "</style>\n",
       "<table border=\"1\" class=\"dataframe\">\n",
       "  <thead>\n",
       "    <tr style=\"text-align: right;\">\n",
       "      <th></th>\n",
       "      <th>key</th>\n",
       "      <th>energy</th>\n",
       "      <th>liveliness</th>\n",
       "      <th>tempo</th>\n",
       "      <th>speechiness</th>\n",
       "      <th>acousticness</th>\n",
       "      <th>instrumentalness</th>\n",
       "      <th>time_signature</th>\n",
       "      <th>duration</th>\n",
       "      <th>loudness</th>\n",
       "      <th>valence</th>\n",
       "      <th>danceability</th>\n",
       "      <th>mode</th>\n",
       "      <th>time_signature_confidence</th>\n",
       "      <th>tempo_confidence</th>\n",
       "      <th>key_confidence</th>\n",
       "      <th>mode_confidence</th>\n",
       "      <th>genres</th>\n",
       "    </tr>\n",
       "  </thead>\n",
       "  <tbody>\n",
       "    <tr>\n",
       "      <th>0</th>\n",
       "      <td>11.0</td>\n",
       "      <td>0.912744</td>\n",
       "      <td>0.083704</td>\n",
       "      <td>132.069</td>\n",
       "      <td>0.293137</td>\n",
       "      <td>0.005423</td>\n",
       "      <td>0.000001</td>\n",
       "      <td>0.0</td>\n",
       "      <td>4.0</td>\n",
       "      <td>218.30667</td>\n",
       "      <td>-3.890</td>\n",
       "      <td>0.752186</td>\n",
       "      <td>0.726920</td>\n",
       "      <td>0.552</td>\n",
       "      <td>0.541</td>\n",
       "      <td>1.000</td>\n",
       "      <td>1.000</td>\n",
       "      <td>pop</td>\n",
       "    </tr>\n",
       "    <tr>\n",
       "      <th>1</th>\n",
       "      <td>6.0</td>\n",
       "      <td>0.745704</td>\n",
       "      <td>0.119955</td>\n",
       "      <td>100.008</td>\n",
       "      <td>0.046255</td>\n",
       "      <td>0.026230</td>\n",
       "      <td>0.012727</td>\n",
       "      <td>1.0</td>\n",
       "      <td>4.0</td>\n",
       "      <td>235.06086</td>\n",
       "      <td>-7.687</td>\n",
       "      <td>0.351282</td>\n",
       "      <td>0.691817</td>\n",
       "      <td>0.737</td>\n",
       "      <td>0.634</td>\n",
       "      <td>0.796</td>\n",
       "      <td>1.000</td>\n",
       "      <td>pop</td>\n",
       "    </tr>\n",
       "    <tr>\n",
       "      <th>2</th>\n",
       "      <td>5.0</td>\n",
       "      <td>0.709932</td>\n",
       "      <td>0.231455</td>\n",
       "      <td>130.030</td>\n",
       "      <td>0.121741</td>\n",
       "      <td>0.036662</td>\n",
       "      <td>0.000000</td>\n",
       "      <td>0.0</td>\n",
       "      <td>4.0</td>\n",
       "      <td>232.46104</td>\n",
       "      <td>-5.150</td>\n",
       "      <td>0.374390</td>\n",
       "      <td>0.704729</td>\n",
       "      <td>0.565</td>\n",
       "      <td>0.565</td>\n",
       "      <td>0.743</td>\n",
       "      <td>1.000</td>\n",
       "      <td></td>\n",
       "    </tr>\n",
       "    <tr>\n",
       "      <th>3</th>\n",
       "      <td>3.0</td>\n",
       "      <td>0.705822</td>\n",
       "      <td>0.053292</td>\n",
       "      <td>126.009</td>\n",
       "      <td>0.126016</td>\n",
       "      <td>0.001966</td>\n",
       "      <td>0.000000</td>\n",
       "      <td>0.0</td>\n",
       "      <td>4.0</td>\n",
       "      <td>194.09333</td>\n",
       "      <td>-3.898</td>\n",
       "      <td>0.592798</td>\n",
       "      <td>0.875137</td>\n",
       "      <td>0.004</td>\n",
       "      <td>0.114</td>\n",
       "      <td>1.000</td>\n",
       "      <td>0.742</td>\n",
       "      <td>dance</td>\n",
       "    </tr>\n",
       "    <tr>\n",
       "      <th>4</th>\n",
       "      <td>3.0</td>\n",
       "      <td>0.741757</td>\n",
       "      <td>0.072774</td>\n",
       "      <td>129.985</td>\n",
       "      <td>0.051255</td>\n",
       "      <td>0.096732</td>\n",
       "      <td>0.000474</td>\n",
       "      <td>0.0</td>\n",
       "      <td>4.0</td>\n",
       "      <td>285.42667</td>\n",
       "      <td>-5.860</td>\n",
       "      <td>0.585630</td>\n",
       "      <td>0.730711</td>\n",
       "      <td>0.271</td>\n",
       "      <td>0.324</td>\n",
       "      <td>0.822</td>\n",
       "      <td>1.000</td>\n",
       "      <td>reggaeton</td>\n",
       "    </tr>\n",
       "    <tr>\n",
       "      <th>5</th>\n",
       "      <td>8.0</td>\n",
       "      <td>0.733856</td>\n",
       "      <td>0.093043</td>\n",
       "      <td>174.952</td>\n",
       "      <td>0.058137</td>\n",
       "      <td>0.293325</td>\n",
       "      <td>0.000000</td>\n",
       "      <td>0.0</td>\n",
       "      <td>4.0</td>\n",
       "      <td>188.94281</td>\n",
       "      <td>-4.312</td>\n",
       "      <td>0.953424</td>\n",
       "      <td>0.785102</td>\n",
       "      <td>0.177</td>\n",
       "      <td>0.404</td>\n",
       "      <td>0.826</td>\n",
       "      <td>1.000</td>\n",
       "      <td></td>\n",
       "    </tr>\n",
       "    <tr>\n",
       "      <th>6</th>\n",
       "      <td>8.0</td>\n",
       "      <td>0.777375</td>\n",
       "      <td>0.054104</td>\n",
       "      <td>104.946</td>\n",
       "      <td>0.029302</td>\n",
       "      <td>0.130350</td>\n",
       "      <td>0.000000</td>\n",
       "      <td>1.0</td>\n",
       "      <td>4.0</td>\n",
       "      <td>228.29333</td>\n",
       "      <td>-5.112</td>\n",
       "      <td>0.525632</td>\n",
       "      <td>0.729051</td>\n",
       "      <td>0.817</td>\n",
       "      <td>0.672</td>\n",
       "      <td>0.394</td>\n",
       "      <td>0.963</td>\n",
       "      <td>r&amp;b</td>\n",
       "    </tr>\n",
       "    <tr>\n",
       "      <th>7</th>\n",
       "      <td>7.0</td>\n",
       "      <td>0.585564</td>\n",
       "      <td>0.108297</td>\n",
       "      <td>120.014</td>\n",
       "      <td>0.038924</td>\n",
       "      <td>0.011707</td>\n",
       "      <td>0.000005</td>\n",
       "      <td>1.0</td>\n",
       "      <td>4.0</td>\n",
       "      <td>193.57333</td>\n",
       "      <td>-6.583</td>\n",
       "      <td>0.622176</td>\n",
       "      <td>0.781822</td>\n",
       "      <td>0.970</td>\n",
       "      <td>0.861</td>\n",
       "      <td>0.792</td>\n",
       "      <td>1.000</td>\n",
       "      <td>pop</td>\n",
       "    </tr>\n",
       "    <tr>\n",
       "      <th>8</th>\n",
       "      <td>0.0</td>\n",
       "      <td>0.418212</td>\n",
       "      <td>0.105322</td>\n",
       "      <td>129.054</td>\n",
       "      <td>0.045461</td>\n",
       "      <td>0.548385</td>\n",
       "      <td>0.000120</td>\n",
       "      <td>0.0</td>\n",
       "      <td>4.0</td>\n",
       "      <td>248.28000</td>\n",
       "      <td>-7.284</td>\n",
       "      <td>0.440790</td>\n",
       "      <td>0.841824</td>\n",
       "      <td>0.011</td>\n",
       "      <td>0.303</td>\n",
       "      <td>0.843</td>\n",
       "      <td>1.000</td>\n",
       "      <td></td>\n",
       "    </tr>\n",
       "    <tr>\n",
       "      <th>9</th>\n",
       "      <td>4.0</td>\n",
       "      <td>0.814030</td>\n",
       "      <td>0.079196</td>\n",
       "      <td>124.991</td>\n",
       "      <td>0.072440</td>\n",
       "      <td>0.005355</td>\n",
       "      <td>0.000000</td>\n",
       "      <td>1.0</td>\n",
       "      <td>4.0</td>\n",
       "      <td>198.25333</td>\n",
       "      <td>-1.985</td>\n",
       "      <td>0.838512</td>\n",
       "      <td>0.700860</td>\n",
       "      <td>0.429</td>\n",
       "      <td>0.375</td>\n",
       "      <td>0.740</td>\n",
       "      <td>1.000</td>\n",
       "      <td>pop</td>\n",
       "    </tr>\n",
       "  </tbody>\n",
       "</table>\n",
       "</div>"
      ],
      "text/plain": [
       "    key    energy  liveliness    tempo  speechiness  acousticness  \\\n",
       "0  11.0  0.912744    0.083704  132.069     0.293137      0.005423   \n",
       "1   6.0  0.745704    0.119955  100.008     0.046255      0.026230   \n",
       "2   5.0  0.709932    0.231455  130.030     0.121741      0.036662   \n",
       "3   3.0  0.705822    0.053292  126.009     0.126016      0.001966   \n",
       "4   3.0  0.741757    0.072774  129.985     0.051255      0.096732   \n",
       "5   8.0  0.733856    0.093043  174.952     0.058137      0.293325   \n",
       "6   8.0  0.777375    0.054104  104.946     0.029302      0.130350   \n",
       "7   7.0  0.585564    0.108297  120.014     0.038924      0.011707   \n",
       "8   0.0  0.418212    0.105322  129.054     0.045461      0.548385   \n",
       "9   4.0  0.814030    0.079196  124.991     0.072440      0.005355   \n",
       "\n",
       "   instrumentalness  time_signature  duration   loudness  valence  \\\n",
       "0          0.000001             0.0       4.0  218.30667   -3.890   \n",
       "1          0.012727             1.0       4.0  235.06086   -7.687   \n",
       "2          0.000000             0.0       4.0  232.46104   -5.150   \n",
       "3          0.000000             0.0       4.0  194.09333   -3.898   \n",
       "4          0.000474             0.0       4.0  285.42667   -5.860   \n",
       "5          0.000000             0.0       4.0  188.94281   -4.312   \n",
       "6          0.000000             1.0       4.0  228.29333   -5.112   \n",
       "7          0.000005             1.0       4.0  193.57333   -6.583   \n",
       "8          0.000120             0.0       4.0  248.28000   -7.284   \n",
       "9          0.000000             1.0       4.0  198.25333   -1.985   \n",
       "\n",
       "   danceability      mode  time_signature_confidence  tempo_confidence  \\\n",
       "0      0.752186  0.726920                      0.552             0.541   \n",
       "1      0.351282  0.691817                      0.737             0.634   \n",
       "2      0.374390  0.704729                      0.565             0.565   \n",
       "3      0.592798  0.875137                      0.004             0.114   \n",
       "4      0.585630  0.730711                      0.271             0.324   \n",
       "5      0.953424  0.785102                      0.177             0.404   \n",
       "6      0.525632  0.729051                      0.817             0.672   \n",
       "7      0.622176  0.781822                      0.970             0.861   \n",
       "8      0.440790  0.841824                      0.011             0.303   \n",
       "9      0.838512  0.700860                      0.429             0.375   \n",
       "\n",
       "   key_confidence  mode_confidence     genres  \n",
       "0           1.000            1.000        pop  \n",
       "1           0.796            1.000        pop  \n",
       "2           0.743            1.000             \n",
       "3           1.000            0.742      dance  \n",
       "4           0.822            1.000  reggaeton  \n",
       "5           0.826            1.000             \n",
       "6           0.394            0.963        r&b  \n",
       "7           0.792            1.000        pop  \n",
       "8           0.843            1.000             \n",
       "9           0.740            1.000        pop  "
      ]
     },
     "execution_count": 50,
     "metadata": {},
     "output_type": "execute_result"
    }
   ],
   "source": [
    "audio_feature_header = ['key','energy','liveliness','tempo','speechiness','acousticness','instrumentalness','time_signature'\n",
    "                         ,'duration','loudness','valence','danceability','mode','time_signature_confidence','tempo_confidence'\n",
    "                         ,'key_confidence','mode_confidence']\n",
    "\n",
    "df_feature =  pd.DataFrame(audio_feature_list, columns = audio_feature_header)\n",
    "df_feature.loc[:,].dropna(axis=0,how='all',inplace=True)\n",
    "\n",
    "df_feature['genres'] = songs_dataset['genres']\n",
    "df_feature.head(10)"
   ]
  },
  {
   "cell_type": "markdown",
   "metadata": {},
   "source": [
    "# Consolidatin addition feature"
   ]
  },
  {
   "cell_type": "code",
   "execution_count": 51,
   "metadata": {
    "scrolled": true
   },
   "outputs": [
    {
     "name": "stdout",
     "output_type": "stream",
     "text": [
      "Dance\n",
      "(1938, 18)\n",
      "Jazz\n",
      "(1677, 18)\n",
      "Rock\n",
      "(6245, 18)\n",
      "Rap\n",
      "(2411, 18)\n"
     ]
    },
    {
     "name": "stderr",
     "output_type": "stream",
     "text": [
      "/Volumes/Data/anaconda3/lib/python3.6/site-packages/ipykernel_launcher.py:2: UserWarning: Boolean Series key will be reindexed to match DataFrame index.\n",
      "  \n",
      "/Volumes/Data/anaconda3/lib/python3.6/site-packages/ipykernel_launcher.py:8: UserWarning: Boolean Series key will be reindexed to match DataFrame index.\n",
      "  \n",
      "/Volumes/Data/anaconda3/lib/python3.6/site-packages/ipykernel_launcher.py:14: UserWarning: Boolean Series key will be reindexed to match DataFrame index.\n",
      "  \n",
      "/Volumes/Data/anaconda3/lib/python3.6/site-packages/ipykernel_launcher.py:20: UserWarning: Boolean Series key will be reindexed to match DataFrame index.\n"
     ]
    }
   ],
   "source": [
    "# Dance\n",
    "dance_df = df_feature[(songs_dataset['genres'] == 'dance') & (songs_dataset['yt_views'] > 1000)]\n",
    "dance_new = pd.DataFrame(dance_df).dropna()\n",
    "print(\"Dance\")\n",
    "print(dance_new.shape)\n",
    "\n",
    "# Jazz\n",
    "jazz_df = df_feature[(songs_dataset['genres'] == 'jazz') & (songs_dataset['yt_views'] > 1000)]\n",
    "jazz_new = pd.DataFrame(jazz_df).dropna()\n",
    "print(\"Jazz\")\n",
    "print(jazz_new.shape)\n",
    "\n",
    "# Rock\n",
    "rock_df = df_feature[(songs_dataset['genres'] == 'rock') & (songs_dataset['yt_views'] > 1000)]\n",
    "rock_new = pd.DataFrame(rock_df).dropna()\n",
    "print(\"Rock\")\n",
    "print(rock_new.shape)\n",
    "\n",
    "# Rap\n",
    "rap_df = df_feature[(songs_dataset['genres'] == 'rap') & (songs_dataset['yt_views'] > 1000)]\n",
    "rap_new = pd.DataFrame(rap_df).dropna()\n",
    "print(\"Rap\")\n",
    "print(rap_new.shape)"
   ]
  },
  {
   "cell_type": "code",
   "execution_count": 52,
   "metadata": {},
   "outputs": [
    {
     "name": "stdout",
     "output_type": "stream",
     "text": [
      "(6000, 18)\n"
     ]
    },
    {
     "data": {
      "text/html": [
       "<div>\n",
       "<style scoped>\n",
       "    .dataframe tbody tr th:only-of-type {\n",
       "        vertical-align: middle;\n",
       "    }\n",
       "\n",
       "    .dataframe tbody tr th {\n",
       "        vertical-align: top;\n",
       "    }\n",
       "\n",
       "    .dataframe thead th {\n",
       "        text-align: right;\n",
       "    }\n",
       "</style>\n",
       "<table border=\"1\" class=\"dataframe\">\n",
       "  <thead>\n",
       "    <tr style=\"text-align: right;\">\n",
       "      <th></th>\n",
       "      <th>key</th>\n",
       "      <th>energy</th>\n",
       "      <th>liveliness</th>\n",
       "      <th>tempo</th>\n",
       "      <th>speechiness</th>\n",
       "      <th>acousticness</th>\n",
       "      <th>instrumentalness</th>\n",
       "      <th>time_signature</th>\n",
       "      <th>duration</th>\n",
       "      <th>loudness</th>\n",
       "      <th>valence</th>\n",
       "      <th>danceability</th>\n",
       "      <th>mode</th>\n",
       "      <th>time_signature_confidence</th>\n",
       "      <th>tempo_confidence</th>\n",
       "      <th>key_confidence</th>\n",
       "      <th>mode_confidence</th>\n",
       "      <th>genres</th>\n",
       "    </tr>\n",
       "  </thead>\n",
       "  <tbody>\n",
       "    <tr>\n",
       "      <th>15556</th>\n",
       "      <td>0.0</td>\n",
       "      <td>0.513459</td>\n",
       "      <td>0.105311</td>\n",
       "      <td>120.506</td>\n",
       "      <td>0.066738</td>\n",
       "      <td>0.002782</td>\n",
       "      <td>0.125688</td>\n",
       "      <td>0.0</td>\n",
       "      <td>4.0</td>\n",
       "      <td>347.93333</td>\n",
       "      <td>-13.733</td>\n",
       "      <td>0.591069</td>\n",
       "      <td>0.795833</td>\n",
       "      <td>0.029</td>\n",
       "      <td>0.086</td>\n",
       "      <td>0.458</td>\n",
       "      <td>1.000</td>\n",
       "      <td>dance</td>\n",
       "    </tr>\n",
       "    <tr>\n",
       "      <th>7324</th>\n",
       "      <td>2.0</td>\n",
       "      <td>0.918279</td>\n",
       "      <td>0.068419</td>\n",
       "      <td>125.128</td>\n",
       "      <td>0.123823</td>\n",
       "      <td>0.205065</td>\n",
       "      <td>0.008204</td>\n",
       "      <td>1.0</td>\n",
       "      <td>4.0</td>\n",
       "      <td>262.54630</td>\n",
       "      <td>-6.489</td>\n",
       "      <td>0.070338</td>\n",
       "      <td>0.493950</td>\n",
       "      <td>0.152</td>\n",
       "      <td>0.300</td>\n",
       "      <td>0.562</td>\n",
       "      <td>1.000</td>\n",
       "      <td>dance</td>\n",
       "    </tr>\n",
       "    <tr>\n",
       "      <th>18027</th>\n",
       "      <td>2.0</td>\n",
       "      <td>0.823720</td>\n",
       "      <td>0.106530</td>\n",
       "      <td>122.680</td>\n",
       "      <td>0.035823</td>\n",
       "      <td>0.000693</td>\n",
       "      <td>0.793440</td>\n",
       "      <td>0.0</td>\n",
       "      <td>4.0</td>\n",
       "      <td>211.22621</td>\n",
       "      <td>-7.256</td>\n",
       "      <td>0.967817</td>\n",
       "      <td>0.806159</td>\n",
       "      <td>0.298</td>\n",
       "      <td>0.338</td>\n",
       "      <td>0.953</td>\n",
       "      <td>1.000</td>\n",
       "      <td>dance</td>\n",
       "    </tr>\n",
       "    <tr>\n",
       "      <th>13837</th>\n",
       "      <td>10.0</td>\n",
       "      <td>0.606826</td>\n",
       "      <td>0.074605</td>\n",
       "      <td>122.995</td>\n",
       "      <td>0.066987</td>\n",
       "      <td>0.000353</td>\n",
       "      <td>0.735316</td>\n",
       "      <td>0.0</td>\n",
       "      <td>4.0</td>\n",
       "      <td>472.25605</td>\n",
       "      <td>-12.380</td>\n",
       "      <td>0.271778</td>\n",
       "      <td>0.804019</td>\n",
       "      <td>0.571</td>\n",
       "      <td>0.469</td>\n",
       "      <td>0.864</td>\n",
       "      <td>0.937</td>\n",
       "      <td>dance</td>\n",
       "    </tr>\n",
       "    <tr>\n",
       "      <th>11267</th>\n",
       "      <td>10.0</td>\n",
       "      <td>0.604935</td>\n",
       "      <td>0.206354</td>\n",
       "      <td>108.432</td>\n",
       "      <td>0.037725</td>\n",
       "      <td>0.776031</td>\n",
       "      <td>0.344459</td>\n",
       "      <td>0.0</td>\n",
       "      <td>4.0</td>\n",
       "      <td>456.03710</td>\n",
       "      <td>-11.227</td>\n",
       "      <td>0.966342</td>\n",
       "      <td>0.864762</td>\n",
       "      <td>0.543</td>\n",
       "      <td>0.629</td>\n",
       "      <td>0.644</td>\n",
       "      <td>0.730</td>\n",
       "      <td>dance</td>\n",
       "    </tr>\n",
       "  </tbody>\n",
       "</table>\n",
       "</div>"
      ],
      "text/plain": [
       "        key    energy  liveliness    tempo  speechiness  acousticness  \\\n",
       "15556   0.0  0.513459    0.105311  120.506     0.066738      0.002782   \n",
       "7324    2.0  0.918279    0.068419  125.128     0.123823      0.205065   \n",
       "18027   2.0  0.823720    0.106530  122.680     0.035823      0.000693   \n",
       "13837  10.0  0.606826    0.074605  122.995     0.066987      0.000353   \n",
       "11267  10.0  0.604935    0.206354  108.432     0.037725      0.776031   \n",
       "\n",
       "       instrumentalness  time_signature  duration   loudness  valence  \\\n",
       "15556          0.125688             0.0       4.0  347.93333  -13.733   \n",
       "7324           0.008204             1.0       4.0  262.54630   -6.489   \n",
       "18027          0.793440             0.0       4.0  211.22621   -7.256   \n",
       "13837          0.735316             0.0       4.0  472.25605  -12.380   \n",
       "11267          0.344459             0.0       4.0  456.03710  -11.227   \n",
       "\n",
       "       danceability      mode  time_signature_confidence  tempo_confidence  \\\n",
       "15556      0.591069  0.795833                      0.029             0.086   \n",
       "7324       0.070338  0.493950                      0.152             0.300   \n",
       "18027      0.967817  0.806159                      0.298             0.338   \n",
       "13837      0.271778  0.804019                      0.571             0.469   \n",
       "11267      0.966342  0.864762                      0.543             0.629   \n",
       "\n",
       "       key_confidence  mode_confidence genres  \n",
       "15556           0.458            1.000  dance  \n",
       "7324            0.562            1.000  dance  \n",
       "18027           0.953            1.000  dance  \n",
       "13837           0.864            0.937  dance  \n",
       "11267           0.644            0.730  dance  "
      ]
     },
     "execution_count": 52,
     "metadata": {},
     "output_type": "execute_result"
    }
   ],
   "source": [
    "data_add_feature = pd.concat((dance_new.sample(n=1500, replace=True), jazz_new.sample(n=1500, replace=True), rock_new.sample(n=1500, replace=True), rap_new.sample(n=1500, replace=True)), axis=0)\n",
    "print(data_add_feature.shape)\n",
    "data_add_feature.head(5)"
   ]
  },
  {
   "cell_type": "code",
   "execution_count": 53,
   "metadata": {},
   "outputs": [
    {
     "data": {
      "text/plain": [
       "array(['dance', 'jazz', 'rock', 'rap'], dtype=object)"
      ]
     },
     "execution_count": 53,
     "metadata": {},
     "output_type": "execute_result"
    }
   ],
   "source": [
    "df_labels = data_add_feature['genres']\n",
    "df_features = data_add_feature.drop('genres', axis=1)\n",
    "df_labels.unique()"
   ]
  },
  {
   "cell_type": "code",
   "execution_count": 54,
   "metadata": {},
   "outputs": [],
   "source": [
    "scander_scaler = StandardScaler()\n",
    "df_features_results = scander_scaler.fit_transform(df_features)"
   ]
  },
  {
   "cell_type": "code",
   "execution_count": 55,
   "metadata": {},
   "outputs": [],
   "source": [
    "from sklearn.cross_validation import train_test_split\n",
    "X = df_features_results\n",
    "y = df_labels\n",
    "\n",
    "X_train, X_test, y_train, y_test = train_test_split(X, y, test_size=0.3, random_state=101)"
   ]
  },
  {
   "cell_type": "markdown",
   "metadata": {},
   "source": [
    "# 2) Build the following classifiers"
   ]
  },
  {
   "cell_type": "code",
   "execution_count": 56,
   "metadata": {
    "scrolled": true
   },
   "outputs": [
    {
     "name": "stdout",
     "output_type": "stream",
     "text": [
      "#LogisticRegression\n",
      "             precision    recall  f1-score   support\n",
      "\n",
      "      dance       0.71      0.74      0.73       455\n",
      "       jazz       0.83      0.87      0.85       437\n",
      "        rap       0.80      0.74      0.77       455\n",
      "       rock       0.73      0.73      0.73       453\n",
      "\n",
      "avg / total       0.77      0.77      0.77      1800\n",
      "\n",
      "#SVC\n",
      "             precision    recall  f1-score   support\n",
      "\n",
      "      dance       0.92      0.60      0.73       455\n",
      "       jazz       0.96      0.61      0.75       437\n",
      "        rap       0.92      0.60      0.73       455\n",
      "       rock       0.46      0.95      0.62       453\n",
      "\n",
      "avg / total       0.82      0.69      0.71      1800\n",
      "\n",
      "#Random Forest\n",
      "             precision    recall  f1-score   support\n",
      "\n",
      "      dance       0.74      0.80      0.77       455\n",
      "       jazz       0.85      0.92      0.88       437\n",
      "        rap       0.83      0.84      0.83       455\n",
      "       rock       0.83      0.68      0.75       453\n",
      "\n",
      "avg / total       0.81      0.81      0.81      1800\n",
      "\n"
     ]
    }
   ],
   "source": [
    "from sklearn.svm import SVC\n",
    "from sklearn.metrics import classification_report\n",
    "from nltk import ConfusionMatrix\n",
    "\n",
    "\n",
    "model_loreg = LogisticRegression(solver='saga',multi_class='multinomial')\n",
    "model_loreg.fit(X_train, y_train)\n",
    "predict = model_loreg.predict(X_test)\n",
    "classifi_report = classification_report(y_test, predict)\n",
    "print(\"#LogisticRegression\")\n",
    "print(classifi_report)\n",
    "\n",
    "\n",
    "model_svc = SVC(C=1, gamma=1)\n",
    "model_svc.fit(X_train, y_train)\n",
    "predict = model_svc.predict(X_test)\n",
    "classifi_report = classification_report(y_test, predict)\n",
    "print(\"#SVC\")\n",
    "print(classifi_report)\n",
    "\n",
    "\n",
    "model_rf = RandomForestClassifier(n_estimators=5,min_samples_split=2, max_features='log2')\n",
    "model_rf.fit(X_train, y_train)\n",
    "predict = model_rf.predict(X_test)\n",
    "classifi_report = classification_report(y_test, predict)\n",
    "print(\"#Random Forest\")\n",
    "print(classifi_report)\n",
    "# confus_mat = ConfusionMatrix(list(y_test), list(predict))"
   ]
  },
  {
   "cell_type": "markdown",
   "metadata": {},
   "source": [
    "# 3) Successfully find the best values for the following classifier parameters using GridSearchCV"
   ]
  },
  {
   "cell_type": "markdown",
   "metadata": {},
   "source": [
    "# SVC"
   ]
  },
  {
   "cell_type": "code",
   "execution_count": 57,
   "metadata": {},
   "outputs": [],
   "source": [
    "from  sklearn.model_selection import GridSearchCV\n",
    "param_grid = {'C': [0.1,1, 10], 'gamma': [1,0.1,0.01,0.001]}"
   ]
  },
  {
   "cell_type": "code",
   "execution_count": 58,
   "metadata": {},
   "outputs": [
    {
     "name": "stdout",
     "output_type": "stream",
     "text": [
      "Fitting 3 folds for each of 12 candidates, totalling 36 fits\n",
      "[CV] C=0.1, gamma=1 ..................................................\n",
      "[CV] ........ C=0.1, gamma=1, score=0.25320970042796004, total=   0.6s\n",
      "[CV] C=0.1, gamma=1 ..................................................\n"
     ]
    },
    {
     "name": "stderr",
     "output_type": "stream",
     "text": [
      "[Parallel(n_jobs=1)]: Done   1 out of   1 | elapsed:    0.8s remaining:    0.0s\n"
     ]
    },
    {
     "name": "stdout",
     "output_type": "stream",
     "text": [
      "[CV] ........ C=0.1, gamma=1, score=0.25303788420300216, total=   0.6s\n",
      "[CV] C=0.1, gamma=1 ..................................................\n"
     ]
    },
    {
     "name": "stderr",
     "output_type": "stream",
     "text": [
      "[Parallel(n_jobs=1)]: Done   2 out of   2 | elapsed:    1.6s remaining:    0.0s\n"
     ]
    },
    {
     "name": "stdout",
     "output_type": "stream",
     "text": [
      "[CV] ........ C=0.1, gamma=1, score=0.25303788420300216, total=   0.7s\n",
      "[CV] C=0.1, gamma=0.1 ................................................\n",
      "[CV] ....... C=0.1, gamma=0.1, score=0.7510699001426534, total=   0.4s\n",
      "[CV] C=0.1, gamma=0.1 ................................................\n",
      "[CV] ....... C=0.1, gamma=0.1, score=0.7591136526090064, total=   0.4s\n",
      "[CV] C=0.1, gamma=0.1 ................................................\n",
      "[CV] ....... C=0.1, gamma=0.1, score=0.7512508934953538, total=   0.4s\n",
      "[CV] C=0.1, gamma=0.01 ...............................................\n",
      "[CV] ...... C=0.1, gamma=0.01, score=0.7425106990014265, total=   0.4s\n",
      "[CV] C=0.1, gamma=0.01 ...............................................\n",
      "[CV] ...... C=0.1, gamma=0.01, score=0.7576840600428878, total=   0.4s\n",
      "[CV] C=0.1, gamma=0.01 ...............................................\n",
      "[CV] ...... C=0.1, gamma=0.01, score=0.7555396711937098, total=   0.4s\n",
      "[CV] C=0.1, gamma=0.001 ..............................................\n",
      "[CV] ..... C=0.1, gamma=0.001, score=0.6711840228245364, total=   0.5s\n",
      "[CV] C=0.1, gamma=0.001 ..............................................\n",
      "[CV] ..... C=0.1, gamma=0.001, score=0.6511794138670479, total=   0.5s\n",
      "[CV] C=0.1, gamma=0.001 ..............................................\n",
      "[CV] ..... C=0.1, gamma=0.001, score=0.6690493209435311, total=   0.5s\n",
      "[CV] C=1, gamma=1 ....................................................\n",
      "[CV] ........... C=1, gamma=1, score=0.6062767475035663, total=   0.7s\n",
      "[CV] C=1, gamma=1 ....................................................\n",
      "[CV] ........... C=1, gamma=1, score=0.6204431736954967, total=   0.6s\n",
      "[CV] C=1, gamma=1 ....................................................\n",
      "[CV] ........... C=1, gamma=1, score=0.6125804145818442, total=   0.6s\n",
      "[CV] C=1, gamma=0.1 ..................................................\n",
      "[CV] ......... C=1, gamma=0.1, score=0.7981455064194009, total=   0.3s\n",
      "[CV] C=1, gamma=0.1 ..................................................\n",
      "[CV] ......... C=1, gamma=0.1, score=0.7977126518942101, total=   0.3s\n",
      "[CV] C=1, gamma=0.1 ..................................................\n",
      "[CV] ......... C=1, gamma=0.1, score=0.8005718370264474, total=   0.3s\n",
      "[CV] C=1, gamma=0.01 .................................................\n",
      "[CV] ......... C=1, gamma=0.01, score=0.776034236804565, total=   0.2s\n",
      "[CV] C=1, gamma=0.01 .................................................\n",
      "[CV] ........ C=1, gamma=0.01, score=0.7784131522516083, total=   0.3s\n",
      "[CV] C=1, gamma=0.01 .................................................\n",
      "[CV] ........ C=1, gamma=0.01, score=0.7719799857040743, total=   0.3s\n",
      "[CV] C=1, gamma=0.001 ................................................\n",
      "[CV] ....... C=1, gamma=0.001, score=0.7403708987161198, total=   0.4s\n",
      "[CV] C=1, gamma=0.001 ................................................\n",
      "[CV] ....... C=1, gamma=0.001, score=0.7548248749106504, total=   0.4s\n",
      "[CV] C=1, gamma=0.001 ................................................\n",
      "[CV] ....... C=1, gamma=0.001, score=0.7548248749106504, total=   0.4s\n",
      "[CV] C=10, gamma=1 ...................................................\n",
      "[CV] .......... C=10, gamma=1, score=0.6241084165477889, total=   0.6s\n",
      "[CV] C=10, gamma=1 ...................................................\n",
      "[CV] .......... C=10, gamma=1, score=0.6390278770550393, total=   0.6s\n",
      "[CV] C=10, gamma=1 ...................................................\n",
      "[CV] .......... C=10, gamma=1, score=0.6354538956397426, total=   0.6s\n",
      "[CV] C=10, gamma=0.1 .................................................\n",
      "[CV] ........ C=10, gamma=0.1, score=0.7931526390870185, total=   0.4s\n",
      "[CV] C=10, gamma=0.1 .................................................\n",
      "[CV] ........ C=10, gamma=0.1, score=0.7884203002144389, total=   0.4s\n",
      "[CV] C=10, gamma=0.1 .................................................\n",
      "[CV] ........ C=10, gamma=0.1, score=0.7898498927805575, total=   0.4s\n",
      "[CV] C=10, gamma=0.01 ................................................\n",
      "[CV] ....... C=10, gamma=0.01, score=0.7845934379457917, total=   0.3s\n",
      "[CV] C=10, gamma=0.01 ................................................\n",
      "[CV] ....... C=10, gamma=0.01, score=0.7898498927805575, total=   0.3s\n",
      "[CV] C=10, gamma=0.01 ................................................\n",
      "[CV] ....... C=10, gamma=0.01, score=0.7848463187991422, total=   0.3s\n",
      "[CV] C=10, gamma=0.001 ...............................................\n",
      "[CV] ...... C=10, gamma=0.001, score=0.7674750356633381, total=   0.2s\n",
      "[CV] C=10, gamma=0.001 ...............................................\n",
      "[CV] ...... C=10, gamma=0.001, score=0.7619728377412437, total=   0.3s\n",
      "[CV] C=10, gamma=0.001 ...............................................\n",
      "[CV] ...... C=10, gamma=0.001, score=0.7591136526090064, total=   0.3s\n"
     ]
    },
    {
     "name": "stderr",
     "output_type": "stream",
     "text": [
      "[Parallel(n_jobs=1)]: Done  36 out of  36 | elapsed:   21.4s finished\n"
     ]
    },
    {
     "data": {
      "text/plain": [
       "GridSearchCV(cv=None, error_score='raise',\n",
       "       estimator=SVC(C=1, cache_size=200, class_weight=None, coef0=0.0,\n",
       "  decision_function_shape='ovr', degree=3, gamma=1, kernel='rbf',\n",
       "  max_iter=-1, probability=False, random_state=None, shrinking=True,\n",
       "  tol=0.001, verbose=False),\n",
       "       fit_params=None, iid=True, n_jobs=1,\n",
       "       param_grid={'C': [0.1, 1, 10], 'gamma': [1, 0.1, 0.01, 0.001]},\n",
       "       pre_dispatch='2*n_jobs', refit=True, return_train_score='warn',\n",
       "       scoring=None, verbose=3)"
      ]
     },
     "execution_count": 58,
     "metadata": {},
     "output_type": "execute_result"
    }
   ],
   "source": [
    "grid = GridSearchCV(model_svc, param_grid, verbose=3)\n",
    "grid.fit(X_train, y_train)"
   ]
  },
  {
   "cell_type": "code",
   "execution_count": 59,
   "metadata": {},
   "outputs": [
    {
     "data": {
      "text/plain": [
       "{'C': 1, 'gamma': 0.1}"
      ]
     },
     "execution_count": 59,
     "metadata": {},
     "output_type": "execute_result"
    }
   ],
   "source": [
    "grid.best_params_"
   ]
  },
  {
   "cell_type": "code",
   "execution_count": 60,
   "metadata": {},
   "outputs": [
    {
     "name": "stdout",
     "output_type": "stream",
     "text": [
      "[[352   5  49  49]\n",
      " [  8 397   8  24]\n",
      " [ 45  15 377  18]\n",
      " [ 33  48  16 356]]\n",
      "             precision    recall  f1-score   support\n",
      "\n",
      "      dance       0.80      0.77      0.79       455\n",
      "       jazz       0.85      0.91      0.88       437\n",
      "        rap       0.84      0.83      0.83       455\n",
      "       rock       0.80      0.79      0.79       453\n",
      "\n",
      "avg / total       0.82      0.82      0.82      1800\n",
      "\n"
     ]
    }
   ],
   "source": [
    "svc_best = SVC(C=1, gamma=0.1)\n",
    "svc_best.fit(X_train, y_train)\n",
    "svc_predictions = svc_best.predict(X_test)\n",
    "print(confusion_matrix(y_test, svc_predictions))\n",
    "print(classification_report(list(y_test), list(svc_predictions)))"
   ]
  },
  {
   "cell_type": "markdown",
   "metadata": {},
   "source": [
    "# Logistic Regression"
   ]
  },
  {
   "cell_type": "code",
   "execution_count": 61,
   "metadata": {},
   "outputs": [
    {
     "name": "stdout",
     "output_type": "stream",
     "text": [
      "Fitting 3 folds for each of 8 candidates, totalling 24 fits\n",
      "[CV] multi_class=ovr, solver=newton-cg ...............................\n",
      "[CV]  multi_class=ovr, solver=newton-cg, score=0.7582025677603423, total=   0.1s\n",
      "[CV] multi_class=ovr, solver=newton-cg ...............................\n"
     ]
    },
    {
     "name": "stderr",
     "output_type": "stream",
     "text": [
      "[Parallel(n_jobs=1)]: Done   1 out of   1 | elapsed:    0.1s remaining:    0.0s\n",
      "[Parallel(n_jobs=1)]: Done   2 out of   2 | elapsed:    0.2s remaining:    0.0s\n"
     ]
    },
    {
     "name": "stdout",
     "output_type": "stream",
     "text": [
      "[CV]  multi_class=ovr, solver=newton-cg, score=0.7662616154395997, total=   0.1s\n",
      "[CV] multi_class=ovr, solver=newton-cg ...............................\n",
      "[CV]  multi_class=ovr, solver=newton-cg, score=0.7598284488920658, total=   0.1s\n",
      "[CV] multi_class=ovr, solver=lbfgs ...................................\n",
      "[CV]  multi_class=ovr, solver=lbfgs, score=0.7582025677603423, total=   0.0s\n",
      "[CV] multi_class=ovr, solver=lbfgs ...................................\n",
      "[CV]  multi_class=ovr, solver=lbfgs, score=0.7662616154395997, total=   0.1s\n",
      "[CV] multi_class=ovr, solver=lbfgs ...................................\n",
      "[CV]  multi_class=ovr, solver=lbfgs, score=0.7598284488920658, total=   0.1s\n",
      "[CV] multi_class=ovr, solver=sag .....................................\n",
      "[CV]  multi_class=ovr, solver=sag, score=0.7582025677603423, total=   0.1s\n",
      "[CV] multi_class=ovr, solver=sag .....................................\n",
      "[CV]  multi_class=ovr, solver=sag, score=0.7662616154395997, total=   0.1s\n",
      "[CV] multi_class=ovr, solver=sag .....................................\n",
      "[CV]  multi_class=ovr, solver=sag, score=0.7598284488920658, total=   0.1s\n",
      "[CV] multi_class=ovr, solver=saga ....................................\n",
      "[CV]  multi_class=ovr, solver=saga, score=0.7582025677603423, total=   0.1s\n",
      "[CV] multi_class=ovr, solver=saga ....................................\n",
      "[CV]  multi_class=ovr, solver=saga, score=0.7662616154395997, total=   0.1s\n",
      "[CV] multi_class=ovr, solver=saga ....................................\n",
      "[CV]  multi_class=ovr, solver=saga, score=0.7598284488920658, total=   0.1s\n",
      "[CV] multi_class=multinomial, solver=newton-cg .......................\n",
      "[CV]  multi_class=multinomial, solver=newton-cg, score=0.760342368045649, total=   0.1s\n",
      "[CV] multi_class=multinomial, solver=newton-cg .......................\n",
      "[CV]  multi_class=multinomial, solver=newton-cg, score=0.7648320228734811, total=   0.1s\n",
      "[CV] multi_class=multinomial, solver=newton-cg .......................\n",
      "[CV]  multi_class=multinomial, solver=newton-cg, score=0.7533952823445318, total=   0.1s\n",
      "[CV] multi_class=multinomial, solver=lbfgs ...........................\n",
      "[CV]  multi_class=multinomial, solver=lbfgs, score=0.760342368045649, total=   0.1s\n",
      "[CV] multi_class=multinomial, solver=lbfgs ...........................\n",
      "[CV]  multi_class=multinomial, solver=lbfgs, score=0.7648320228734811, total=   0.1s\n",
      "[CV] multi_class=multinomial, solver=lbfgs ...........................\n",
      "[CV]  multi_class=multinomial, solver=lbfgs, score=0.7533952823445318, total=   0.0s\n",
      "[CV] multi_class=multinomial, solver=sag .............................\n",
      "[CV]  multi_class=multinomial, solver=sag, score=0.760342368045649, total=   0.1s\n",
      "[CV] multi_class=multinomial, solver=sag .............................\n",
      "[CV]  multi_class=multinomial, solver=sag, score=0.7648320228734811, total=   0.1s\n",
      "[CV] multi_class=multinomial, solver=sag .............................\n",
      "[CV]  multi_class=multinomial, solver=sag, score=0.7533952823445318, total=   0.1s\n",
      "[CV] multi_class=multinomial, solver=saga ............................\n",
      "[CV]  multi_class=multinomial, solver=saga, score=0.760342368045649, total=   0.1s\n",
      "[CV] multi_class=multinomial, solver=saga ............................\n",
      "[CV]  multi_class=multinomial, solver=saga, score=0.7648320228734811, total=   0.0s\n",
      "[CV] multi_class=multinomial, solver=saga ............................\n",
      "[CV]  multi_class=multinomial, solver=saga, score=0.7533952823445318, total=   0.1s\n"
     ]
    },
    {
     "name": "stderr",
     "output_type": "stream",
     "text": [
      "[Parallel(n_jobs=1)]: Done  24 out of  24 | elapsed:    1.9s finished\n"
     ]
    },
    {
     "data": {
      "text/plain": [
       "GridSearchCV(cv=None, error_score='raise',\n",
       "       estimator=LogisticRegression(C=1.0, class_weight=None, dual=False, fit_intercept=True,\n",
       "          intercept_scaling=1, max_iter=100, multi_class='multinomial',\n",
       "          n_jobs=1, penalty='l2', random_state=None, solver='saga',\n",
       "          tol=0.0001, verbose=0, warm_start=False),\n",
       "       fit_params=None, iid=True, n_jobs=1,\n",
       "       param_grid={'solver': ['newton-cg', 'lbfgs', 'sag', 'saga'], 'multi_class': ['ovr', 'multinomial']},\n",
       "       pre_dispatch='2*n_jobs', refit=True, return_train_score='warn',\n",
       "       scoring=None, verbose=3)"
      ]
     },
     "execution_count": 61,
     "metadata": {},
     "output_type": "execute_result"
    }
   ],
   "source": [
    "param_grid_loreg = {'solver': ['newton-cg', 'lbfgs', 'sag', 'saga'], 'multi_class':['ovr', 'multinomial']}\n",
    "grid_loreg = GridSearchCV(model_loreg, param_grid_loreg, verbose=3)\n",
    "grid_loreg.fit(X_train, y_train)"
   ]
  },
  {
   "cell_type": "code",
   "execution_count": 62,
   "metadata": {},
   "outputs": [
    {
     "data": {
      "text/plain": [
       "{'multi_class': 'ovr', 'solver': 'newton-cg'}"
      ]
     },
     "execution_count": 62,
     "metadata": {},
     "output_type": "execute_result"
    }
   ],
   "source": [
    "grid_loreg.best_params_"
   ]
  },
  {
   "cell_type": "code",
   "execution_count": 63,
   "metadata": {},
   "outputs": [
    {
     "name": "stdout",
     "output_type": "stream",
     "text": [
      "#LogisticRegression\n",
      "             precision    recall  f1-score   support\n",
      "\n",
      "      dance       0.73      0.73      0.73       455\n",
      "       jazz       0.80      0.88      0.84       437\n",
      "        rap       0.80      0.75      0.78       455\n",
      "       rock       0.72      0.71      0.71       453\n",
      "\n",
      "avg / total       0.76      0.76      0.76      1800\n",
      "\n"
     ]
    }
   ],
   "source": [
    "model_loreg_best = LogisticRegression(multi_class='ovr', solver='newton-cg')\n",
    "model_loreg_best.fit(X_train, y_train)\n",
    "predict = model_loreg_best.predict(X_test)\n",
    "classifi_report = classification_report(y_test, predict)\n",
    "print(\"#LogisticRegression\")\n",
    "print(classifi_report)\n",
    "# better a litter"
   ]
  },
  {
   "cell_type": "markdown",
   "metadata": {},
   "source": [
    "# Random Forest"
   ]
  },
  {
   "cell_type": "code",
   "execution_count": 64,
   "metadata": {},
   "outputs": [
    {
     "name": "stdout",
     "output_type": "stream",
     "text": [
      "Fitting 3 folds for each of 45 candidates, totalling 135 fits\n",
      "[CV] max_features=sqrt, min_samples_split=2, n_estimators=5 ..........\n",
      "[CV]  max_features=sqrt, min_samples_split=2, n_estimators=5, score=0.7810271041369472, total=   0.1s\n",
      "[CV] max_features=sqrt, min_samples_split=2, n_estimators=5 ..........\n",
      "[CV]  max_features=sqrt, min_samples_split=2, n_estimators=5, score=0.8027162258756254, total=   0.1s\n",
      "[CV] max_features=sqrt, min_samples_split=2, n_estimators=5 ..........\n",
      "[CV]  max_features=sqrt, min_samples_split=2, n_estimators=5, score=0.7877055039313795, total=   0.0s\n",
      "[CV] max_features=sqrt, min_samples_split=2, n_estimators=10 .........\n"
     ]
    },
    {
     "name": "stderr",
     "output_type": "stream",
     "text": [
      "[Parallel(n_jobs=1)]: Done   1 out of   1 | elapsed:    0.1s remaining:    0.0s\n",
      "[Parallel(n_jobs=1)]: Done   2 out of   2 | elapsed:    0.1s remaining:    0.0s\n"
     ]
    },
    {
     "name": "stdout",
     "output_type": "stream",
     "text": [
      "[CV]  max_features=sqrt, min_samples_split=2, n_estimators=10, score=0.8088445078459344, total=   0.1s\n",
      "[CV] max_features=sqrt, min_samples_split=2, n_estimators=10 .........\n",
      "[CV]  max_features=sqrt, min_samples_split=2, n_estimators=10, score=0.8220157255182273, total=   0.1s\n",
      "[CV] max_features=sqrt, min_samples_split=2, n_estimators=10 .........\n",
      "[CV]  max_features=sqrt, min_samples_split=2, n_estimators=10, score=0.8041458184417442, total=   0.1s\n",
      "[CV] max_features=sqrt, min_samples_split=2, n_estimators=100 ........\n",
      "[CV]  max_features=sqrt, min_samples_split=2, n_estimators=100, score=0.8495007132667618, total=   0.7s\n",
      "[CV] max_features=sqrt, min_samples_split=2, n_estimators=100 ........\n",
      "[CV]  max_features=sqrt, min_samples_split=2, n_estimators=100, score=0.8534667619728378, total=   0.7s\n",
      "[CV] max_features=sqrt, min_samples_split=2, n_estimators=100 ........\n",
      "[CV]  max_features=sqrt, min_samples_split=2, n_estimators=100, score=0.8263045032165832, total=   0.7s\n",
      "[CV] max_features=sqrt, min_samples_split=3, n_estimators=5 ..........\n",
      "[CV]  max_features=sqrt, min_samples_split=3, n_estimators=5, score=0.7817403708987162, total=   0.0s\n",
      "[CV] max_features=sqrt, min_samples_split=3, n_estimators=5 ..........\n",
      "[CV]  max_features=sqrt, min_samples_split=3, n_estimators=5, score=0.7912794853466762, total=   0.0s\n",
      "[CV] max_features=sqrt, min_samples_split=3, n_estimators=5 ..........\n",
      "[CV]  max_features=sqrt, min_samples_split=3, n_estimators=5, score=0.7748391708363116, total=   0.0s\n",
      "[CV] max_features=sqrt, min_samples_split=3, n_estimators=10 .........\n",
      "[CV]  max_features=sqrt, min_samples_split=3, n_estimators=10, score=0.8038516405135521, total=   0.1s\n",
      "[CV] max_features=sqrt, min_samples_split=3, n_estimators=10 .........\n",
      "[CV]  max_features=sqrt, min_samples_split=3, n_estimators=10, score=0.8313080771979986, total=   0.1s\n",
      "[CV] max_features=sqrt, min_samples_split=3, n_estimators=10 .........\n",
      "[CV]  max_features=sqrt, min_samples_split=3, n_estimators=10, score=0.7984274481772695, total=   0.1s\n",
      "[CV] max_features=sqrt, min_samples_split=3, n_estimators=100 ........\n",
      "[CV]  max_features=sqrt, min_samples_split=3, n_estimators=100, score=0.8416547788873039, total=   0.7s\n",
      "[CV] max_features=sqrt, min_samples_split=3, n_estimators=100 ........\n",
      "[CV]  max_features=sqrt, min_samples_split=3, n_estimators=100, score=0.8463187991422445, total=   0.8s\n",
      "[CV] max_features=sqrt, min_samples_split=3, n_estimators=100 ........\n",
      "[CV]  max_features=sqrt, min_samples_split=3, n_estimators=100, score=0.8320228734810579, total=   1.0s\n",
      "[CV] max_features=sqrt, min_samples_split=4, n_estimators=5 ..........\n",
      "[CV]  max_features=sqrt, min_samples_split=4, n_estimators=5, score=0.8074179743223966, total=   0.1s\n",
      "[CV] max_features=sqrt, min_samples_split=4, n_estimators=5 ..........\n",
      "[CV]  max_features=sqrt, min_samples_split=4, n_estimators=5, score=0.806290207290922, total=   0.1s\n",
      "[CV] max_features=sqrt, min_samples_split=4, n_estimators=5 ..........\n",
      "[CV]  max_features=sqrt, min_samples_split=4, n_estimators=5, score=0.777698355968549, total=   0.1s\n",
      "[CV] max_features=sqrt, min_samples_split=4, n_estimators=10 .........\n",
      "[CV]  max_features=sqrt, min_samples_split=4, n_estimators=10, score=0.8159771754636234, total=   0.1s\n",
      "[CV] max_features=sqrt, min_samples_split=4, n_estimators=10 .........\n",
      "[CV]  max_features=sqrt, min_samples_split=4, n_estimators=10, score=0.8263045032165832, total=   0.1s\n",
      "[CV] max_features=sqrt, min_samples_split=4, n_estimators=10 .........\n",
      "[CV]  max_features=sqrt, min_samples_split=4, n_estimators=10, score=0.7955682630450321, total=   0.1s\n",
      "[CV] max_features=sqrt, min_samples_split=4, n_estimators=100 ........\n",
      "[CV]  max_features=sqrt, min_samples_split=4, n_estimators=100, score=0.8445078459343794, total=   0.7s\n",
      "[CV] max_features=sqrt, min_samples_split=4, n_estimators=100 ........\n",
      "[CV]  max_features=sqrt, min_samples_split=4, n_estimators=100, score=0.8477483917083631, total=   0.8s\n",
      "[CV] max_features=sqrt, min_samples_split=4, n_estimators=100 ........\n",
      "[CV]  max_features=sqrt, min_samples_split=4, n_estimators=100, score=0.8320228734810579, total=   0.7s\n",
      "[CV] max_features=sqrt, min_samples_split=5, n_estimators=5 ..........\n",
      "[CV]  max_features=sqrt, min_samples_split=5, n_estimators=5, score=0.7796005706134094, total=   0.0s\n",
      "[CV] max_features=sqrt, min_samples_split=5, n_estimators=5 ..........\n",
      "[CV]  max_features=sqrt, min_samples_split=5, n_estimators=5, score=0.7941386704789135, total=   0.0s\n",
      "[CV] max_features=sqrt, min_samples_split=5, n_estimators=5 ..........\n",
      "[CV]  max_features=sqrt, min_samples_split=5, n_estimators=5, score=0.7791279485346676, total=   0.0s\n",
      "[CV] max_features=sqrt, min_samples_split=5, n_estimators=10 .........\n",
      "[CV]  max_features=sqrt, min_samples_split=5, n_estimators=10, score=0.81169757489301, total=   0.1s\n",
      "[CV] max_features=sqrt, min_samples_split=5, n_estimators=10 .........\n",
      "[CV]  max_features=sqrt, min_samples_split=5, n_estimators=10, score=0.8155825589706933, total=   0.1s\n",
      "[CV] max_features=sqrt, min_samples_split=5, n_estimators=10 .........\n",
      "[CV]  max_features=sqrt, min_samples_split=5, n_estimators=10, score=0.8048606147248034, total=   0.1s\n",
      "[CV] max_features=sqrt, min_samples_split=5, n_estimators=100 ........\n",
      "[CV]  max_features=sqrt, min_samples_split=5, n_estimators=100, score=0.8487874465049928, total=   0.7s\n",
      "[CV] max_features=sqrt, min_samples_split=5, n_estimators=100 ........\n",
      "[CV]  max_features=sqrt, min_samples_split=5, n_estimators=100, score=0.8441744102930665, total=   0.7s\n",
      "[CV] max_features=sqrt, min_samples_split=5, n_estimators=100 ........\n",
      "[CV]  max_features=sqrt, min_samples_split=5, n_estimators=100, score=0.8341672623302359, total=   0.7s\n",
      "[CV] max_features=sqrt, min_samples_split=10, n_estimators=5 .........\n",
      "[CV]  max_features=sqrt, min_samples_split=10, n_estimators=5, score=0.7796005706134094, total=   0.0s\n",
      "[CV] max_features=sqrt, min_samples_split=10, n_estimators=5 .........\n",
      "[CV]  max_features=sqrt, min_samples_split=10, n_estimators=5, score=0.8055754110078628, total=   0.0s\n",
      "[CV] max_features=sqrt, min_samples_split=10, n_estimators=5 .........\n",
      "[CV]  max_features=sqrt, min_samples_split=10, n_estimators=5, score=0.7784131522516083, total=   0.0s\n",
      "[CV] max_features=sqrt, min_samples_split=10, n_estimators=10 ........\n",
      "[CV]  max_features=sqrt, min_samples_split=10, n_estimators=10, score=0.8024251069900142, total=   0.1s\n",
      "[CV] max_features=sqrt, min_samples_split=10, n_estimators=10 ........\n",
      "[CV]  max_features=sqrt, min_samples_split=10, n_estimators=10, score=0.8091493924231594, total=   0.1s\n",
      "[CV] max_features=sqrt, min_samples_split=10, n_estimators=10 ........\n",
      "[CV]  max_features=sqrt, min_samples_split=10, n_estimators=10, score=0.7948534667619729, total=   0.1s\n",
      "[CV] max_features=sqrt, min_samples_split=10, n_estimators=100 .......\n",
      "[CV]  max_features=sqrt, min_samples_split=10, n_estimators=100, score=0.833808844507846, total=   0.7s\n",
      "[CV] max_features=sqrt, min_samples_split=10, n_estimators=100 .......\n",
      "[CV]  max_features=sqrt, min_samples_split=10, n_estimators=100, score=0.8391708363116511, total=   0.7s\n",
      "[CV] max_features=sqrt, min_samples_split=10, n_estimators=100 .......\n",
      "[CV]  max_features=sqrt, min_samples_split=10, n_estimators=100, score=0.8184417441029307, total=   0.8s\n",
      "[CV] max_features=log2, min_samples_split=2, n_estimators=5 ..........\n",
      "[CV]  max_features=log2, min_samples_split=2, n_estimators=5, score=0.7788873038516405, total=   0.0s\n",
      "[CV] max_features=log2, min_samples_split=2, n_estimators=5 ..........\n",
      "[CV]  max_features=log2, min_samples_split=2, n_estimators=5, score=0.7862759113652609, total=   0.0s\n",
      "[CV] max_features=log2, min_samples_split=2, n_estimators=5 ..........\n",
      "[CV]  max_features=log2, min_samples_split=2, n_estimators=5, score=0.7719799857040743, total=   0.0s\n",
      "[CV] max_features=log2, min_samples_split=2, n_estimators=10 .........\n",
      "[CV]  max_features=log2, min_samples_split=2, n_estimators=10, score=0.8124108416547788, total=   0.2s\n",
      "[CV] max_features=log2, min_samples_split=2, n_estimators=10 .........\n",
      "[CV]  max_features=log2, min_samples_split=2, n_estimators=10, score=0.8355968548963545, total=   0.1s\n",
      "[CV] max_features=log2, min_samples_split=2, n_estimators=10 .........\n",
      "[CV]  max_features=log2, min_samples_split=2, n_estimators=10, score=0.7905646890636169, total=   0.1s\n",
      "[CV] max_features=log2, min_samples_split=2, n_estimators=100 ........\n"
     ]
    },
    {
     "name": "stdout",
     "output_type": "stream",
     "text": [
      "[CV]  max_features=log2, min_samples_split=2, n_estimators=100, score=0.8530670470756063, total=   0.7s\n",
      "[CV] max_features=log2, min_samples_split=2, n_estimators=100 ........\n",
      "[CV]  max_features=log2, min_samples_split=2, n_estimators=100, score=0.8470335954253038, total=   0.7s\n",
      "[CV] max_features=log2, min_samples_split=2, n_estimators=100 ........\n",
      "[CV]  max_features=log2, min_samples_split=2, n_estimators=100, score=0.8313080771979986, total=   0.8s\n",
      "[CV] max_features=log2, min_samples_split=3, n_estimators=5 ..........\n",
      "[CV]  max_features=log2, min_samples_split=3, n_estimators=5, score=0.7838801711840229, total=   0.0s\n",
      "[CV] max_features=log2, min_samples_split=3, n_estimators=5 ..........\n",
      "[CV]  max_features=log2, min_samples_split=3, n_estimators=5, score=0.781987133666905, total=   0.0s\n",
      "[CV] max_features=log2, min_samples_split=3, n_estimators=5 ..........\n",
      "[CV]  max_features=log2, min_samples_split=3, n_estimators=5, score=0.779842744817727, total=   0.0s\n",
      "[CV] max_features=log2, min_samples_split=3, n_estimators=10 .........\n",
      "[CV]  max_features=log2, min_samples_split=3, n_estimators=10, score=0.8059914407988588, total=   0.1s\n",
      "[CV] max_features=log2, min_samples_split=3, n_estimators=10 .........\n",
      "[CV]  max_features=log2, min_samples_split=3, n_estimators=10, score=0.8020014295925662, total=   0.1s\n",
      "[CV] max_features=log2, min_samples_split=3, n_estimators=10 .........\n",
      "[CV]  max_features=log2, min_samples_split=3, n_estimators=10, score=0.7934238741958541, total=   0.1s\n",
      "[CV] max_features=log2, min_samples_split=3, n_estimators=100 ........\n",
      "[CV]  max_features=log2, min_samples_split=3, n_estimators=100, score=0.8487874465049928, total=   0.7s\n",
      "[CV] max_features=log2, min_samples_split=3, n_estimators=100 ........\n",
      "[CV]  max_features=log2, min_samples_split=3, n_estimators=100, score=0.8398856325947105, total=   0.8s\n",
      "[CV] max_features=log2, min_samples_split=3, n_estimators=100 ........\n",
      "[CV]  max_features=log2, min_samples_split=3, n_estimators=100, score=0.8313080771979986, total=   0.7s\n",
      "[CV] max_features=log2, min_samples_split=4, n_estimators=5 ..........\n",
      "[CV]  max_features=log2, min_samples_split=4, n_estimators=5, score=0.7838801711840229, total=   0.1s\n",
      "[CV] max_features=log2, min_samples_split=4, n_estimators=5 ..........\n",
      "[CV]  max_features=log2, min_samples_split=4, n_estimators=5, score=0.7919942816297355, total=   0.0s\n",
      "[CV] max_features=log2, min_samples_split=4, n_estimators=5 ..........\n",
      "[CV]  max_features=log2, min_samples_split=4, n_estimators=5, score=0.7805575411007862, total=   0.0s\n",
      "[CV] max_features=log2, min_samples_split=4, n_estimators=10 .........\n",
      "[CV]  max_features=log2, min_samples_split=4, n_estimators=10, score=0.8238231098430813, total=   0.1s\n",
      "[CV] max_features=log2, min_samples_split=4, n_estimators=10 .........\n",
      "[CV]  max_features=log2, min_samples_split=4, n_estimators=10, score=0.8162973552537527, total=   0.1s\n",
      "[CV] max_features=log2, min_samples_split=4, n_estimators=10 .........\n",
      "[CV]  max_features=log2, min_samples_split=4, n_estimators=10, score=0.7984274481772695, total=   0.1s\n",
      "[CV] max_features=log2, min_samples_split=4, n_estimators=100 ........\n",
      "[CV]  max_features=log2, min_samples_split=4, n_estimators=100, score=0.8487874465049928, total=   0.7s\n",
      "[CV] max_features=log2, min_samples_split=4, n_estimators=100 ........\n",
      "[CV]  max_features=log2, min_samples_split=4, n_estimators=100, score=0.8463187991422445, total=   0.8s\n",
      "[CV] max_features=log2, min_samples_split=4, n_estimators=100 ........\n",
      "[CV]  max_features=log2, min_samples_split=4, n_estimators=100, score=0.8313080771979986, total=   0.7s\n",
      "[CV] max_features=log2, min_samples_split=5, n_estimators=5 ..........\n",
      "[CV]  max_features=log2, min_samples_split=5, n_estimators=5, score=0.7838801711840229, total=   0.0s\n",
      "[CV] max_features=log2, min_samples_split=5, n_estimators=5 ..........\n",
      "[CV]  max_features=log2, min_samples_split=5, n_estimators=5, score=0.7927090779127949, total=   0.0s\n",
      "[CV] max_features=log2, min_samples_split=5, n_estimators=5 ..........\n",
      "[CV]  max_features=log2, min_samples_split=5, n_estimators=5, score=0.7898498927805575, total=   0.0s\n",
      "[CV] max_features=log2, min_samples_split=5, n_estimators=10 .........\n",
      "[CV]  max_features=log2, min_samples_split=5, n_estimators=10, score=0.8145506419400856, total=   0.1s\n",
      "[CV] max_features=log2, min_samples_split=5, n_estimators=10 .........\n",
      "[CV]  max_features=log2, min_samples_split=5, n_estimators=10, score=0.8184417441029307, total=   0.1s\n",
      "[CV] max_features=log2, min_samples_split=5, n_estimators=10 .........\n",
      "[CV]  max_features=log2, min_samples_split=5, n_estimators=10, score=0.7984274481772695, total=   0.1s\n",
      "[CV] max_features=log2, min_samples_split=5, n_estimators=100 ........\n",
      "[CV]  max_features=log2, min_samples_split=5, n_estimators=100, score=0.8509272467902995, total=   0.8s\n",
      "[CV] max_features=log2, min_samples_split=5, n_estimators=100 ........\n",
      "[CV]  max_features=log2, min_samples_split=5, n_estimators=100, score=0.8463187991422445, total=   0.7s\n",
      "[CV] max_features=log2, min_samples_split=5, n_estimators=100 ........\n",
      "[CV]  max_features=log2, min_samples_split=5, n_estimators=100, score=0.8327376697641172, total=   0.7s\n",
      "[CV] max_features=log2, min_samples_split=10, n_estimators=5 .........\n",
      "[CV]  max_features=log2, min_samples_split=10, n_estimators=5, score=0.7703281027104137, total=   0.0s\n",
      "[CV] max_features=log2, min_samples_split=10, n_estimators=5 .........\n",
      "[CV]  max_features=log2, min_samples_split=10, n_estimators=5, score=0.7862759113652609, total=   0.0s\n",
      "[CV] max_features=log2, min_samples_split=10, n_estimators=5 .........\n",
      "[CV]  max_features=log2, min_samples_split=10, n_estimators=5, score=0.773409578270193, total=   0.0s\n",
      "[CV] max_features=log2, min_samples_split=10, n_estimators=10 ........\n",
      "[CV]  max_features=log2, min_samples_split=10, n_estimators=10, score=0.8245363766048502, total=   0.1s\n",
      "[CV] max_features=log2, min_samples_split=10, n_estimators=10 ........\n",
      "[CV]  max_features=log2, min_samples_split=10, n_estimators=10, score=0.8005718370264474, total=   0.1s\n",
      "[CV] max_features=log2, min_samples_split=10, n_estimators=10 ........\n",
      "[CV]  max_features=log2, min_samples_split=10, n_estimators=10, score=0.8034310221586848, total=   0.1s\n",
      "[CV] max_features=log2, min_samples_split=10, n_estimators=100 .......\n",
      "[CV]  max_features=log2, min_samples_split=10, n_estimators=100, score=0.833808844507846, total=   0.7s\n",
      "[CV] max_features=log2, min_samples_split=10, n_estimators=100 .......\n",
      "[CV]  max_features=log2, min_samples_split=10, n_estimators=100, score=0.8334524660471766, total=   0.7s\n",
      "[CV] max_features=log2, min_samples_split=10, n_estimators=100 .......\n",
      "[CV]  max_features=log2, min_samples_split=10, n_estimators=100, score=0.821300929235168, total=   0.7s\n",
      "[CV] max_features=auto, min_samples_split=2, n_estimators=5 ..........\n",
      "[CV]  max_features=auto, min_samples_split=2, n_estimators=5, score=0.7810271041369472, total=   0.0s\n",
      "[CV] max_features=auto, min_samples_split=2, n_estimators=5 ..........\n",
      "[CV]  max_features=auto, min_samples_split=2, n_estimators=5, score=0.7862759113652609, total=   0.0s\n",
      "[CV] max_features=auto, min_samples_split=2, n_estimators=5 ..........\n",
      "[CV]  max_features=auto, min_samples_split=2, n_estimators=5, score=0.7698355968548963, total=   0.0s\n",
      "[CV] max_features=auto, min_samples_split=2, n_estimators=10 .........\n",
      "[CV]  max_features=auto, min_samples_split=2, n_estimators=10, score=0.8059914407988588, total=   0.1s\n",
      "[CV] max_features=auto, min_samples_split=2, n_estimators=10 .........\n",
      "[CV]  max_features=auto, min_samples_split=2, n_estimators=10, score=0.8205861329521087, total=   0.1s\n",
      "[CV] max_features=auto, min_samples_split=2, n_estimators=10 .........\n",
      "[CV]  max_features=auto, min_samples_split=2, n_estimators=10, score=0.7948534667619729, total=   0.1s\n",
      "[CV] max_features=auto, min_samples_split=2, n_estimators=100 ........\n",
      "[CV]  max_features=auto, min_samples_split=2, n_estimators=100, score=0.8530670470756063, total=   0.7s\n",
      "[CV] max_features=auto, min_samples_split=2, n_estimators=100 ........\n",
      "[CV]  max_features=auto, min_samples_split=2, n_estimators=100, score=0.8513223731236598, total=   0.7s\n",
      "[CV] max_features=auto, min_samples_split=2, n_estimators=100 ........\n",
      "[CV]  max_features=auto, min_samples_split=2, n_estimators=100, score=0.823445318084346, total=   0.8s\n",
      "[CV] max_features=auto, min_samples_split=3, n_estimators=5 ..........\n",
      "[CV]  max_features=auto, min_samples_split=3, n_estimators=5, score=0.7767475035663338, total=   0.1s\n",
      "[CV] max_features=auto, min_samples_split=3, n_estimators=5 ..........\n",
      "[CV]  max_features=auto, min_samples_split=3, n_estimators=5, score=0.7884203002144389, total=   0.0s\n",
      "[CV] max_features=auto, min_samples_split=3, n_estimators=5 ..........\n",
      "[CV]  max_features=auto, min_samples_split=3, n_estimators=5, score=0.7526804860614725, total=   0.0s\n",
      "[CV] max_features=auto, min_samples_split=3, n_estimators=10 .........\n"
     ]
    },
    {
     "name": "stdout",
     "output_type": "stream",
     "text": [
      "[CV]  max_features=auto, min_samples_split=3, n_estimators=10, score=0.8174037089871612, total=   0.1s\n",
      "[CV] max_features=auto, min_samples_split=3, n_estimators=10 .........\n",
      "[CV]  max_features=auto, min_samples_split=3, n_estimators=10, score=0.8198713366690493, total=   0.1s\n",
      "[CV] max_features=auto, min_samples_split=3, n_estimators=10 .........\n",
      "[CV]  max_features=auto, min_samples_split=3, n_estimators=10, score=0.7948534667619729, total=   0.1s\n",
      "[CV] max_features=auto, min_samples_split=3, n_estimators=100 ........\n",
      "[CV]  max_features=auto, min_samples_split=3, n_estimators=100, score=0.848074179743224, total=   0.7s\n",
      "[CV] max_features=auto, min_samples_split=3, n_estimators=100 ........\n",
      "[CV]  max_features=auto, min_samples_split=3, n_estimators=100, score=0.8463187991422445, total=   0.8s\n",
      "[CV] max_features=auto, min_samples_split=3, n_estimators=100 ........\n",
      "[CV]  max_features=auto, min_samples_split=3, n_estimators=100, score=0.8241601143674053, total=   0.8s\n",
      "[CV] max_features=auto, min_samples_split=4, n_estimators=5 ..........\n",
      "[CV]  max_features=auto, min_samples_split=4, n_estimators=5, score=0.7831669044222539, total=   0.0s\n",
      "[CV] max_features=auto, min_samples_split=4, n_estimators=5 ..........\n",
      "[CV]  max_features=auto, min_samples_split=4, n_estimators=5, score=0.8077197998570408, total=   0.0s\n",
      "[CV] max_features=auto, min_samples_split=4, n_estimators=5 ..........\n",
      "[CV]  max_features=auto, min_samples_split=4, n_estimators=5, score=0.7791279485346676, total=   0.0s\n",
      "[CV] max_features=auto, min_samples_split=4, n_estimators=10 .........\n",
      "[CV]  max_features=auto, min_samples_split=4, n_estimators=10, score=0.8202567760342369, total=   0.1s\n",
      "[CV] max_features=auto, min_samples_split=4, n_estimators=10 .........\n",
      "[CV]  max_features=auto, min_samples_split=4, n_estimators=10, score=0.8198713366690493, total=   0.1s\n",
      "[CV] max_features=auto, min_samples_split=4, n_estimators=10 .........\n",
      "[CV]  max_features=auto, min_samples_split=4, n_estimators=10, score=0.8134381701215153, total=   0.1s\n",
      "[CV] max_features=auto, min_samples_split=4, n_estimators=100 ........\n",
      "[CV]  max_features=auto, min_samples_split=4, n_estimators=100, score=0.8473609129814551, total=   0.7s\n",
      "[CV] max_features=auto, min_samples_split=4, n_estimators=100 ........\n",
      "[CV]  max_features=auto, min_samples_split=4, n_estimators=100, score=0.8484631879914224, total=   0.7s\n",
      "[CV] max_features=auto, min_samples_split=4, n_estimators=100 ........\n",
      "[CV]  max_features=auto, min_samples_split=4, n_estimators=100, score=0.8341672623302359, total=   0.7s\n",
      "[CV] max_features=auto, min_samples_split=5, n_estimators=5 ..........\n",
      "[CV]  max_features=auto, min_samples_split=5, n_estimators=5, score=0.7731811697574893, total=   0.0s\n",
      "[CV] max_features=auto, min_samples_split=5, n_estimators=5 ..........\n",
      "[CV]  max_features=auto, min_samples_split=5, n_estimators=5, score=0.7862759113652609, total=   0.1s\n",
      "[CV] max_features=auto, min_samples_split=5, n_estimators=5 ..........\n",
      "[CV]  max_features=auto, min_samples_split=5, n_estimators=5, score=0.7791279485346676, total=   0.1s\n",
      "[CV] max_features=auto, min_samples_split=5, n_estimators=10 .........\n",
      "[CV]  max_features=auto, min_samples_split=5, n_estimators=10, score=0.8109843081312411, total=   0.1s\n",
      "[CV] max_features=auto, min_samples_split=5, n_estimators=10 .........\n",
      "[CV]  max_features=auto, min_samples_split=5, n_estimators=10, score=0.8170121515368121, total=   0.1s\n",
      "[CV] max_features=auto, min_samples_split=5, n_estimators=10 .........\n",
      "[CV]  max_features=auto, min_samples_split=5, n_estimators=10, score=0.8012866333095068, total=   0.1s\n",
      "[CV] max_features=auto, min_samples_split=5, n_estimators=100 ........\n",
      "[CV]  max_features=auto, min_samples_split=5, n_estimators=100, score=0.8452211126961484, total=   0.7s\n",
      "[CV] max_features=auto, min_samples_split=5, n_estimators=100 ........\n",
      "[CV]  max_features=auto, min_samples_split=5, n_estimators=100, score=0.8484631879914224, total=   0.7s\n",
      "[CV] max_features=auto, min_samples_split=5, n_estimators=100 ........\n",
      "[CV]  max_features=auto, min_samples_split=5, n_estimators=100, score=0.8263045032165832, total=   0.7s\n",
      "[CV] max_features=auto, min_samples_split=10, n_estimators=5 .........\n",
      "[CV]  max_features=auto, min_samples_split=10, n_estimators=5, score=0.7874465049928673, total=   0.0s\n",
      "[CV] max_features=auto, min_samples_split=10, n_estimators=5 .........\n",
      "[CV]  max_features=auto, min_samples_split=10, n_estimators=5, score=0.7855611150822016, total=   0.0s\n",
      "[CV] max_features=auto, min_samples_split=10, n_estimators=5 .........\n",
      "[CV]  max_features=auto, min_samples_split=10, n_estimators=5, score=0.7748391708363116, total=   0.0s\n",
      "[CV] max_features=auto, min_samples_split=10, n_estimators=10 ........\n",
      "[CV]  max_features=auto, min_samples_split=10, n_estimators=10, score=0.8102710413694721, total=   0.1s\n",
      "[CV] max_features=auto, min_samples_split=10, n_estimators=10 ........\n",
      "[CV]  max_features=auto, min_samples_split=10, n_estimators=10, score=0.8120085775553967, total=   0.1s\n",
      "[CV] max_features=auto, min_samples_split=10, n_estimators=10 ........\n",
      "[CV]  max_features=auto, min_samples_split=10, n_estimators=10, score=0.7919942816297355, total=   0.1s\n",
      "[CV] max_features=auto, min_samples_split=10, n_estimators=100 .......\n",
      "[CV]  max_features=auto, min_samples_split=10, n_estimators=100, score=0.8316690442225392, total=   0.7s\n",
      "[CV] max_features=auto, min_samples_split=10, n_estimators=100 .......\n",
      "[CV]  max_features=auto, min_samples_split=10, n_estimators=100, score=0.8391708363116511, total=   0.7s\n",
      "[CV] max_features=auto, min_samples_split=10, n_estimators=100 .......\n",
      "[CV]  max_features=auto, min_samples_split=10, n_estimators=100, score=0.8112937812723374, total=   0.7s\n"
     ]
    },
    {
     "name": "stderr",
     "output_type": "stream",
     "text": [
      "[Parallel(n_jobs=1)]: Done 135 out of 135 | elapsed:   42.3s finished\n"
     ]
    },
    {
     "data": {
      "text/plain": [
       "GridSearchCV(cv=None, error_score='raise',\n",
       "       estimator=RandomForestClassifier(bootstrap=True, class_weight=None, criterion='gini',\n",
       "            max_depth=None, max_features='log2', max_leaf_nodes=None,\n",
       "            min_impurity_decrease=0.0, min_impurity_split=None,\n",
       "            min_samples_leaf=1, min_samples_split=2,\n",
       "            min_weight_fraction_leaf=0.0, n_estimators=5, n_jobs=1,\n",
       "            oob_score=False, random_state=None, verbose=0,\n",
       "            warm_start=False),\n",
       "       fit_params=None, iid=True, n_jobs=1,\n",
       "       param_grid={'n_estimators': [5, 10, 100], 'min_samples_split': [2, 3, 4, 5, 10], 'max_features': ['sqrt', 'log2', 'auto']},\n",
       "       pre_dispatch='2*n_jobs', refit=True, return_train_score='warn',\n",
       "       scoring=None, verbose=3)"
      ]
     },
     "execution_count": 64,
     "metadata": {},
     "output_type": "execute_result"
    }
   ],
   "source": [
    "param_grid_rf = {'n_estimators':[5, 10, 100], 'min_samples_split':[2, 3, 4, 5, 10], 'max_features': ['sqrt', 'log2', 'auto']}\n",
    "grid_rf = GridSearchCV(model_rf, param_grid_rf, verbose=3)\n",
    "grid_rf.fit(X_train, y_train)"
   ]
  },
  {
   "cell_type": "code",
   "execution_count": 65,
   "metadata": {},
   "outputs": [
    {
     "data": {
      "text/plain": [
       "{'max_features': 'log2', 'min_samples_split': 2, 'n_estimators': 100}"
      ]
     },
     "execution_count": 65,
     "metadata": {},
     "output_type": "execute_result"
    }
   ],
   "source": [
    "grid_rf.best_params_"
   ]
  },
  {
   "cell_type": "code",
   "execution_count": 66,
   "metadata": {},
   "outputs": [
    {
     "name": "stdout",
     "output_type": "stream",
     "text": [
      "             precision    recall  f1-score   support\n",
      "\n",
      "      dance       0.85      0.85      0.85       455\n",
      "       jazz       0.87      0.92      0.89       437\n",
      "        rap       0.90      0.89      0.89       455\n",
      "       rock       0.82      0.78      0.80       453\n",
      "\n",
      "avg / total       0.86      0.86      0.86      1800\n",
      "\n"
     ]
    }
   ],
   "source": [
    "model_rf_best = RandomForestClassifier(n_estimators=100,min_samples_split=3, max_features='log2')\n",
    "model_rf_best.fit(X_train, y_train)\n",
    "predict = model_rf_best.predict(X_test)\n",
    "classifi_report = classification_report(y_test, predict)\n",
    "print(classifi_report)"
   ]
  },
  {
   "cell_type": "markdown",
   "metadata": {},
   "source": [
    "# 4) Successfully find the best audio_features for all classifiers using the following feature selection methods:"
   ]
  },
  {
   "cell_type": "markdown",
   "metadata": {},
   "source": [
    "# Support Vector Machine - SelectKBest"
   ]
  },
  {
   "cell_type": "code",
   "execution_count": 67,
   "metadata": {},
   "outputs": [
    {
     "data": {
      "text/plain": [
       "(6000, 5)"
      ]
     },
     "execution_count": 67,
     "metadata": {},
     "output_type": "execute_result"
    }
   ],
   "source": [
    "selectK = SelectKBest(k=5)\n",
    "X_new = selectK.fit_transform(X, y)\n",
    "X_new.shape"
   ]
  },
  {
   "cell_type": "code",
   "execution_count": 68,
   "metadata": {},
   "outputs": [
    {
     "data": {
      "text/plain": [
       "['energy', 'speechiness', 'acousticness', 'valence', 'mode']"
      ]
     },
     "execution_count": 68,
     "metadata": {},
     "output_type": "execute_result"
    }
   ],
   "source": [
    "df_features.columns[selectK.get_support(indices=True)].tolist()"
   ]
  },
  {
   "cell_type": "markdown",
   "metadata": {},
   "source": [
    "# SelectFromModel - RFE"
   ]
  },
  {
   "cell_type": "code",
   "execution_count": 69,
   "metadata": {},
   "outputs": [
    {
     "data": {
      "text/html": [
       "<div>\n",
       "<style scoped>\n",
       "    .dataframe tbody tr th:only-of-type {\n",
       "        vertical-align: middle;\n",
       "    }\n",
       "\n",
       "    .dataframe tbody tr th {\n",
       "        vertical-align: top;\n",
       "    }\n",
       "\n",
       "    .dataframe thead th {\n",
       "        text-align: right;\n",
       "    }\n",
       "</style>\n",
       "<table border=\"1\" class=\"dataframe\">\n",
       "  <thead>\n",
       "    <tr style=\"text-align: right;\">\n",
       "      <th></th>\n",
       "      <th>feature</th>\n",
       "      <th>importance</th>\n",
       "    </tr>\n",
       "  </thead>\n",
       "  <tbody>\n",
       "    <tr>\n",
       "      <th>0</th>\n",
       "      <td>key</td>\n",
       "      <td>0.02</td>\n",
       "    </tr>\n",
       "    <tr>\n",
       "      <th>1</th>\n",
       "      <td>energy</td>\n",
       "      <td>0.09</td>\n",
       "    </tr>\n",
       "    <tr>\n",
       "      <th>2</th>\n",
       "      <td>liveliness</td>\n",
       "      <td>0.02</td>\n",
       "    </tr>\n",
       "    <tr>\n",
       "      <th>3</th>\n",
       "      <td>tempo</td>\n",
       "      <td>0.06</td>\n",
       "    </tr>\n",
       "    <tr>\n",
       "      <th>4</th>\n",
       "      <td>speechiness</td>\n",
       "      <td>0.14</td>\n",
       "    </tr>\n",
       "    <tr>\n",
       "      <th>5</th>\n",
       "      <td>acousticness</td>\n",
       "      <td>0.16</td>\n",
       "    </tr>\n",
       "    <tr>\n",
       "      <th>6</th>\n",
       "      <td>instrumentalness</td>\n",
       "      <td>0.07</td>\n",
       "    </tr>\n",
       "    <tr>\n",
       "      <th>7</th>\n",
       "      <td>time_signature</td>\n",
       "      <td>0.01</td>\n",
       "    </tr>\n",
       "    <tr>\n",
       "      <th>8</th>\n",
       "      <td>duration</td>\n",
       "      <td>0.00</td>\n",
       "    </tr>\n",
       "    <tr>\n",
       "      <th>9</th>\n",
       "      <td>loudness</td>\n",
       "      <td>0.05</td>\n",
       "    </tr>\n",
       "    <tr>\n",
       "      <th>10</th>\n",
       "      <td>valence</td>\n",
       "      <td>0.05</td>\n",
       "    </tr>\n",
       "    <tr>\n",
       "      <th>11</th>\n",
       "      <td>danceability</td>\n",
       "      <td>0.04</td>\n",
       "    </tr>\n",
       "    <tr>\n",
       "      <th>12</th>\n",
       "      <td>mode</td>\n",
       "      <td>0.13</td>\n",
       "    </tr>\n",
       "    <tr>\n",
       "      <th>13</th>\n",
       "      <td>time_signature_confidence</td>\n",
       "      <td>0.03</td>\n",
       "    </tr>\n",
       "    <tr>\n",
       "      <th>14</th>\n",
       "      <td>tempo_confidence</td>\n",
       "      <td>0.03</td>\n",
       "    </tr>\n",
       "    <tr>\n",
       "      <th>15</th>\n",
       "      <td>key_confidence</td>\n",
       "      <td>0.07</td>\n",
       "    </tr>\n",
       "    <tr>\n",
       "      <th>16</th>\n",
       "      <td>mode_confidence</td>\n",
       "      <td>0.03</td>\n",
       "    </tr>\n",
       "  </tbody>\n",
       "</table>\n",
       "</div>"
      ],
      "text/plain": [
       "                      feature  importance\n",
       "0                         key        0.02\n",
       "1                      energy        0.09\n",
       "2                  liveliness        0.02\n",
       "3                       tempo        0.06\n",
       "4                 speechiness        0.14\n",
       "5                acousticness        0.16\n",
       "6            instrumentalness        0.07\n",
       "7              time_signature        0.01\n",
       "8                    duration        0.00\n",
       "9                    loudness        0.05\n",
       "10                    valence        0.05\n",
       "11               danceability        0.04\n",
       "12                       mode        0.13\n",
       "13  time_signature_confidence        0.03\n",
       "14           tempo_confidence        0.03\n",
       "15             key_confidence        0.07\n",
       "16            mode_confidence        0.03"
      ]
     },
     "execution_count": 69,
     "metadata": {},
     "output_type": "execute_result"
    }
   ],
   "source": [
    "model_rf.feature_importances_\n",
    "importances = pd.DataFrame({\"feature\":df_features.columns, \"importance\":model_rf.feature_importances_})\n",
    "importances.importance = importances.importance.round(2) \n",
    "importances"
   ]
  },
  {
   "cell_type": "code",
   "execution_count": 70,
   "metadata": {},
   "outputs": [
    {
     "data": {
      "text/html": [
       "<div>\n",
       "<style scoped>\n",
       "    .dataframe tbody tr th:only-of-type {\n",
       "        vertical-align: middle;\n",
       "    }\n",
       "\n",
       "    .dataframe tbody tr th {\n",
       "        vertical-align: top;\n",
       "    }\n",
       "\n",
       "    .dataframe thead th {\n",
       "        text-align: right;\n",
       "    }\n",
       "</style>\n",
       "<table border=\"1\" class=\"dataframe\">\n",
       "  <thead>\n",
       "    <tr style=\"text-align: right;\">\n",
       "      <th></th>\n",
       "      <th>feature</th>\n",
       "      <th>importance</th>\n",
       "    </tr>\n",
       "  </thead>\n",
       "  <tbody>\n",
       "    <tr>\n",
       "      <th>10</th>\n",
       "      <td>valence</td>\n",
       "      <td>0.05</td>\n",
       "    </tr>\n",
       "    <tr>\n",
       "      <th>13</th>\n",
       "      <td>time_signature_confidence</td>\n",
       "      <td>0.03</td>\n",
       "    </tr>\n",
       "    <tr>\n",
       "      <th>7</th>\n",
       "      <td>time_signature</td>\n",
       "      <td>0.01</td>\n",
       "    </tr>\n",
       "    <tr>\n",
       "      <th>14</th>\n",
       "      <td>tempo_confidence</td>\n",
       "      <td>0.03</td>\n",
       "    </tr>\n",
       "    <tr>\n",
       "      <th>3</th>\n",
       "      <td>tempo</td>\n",
       "      <td>0.06</td>\n",
       "    </tr>\n",
       "    <tr>\n",
       "      <th>4</th>\n",
       "      <td>speechiness</td>\n",
       "      <td>0.14</td>\n",
       "    </tr>\n",
       "    <tr>\n",
       "      <th>16</th>\n",
       "      <td>mode_confidence</td>\n",
       "      <td>0.03</td>\n",
       "    </tr>\n",
       "    <tr>\n",
       "      <th>12</th>\n",
       "      <td>mode</td>\n",
       "      <td>0.13</td>\n",
       "    </tr>\n",
       "    <tr>\n",
       "      <th>9</th>\n",
       "      <td>loudness</td>\n",
       "      <td>0.05</td>\n",
       "    </tr>\n",
       "    <tr>\n",
       "      <th>2</th>\n",
       "      <td>liveliness</td>\n",
       "      <td>0.02</td>\n",
       "    </tr>\n",
       "    <tr>\n",
       "      <th>15</th>\n",
       "      <td>key_confidence</td>\n",
       "      <td>0.07</td>\n",
       "    </tr>\n",
       "    <tr>\n",
       "      <th>0</th>\n",
       "      <td>key</td>\n",
       "      <td>0.02</td>\n",
       "    </tr>\n",
       "    <tr>\n",
       "      <th>6</th>\n",
       "      <td>instrumentalness</td>\n",
       "      <td>0.07</td>\n",
       "    </tr>\n",
       "    <tr>\n",
       "      <th>1</th>\n",
       "      <td>energy</td>\n",
       "      <td>0.09</td>\n",
       "    </tr>\n",
       "    <tr>\n",
       "      <th>8</th>\n",
       "      <td>duration</td>\n",
       "      <td>0.00</td>\n",
       "    </tr>\n",
       "    <tr>\n",
       "      <th>11</th>\n",
       "      <td>danceability</td>\n",
       "      <td>0.04</td>\n",
       "    </tr>\n",
       "    <tr>\n",
       "      <th>5</th>\n",
       "      <td>acousticness</td>\n",
       "      <td>0.16</td>\n",
       "    </tr>\n",
       "  </tbody>\n",
       "</table>\n",
       "</div>"
      ],
      "text/plain": [
       "                      feature  importance\n",
       "10                    valence        0.05\n",
       "13  time_signature_confidence        0.03\n",
       "7              time_signature        0.01\n",
       "14           tempo_confidence        0.03\n",
       "3                       tempo        0.06\n",
       "4                 speechiness        0.14\n",
       "16            mode_confidence        0.03\n",
       "12                       mode        0.13\n",
       "9                    loudness        0.05\n",
       "2                  liveliness        0.02\n",
       "15             key_confidence        0.07\n",
       "0                         key        0.02\n",
       "6            instrumentalness        0.07\n",
       "1                      energy        0.09\n",
       "8                    duration        0.00\n",
       "11               danceability        0.04\n",
       "5                acousticness        0.16"
      ]
     },
     "execution_count": 70,
     "metadata": {},
     "output_type": "execute_result"
    }
   ],
   "source": [
    "importances.sort_values(by = 'feature', ascending=False)"
   ]
  },
  {
   "cell_type": "code",
   "execution_count": 84,
   "metadata": {},
   "outputs": [
    {
     "data": {
      "text/html": [
       "<div>\n",
       "<style scoped>\n",
       "    .dataframe tbody tr th:only-of-type {\n",
       "        vertical-align: middle;\n",
       "    }\n",
       "\n",
       "    .dataframe tbody tr th {\n",
       "        vertical-align: top;\n",
       "    }\n",
       "\n",
       "    .dataframe thead th {\n",
       "        text-align: right;\n",
       "    }\n",
       "</style>\n",
       "<table border=\"1\" class=\"dataframe\">\n",
       "  <thead>\n",
       "    <tr style=\"text-align: right;\">\n",
       "      <th></th>\n",
       "      <th>feature</th>\n",
       "      <th>importance</th>\n",
       "    </tr>\n",
       "  </thead>\n",
       "  <tbody>\n",
       "    <tr>\n",
       "      <th>0</th>\n",
       "      <td>key</td>\n",
       "      <td>0.02</td>\n",
       "    </tr>\n",
       "    <tr>\n",
       "      <th>1</th>\n",
       "      <td>energy</td>\n",
       "      <td>0.09</td>\n",
       "    </tr>\n",
       "    <tr>\n",
       "      <th>2</th>\n",
       "      <td>liveliness</td>\n",
       "      <td>0.02</td>\n",
       "    </tr>\n",
       "    <tr>\n",
       "      <th>3</th>\n",
       "      <td>tempo</td>\n",
       "      <td>0.06</td>\n",
       "    </tr>\n",
       "    <tr>\n",
       "      <th>4</th>\n",
       "      <td>speechiness</td>\n",
       "      <td>0.14</td>\n",
       "    </tr>\n",
       "    <tr>\n",
       "      <th>5</th>\n",
       "      <td>acousticness</td>\n",
       "      <td>0.16</td>\n",
       "    </tr>\n",
       "    <tr>\n",
       "      <th>6</th>\n",
       "      <td>instrumentalness</td>\n",
       "      <td>0.07</td>\n",
       "    </tr>\n",
       "    <tr>\n",
       "      <th>7</th>\n",
       "      <td>time_signature</td>\n",
       "      <td>0.01</td>\n",
       "    </tr>\n",
       "    <tr>\n",
       "      <th>8</th>\n",
       "      <td>duration</td>\n",
       "      <td>0.00</td>\n",
       "    </tr>\n",
       "    <tr>\n",
       "      <th>9</th>\n",
       "      <td>loudness</td>\n",
       "      <td>0.05</td>\n",
       "    </tr>\n",
       "    <tr>\n",
       "      <th>10</th>\n",
       "      <td>valence</td>\n",
       "      <td>0.05</td>\n",
       "    </tr>\n",
       "    <tr>\n",
       "      <th>11</th>\n",
       "      <td>danceability</td>\n",
       "      <td>0.04</td>\n",
       "    </tr>\n",
       "    <tr>\n",
       "      <th>12</th>\n",
       "      <td>mode</td>\n",
       "      <td>0.13</td>\n",
       "    </tr>\n",
       "    <tr>\n",
       "      <th>13</th>\n",
       "      <td>time_signature_confidence</td>\n",
       "      <td>0.03</td>\n",
       "    </tr>\n",
       "    <tr>\n",
       "      <th>14</th>\n",
       "      <td>tempo_confidence</td>\n",
       "      <td>0.03</td>\n",
       "    </tr>\n",
       "    <tr>\n",
       "      <th>15</th>\n",
       "      <td>key_confidence</td>\n",
       "      <td>0.07</td>\n",
       "    </tr>\n",
       "    <tr>\n",
       "      <th>16</th>\n",
       "      <td>mode_confidence</td>\n",
       "      <td>0.03</td>\n",
       "    </tr>\n",
       "  </tbody>\n",
       "</table>\n",
       "</div>"
      ],
      "text/plain": [
       "                      feature  importance\n",
       "0                         key        0.02\n",
       "1                      energy        0.09\n",
       "2                  liveliness        0.02\n",
       "3                       tempo        0.06\n",
       "4                 speechiness        0.14\n",
       "5                acousticness        0.16\n",
       "6            instrumentalness        0.07\n",
       "7              time_signature        0.01\n",
       "8                    duration        0.00\n",
       "9                    loudness        0.05\n",
       "10                    valence        0.05\n",
       "11               danceability        0.04\n",
       "12                       mode        0.13\n",
       "13  time_signature_confidence        0.03\n",
       "14           tempo_confidence        0.03\n",
       "15             key_confidence        0.07\n",
       "16            mode_confidence        0.03"
      ]
     },
     "execution_count": 84,
     "metadata": {},
     "output_type": "execute_result"
    }
   ],
   "source": [
    "importances"
   ]
  },
  {
   "cell_type": "code",
   "execution_count": 72,
   "metadata": {
    "scrolled": true
   },
   "outputs": [
    {
     "data": {
      "text/plain": [
       "<matplotlib.axes._subplots.AxesSubplot at 0x1a461bb358>"
      ]
     },
     "execution_count": 72,
     "metadata": {},
     "output_type": "execute_result"
    },
    {
     "data": {
      "image/png": "[encoded data removed]",
      "text/plain": [
       "<matplotlib.figure.Figure at 0x1a45cf7710>"
      ]
     },
     "metadata": {},
     "output_type": "display_data"
    }
   ],
   "source": [
    "importances.plot.bar()"
   ]
  },
  {
   "cell_type": "code",
   "execution_count": 73,
   "metadata": {},
   "outputs": [],
   "source": [
    "from numpy import sort\n",
    "from sklearn.metrics import accuracy_score\n",
    "from sklearn.feature_selection import SelectFromModel"
   ]
  },
  {
   "cell_type": "code",
   "execution_count": null,
   "metadata": {},
   "outputs": [],
   "source": [
    "thresholds = sort(model_rf.feature_importances_)\n",
    "thresholds"
   ]
  },
  {
   "cell_type": "code",
   "execution_count": 86,
   "metadata": {},
   "outputs": [
    {
     "name": "stdout",
     "output_type": "stream",
     "text": [
      "Thresh=0.004, n=17, Accuracy: 0.85\n",
      "Thresh=0.008, n=16, Accuracy: 0.84\n",
      "Thresh=0.020, n=15, Accuracy: 0.84\n",
      "Thresh=0.024, n=14, Accuracy: 0.84\n",
      "Thresh=0.027, n=13, Accuracy: 0.83\n",
      "Thresh=0.028, n=12, Accuracy: 0.84\n",
      "Thresh=0.030, n=11, Accuracy: 0.84\n",
      "Thresh=0.038, n=10, Accuracy: 0.85\n",
      "Thresh=0.045, n=9, Accuracy: 0.83\n",
      "Thresh=0.050, n=8, Accuracy: 0.84\n",
      "Thresh=0.062, n=7, Accuracy: 0.82\n",
      "Thresh=0.068, n=6, Accuracy: 0.82\n",
      "Thresh=0.074, n=5, Accuracy: 0.80\n",
      "Thresh=0.091, n=4, Accuracy: 0.78\n",
      "Thresh=0.125, n=3, Accuracy: 0.78\n",
      "Thresh=0.143, n=2, Accuracy: 0.69\n",
      "Thresh=0.162, n=1, Accuracy: 0.61\n"
     ]
    }
   ],
   "source": [
    "for thresh in thresholds:\n",
    "    # select features using threshold\n",
    "    sfm = SelectFromModel(model_rf, threshold=thresh, prefit=True)\n",
    "    select_X_train = sfm.transform(X_train)\n",
    "\n",
    "     # train model\n",
    "    model_rf_new = RandomForestClassifier()\n",
    "    model_rf_new.fit(select_X_train, y_train)\n",
    "\n",
    "    # eval model\n",
    "    select_X_test = sfm.transform(X_test)\n",
    "    predictions = model_rf_new.predict(select_X_test)\n",
    "    accuracy = accuracy_score(y_test, predictions)\n",
    "    print(\"Thresh=%.3f, n=%d, Accuracy: %.2f\" % (thresh, select_X_train.shape[1], accuracy)) "
   ]
  },
  {
   "cell_type": "code",
   "execution_count": 109,
   "metadata": {},
   "outputs": [
    {
     "data": {
      "text/plain": [
       "SelectFromModel(estimator=SelectFromModel(estimator=RandomForestClassifier(bootstrap=True, class_weight=None, criterion='gini',\n",
       "            max_depth=None, max_features='log2', max_leaf_nodes=None,\n",
       "            min_impurity_decrease=0.0, min_impurity_split=None,\n",
       "            min_samples_leaf=1, min_samples_split=2,\n",
       " ...None, verbose=0,\n",
       "            warm_start=False),\n",
       "        norm_order=1, prefit=False, threshold=0.038),\n",
       "        norm_order=1, prefit=False, threshold=0.038)"
      ]
     },
     "execution_count": 109,
     "metadata": {},
     "output_type": "execute_result"
    }
   ],
   "source": [
    "model_rf_best =  SelectFromModel (model_rf_best, threshold=0.038)\n",
    "model_rf_best.fit(X_train, y_train)"
   ]
  },
  {
   "cell_type": "code",
   "execution_count": 110,
   "metadata": {},
   "outputs": [
    {
     "name": "stdout",
     "output_type": "stream",
     "text": [
      "             precision    recall  f1-score   support\n",
      "\n",
      "      dance       0.77      0.83      0.80       455\n",
      "       jazz       0.83      0.90      0.86       437\n",
      "        rap       0.86      0.85      0.85       455\n",
      "       rock       0.78      0.66      0.71       453\n",
      "\n",
      "avg / total       0.81      0.81      0.81      1800\n",
      "\n"
     ]
    }
   ],
   "source": [
    "predict = model_rf.predict(X_test)\n",
    "classifi_report = classification_report(y_test, predict)\n",
    "print(classifi_report)\n",
    "confus_mat = ConfusionMatrix(list(y_test), list(predict))"
   ]
  },
  {
   "cell_type": "code",
   "execution_count": 111,
   "metadata": {},
   "outputs": [
    {
     "name": "stdout",
     "output_type": "stream",
     "text": [
      "RFE(estimator=SelectFromModel(estimator=SelectFromModel(estimator=RandomForestClassifier(bootstrap=True, class_weight=None, criterion='gini',\n",
      "            max_depth=None, max_features='log2', max_leaf_nodes=None,\n",
      "            min_impurity_decrease=0.0, min_impurity_split=None,\n",
      "            min_samples_leaf=1, min_samples_split=2,\n",
      " ...None, verbose=0,\n",
      "            warm_start=False),\n",
      "        norm_order=1, prefit=False, threshold=0.038),\n",
      "        norm_order=1, prefit=False, threshold=0.038),\n",
      "  n_features_to_select=10, step=1, verbose=0)\n"
     ]
    }
   ],
   "source": [
    "rfe_model= RFE(model_rf_best, n_features_to_select=10)\n",
    "print(rfe_model)"
   ]
  },
  {
   "cell_type": "code",
   "execution_count": 112,
   "metadata": {},
   "outputs": [],
   "source": [
    "rfe_model = model_rf.fit(X_train, y_train)"
   ]
  },
  {
   "cell_type": "code",
   "execution_count": 113,
   "metadata": {},
   "outputs": [],
   "source": [
    "predictions = rfe_model.predict(X_test)"
   ]
  },
  {
   "cell_type": "code",
   "execution_count": 114,
   "metadata": {},
   "outputs": [
    {
     "name": "stdout",
     "output_type": "stream",
     "text": [
      "0.8038888888888889\n"
     ]
    }
   ],
   "source": [
    "print(accuracy_score(y_test, predictions))"
   ]
  },
  {
   "cell_type": "code",
   "execution_count": null,
   "metadata": {},
   "outputs": [],
   "source": []
  }
 ],
 "metadata": {
  "kernelspec": {
   "display_name": "Python 3",
   "language": "python",
   "name": "python3"
  },
  "language_info": {
   "codemirror_mode": {
    "name": "ipython",
    "version": 3
   },
   "file_extension": ".py",
   "mimetype": "text/x-python",
   "name": "python",
   "nbconvert_exporter": "python",
   "pygments_lexer": "ipython3",
   "version": "3.6.4"
  }
 },
 "nbformat": 4,
 "nbformat_minor": 2
}
