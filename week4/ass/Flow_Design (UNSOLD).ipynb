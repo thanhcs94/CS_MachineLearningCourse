{
 "cells": [
  {
   "cell_type": "markdown",
   "metadata": {},
   "source": [
    "# Inout and Output\n",
    "Input: name of anysong or anything else\n",
    "\n",
    "Out put: List of song and similar score ranking\n",
    "\n",
    "Defind metrics for similarity is genre and mood. This means that, for 2 songs to be similar, they need to have the same genre and/or the same mood. \n",
    "\n",
    "\n",
    "# Go details\n",
    "\n",
    "### Step 1: Predict moods\n",
    "\n",
    "From audio features: Multiple Label Classification, Random Forest Classifier and optimize buy GridsearchCV\n",
    "\n",
    "From lyrics feature: Multiple Label Classification, TF-IDF, Random Forest Classifier\n",
    "\n",
    "Use classifier Chain: take the output for the next classifier\n",
    "\n",
    "Use probalities to pick top 3 moods.\n",
    "\n",
    "\n",
    "### Step 2: Predict genres \n",
    "Use KNN, LogReg , SVM. \n",
    " \n",
    "\n",
    "Then use Voting Clasifier to get the genres.\n",
    "\n",
    "\n",
    "### Step 3: Connect all these classifiers together.\n",
    "\n",
    "Use Cosine Similarity\n",
    "\n",
    "### Step 4: Output should be a list of at least 10 similar songs\n",
    "\n",
    "\n"
   ]
  }
 ],
 "metadata": {
  "kernelspec": {
   "display_name": "Python 3",
   "language": "python",
   "name": "python3"
  },
  "language_info": {
   "codemirror_mode": {
    "name": "ipython",
    "version": 3
   },
   "file_extension": ".py",
   "mimetype": "text/x-python",
   "name": "python",
   "nbconvert_exporter": "python",
   "pygments_lexer": "ipython3",
   "version": "3.6.4"
  }
 },
 "nbformat": 4,
 "nbformat_minor": 2
}
