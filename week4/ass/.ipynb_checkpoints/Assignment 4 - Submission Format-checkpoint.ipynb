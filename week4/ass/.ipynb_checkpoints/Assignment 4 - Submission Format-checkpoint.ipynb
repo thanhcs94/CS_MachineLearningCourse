{
 "cells": [
  {
   "cell_type": "markdown",
   "metadata": {},
   "source": [
    "# Assignment 4: Submission Format"
   ]
  },
  {
   "cell_type": "markdown",
   "metadata": {},
   "source": [
    "This notebook shows you how you should format your function in order to return your playlist of 10 songs, along with any other information you want to return."
   ]
  },
  {
   "cell_type": "code",
   "execution_count": 8,
   "metadata": {},
   "outputs": [],
   "source": [
    "import pandas as pd"
   ]
  },
  {
   "cell_type": "code",
   "execution_count": 13,
   "metadata": {},
   "outputs": [],
   "source": [
    "songs_master_df = pd.read_json('MasterSongList.json')"
   ]
  },
  {
   "cell_type": "code",
   "execution_count": 15,
   "metadata": {},
   "outputs": [
    {
     "name": "stdout",
     "output_type": "stream",
     "text": [
      "number of unique moods:  32\n",
      "['energetic', 'motivational', 'happy', 'celebratory', 'rowdy', 'sprightly', 'warm', 'seductive', 'nocturnal', 'campy', 'soothing', 'raw', 'trippy', 'mellow', 'aggressive', 'sexual', 'cocky', 'trashy', 'funky', 'lush', 'sweet', 'atmospheric', 'sad', 'visceral', 'classy', 'earthy', 'angsty', 'gloomy', 'introspective', 'cold', 'hypnotic', 'spacey']\n"
     ]
    },
    {
     "data": {
      "text/html": [
       "<div>\n",
       "<style scoped>\n",
       "    .dataframe tbody tr th:only-of-type {\n",
       "        vertical-align: middle;\n",
       "    }\n",
       "\n",
       "    .dataframe tbody tr th {\n",
       "        vertical-align: top;\n",
       "    }\n",
       "\n",
       "    .dataframe thead th {\n",
       "        text-align: right;\n",
       "    }\n",
       "</style>\n",
       "<table border=\"1\" class=\"dataframe\">\n",
       "  <thead>\n",
       "    <tr style=\"text-align: right;\">\n",
       "      <th></th>\n",
       "      <th>0</th>\n",
       "    </tr>\n",
       "  </thead>\n",
       "  <tbody>\n",
       "    <tr>\n",
       "      <th>energetic</th>\n",
       "      <td>3689</td>\n",
       "    </tr>\n",
       "    <tr>\n",
       "      <th>motivational</th>\n",
       "      <td>1433</td>\n",
       "    </tr>\n",
       "    <tr>\n",
       "      <th>happy</th>\n",
       "      <td>2624</td>\n",
       "    </tr>\n",
       "    <tr>\n",
       "      <th>celebratory</th>\n",
       "      <td>2093</td>\n",
       "    </tr>\n",
       "    <tr>\n",
       "      <th>rowdy</th>\n",
       "      <td>2400</td>\n",
       "    </tr>\n",
       "    <tr>\n",
       "      <th>sprightly</th>\n",
       "      <td>3728</td>\n",
       "    </tr>\n",
       "    <tr>\n",
       "      <th>warm</th>\n",
       "      <td>2824</td>\n",
       "    </tr>\n",
       "    <tr>\n",
       "      <th>seductive</th>\n",
       "      <td>2339</td>\n",
       "    </tr>\n",
       "    <tr>\n",
       "      <th>nocturnal</th>\n",
       "      <td>2549</td>\n",
       "    </tr>\n",
       "    <tr>\n",
       "      <th>campy</th>\n",
       "      <td>1081</td>\n",
       "    </tr>\n",
       "    <tr>\n",
       "      <th>soothing</th>\n",
       "      <td>2683</td>\n",
       "    </tr>\n",
       "    <tr>\n",
       "      <th>raw</th>\n",
       "      <td>2542</td>\n",
       "    </tr>\n",
       "    <tr>\n",
       "      <th>trippy</th>\n",
       "      <td>1456</td>\n",
       "    </tr>\n",
       "    <tr>\n",
       "      <th>mellow</th>\n",
       "      <td>4872</td>\n",
       "    </tr>\n",
       "    <tr>\n",
       "      <th>aggressive</th>\n",
       "      <td>2235</td>\n",
       "    </tr>\n",
       "    <tr>\n",
       "      <th>sexual</th>\n",
       "      <td>600</td>\n",
       "    </tr>\n",
       "    <tr>\n",
       "      <th>cocky</th>\n",
       "      <td>1827</td>\n",
       "    </tr>\n",
       "    <tr>\n",
       "      <th>trashy</th>\n",
       "      <td>675</td>\n",
       "    </tr>\n",
       "    <tr>\n",
       "      <th>funky</th>\n",
       "      <td>3632</td>\n",
       "    </tr>\n",
       "    <tr>\n",
       "      <th>lush</th>\n",
       "      <td>2589</td>\n",
       "    </tr>\n",
       "    <tr>\n",
       "      <th>sweet</th>\n",
       "      <td>1267</td>\n",
       "    </tr>\n",
       "    <tr>\n",
       "      <th>atmospheric</th>\n",
       "      <td>2460</td>\n",
       "    </tr>\n",
       "    <tr>\n",
       "      <th>sad</th>\n",
       "      <td>1795</td>\n",
       "    </tr>\n",
       "    <tr>\n",
       "      <th>visceral</th>\n",
       "      <td>2044</td>\n",
       "    </tr>\n",
       "    <tr>\n",
       "      <th>classy</th>\n",
       "      <td>1865</td>\n",
       "    </tr>\n",
       "    <tr>\n",
       "      <th>earthy</th>\n",
       "      <td>1848</td>\n",
       "    </tr>\n",
       "    <tr>\n",
       "      <th>angsty</th>\n",
       "      <td>1535</td>\n",
       "    </tr>\n",
       "    <tr>\n",
       "      <th>gloomy</th>\n",
       "      <td>1417</td>\n",
       "    </tr>\n",
       "    <tr>\n",
       "      <th>introspective</th>\n",
       "      <td>1923</td>\n",
       "    </tr>\n",
       "    <tr>\n",
       "      <th>cold</th>\n",
       "      <td>1730</td>\n",
       "    </tr>\n",
       "    <tr>\n",
       "      <th>hypnotic</th>\n",
       "      <td>1234</td>\n",
       "    </tr>\n",
       "    <tr>\n",
       "      <th>spacey</th>\n",
       "      <td>1438</td>\n",
       "    </tr>\n",
       "  </tbody>\n",
       "</table>\n",
       "</div>"
      ],
      "text/plain": [
       "                  0\n",
       "energetic      3689\n",
       "motivational   1433\n",
       "happy          2624\n",
       "celebratory    2093\n",
       "rowdy          2400\n",
       "sprightly      3728\n",
       "warm           2824\n",
       "seductive      2339\n",
       "nocturnal      2549\n",
       "campy          1081\n",
       "soothing       2683\n",
       "raw            2542\n",
       "trippy         1456\n",
       "mellow         4872\n",
       "aggressive     2235\n",
       "sexual          600\n",
       "cocky          1827\n",
       "trashy          675\n",
       "funky          3632\n",
       "lush           2589\n",
       "sweet          1267\n",
       "atmospheric    2460\n",
       "sad            1795\n",
       "visceral       2044\n",
       "classy         1865\n",
       "earthy         1848\n",
       "angsty         1535\n",
       "gloomy         1417\n",
       "introspective  1923\n",
       "cold           1730\n",
       "hypnotic       1234\n",
       "spacey         1438"
      ]
     },
     "execution_count": 15,
     "metadata": {},
     "output_type": "execute_result"
    }
   ],
   "source": [
    "moods_list = []\n",
    "unique_moods = []\n",
    "for song_mood_list in songs_master_df['moods']:\n",
    "    if len(song_mood_list) > 0:\n",
    "        moods_list.append(song_mood_list)\n",
    "        for mood in song_mood_list:\n",
    "            if mood not in unique_moods:\n",
    "                unique_moods.append(mood)\n",
    "\n",
    "\n",
    "print('number of unique moods: ', len(unique_moods))\n",
    "print(unique_moods)\n",
    "\n",
    "unique_mood_count = []\n",
    "for mood in unique_moods:\n",
    "    count = 0\n",
    "    for song_mood_list in songs_master_df['moods']:\n",
    "        if mood in song_mood_list:\n",
    "            count = count + 1\n",
    "    unique_mood_count.append(count)\n",
    "unique_mood_count\n",
    "\n",
    "unique_mood_count_dict = {}\n",
    "for i in range(len(unique_moods)):\n",
    "    unique_mood_count_dict[unique_moods[i]] = unique_mood_count[i]\n",
    "print(unique_mood_count_dict)\n",
    "mood_count = pd.DataFrame.from_dict(data=unique_mood_count_dict, orient='index')\n",
    "mood_count"
   ]
  },
  {
   "cell_type": "code",
   "execution_count": null,
   "metadata": {},
   "outputs": [],
   "source": []
  },
  {
   "cell_type": "code",
   "execution_count": null,
   "metadata": {},
   "outputs": [],
   "source": []
  },
  {
   "cell_type": "code",
   "execution_count": null,
   "metadata": {},
   "outputs": [],
   "source": []
  },
  {
   "cell_type": "code",
   "execution_count": null,
   "metadata": {},
   "outputs": [],
   "source": []
  },
  {
   "cell_type": "code",
   "execution_count": null,
   "metadata": {},
   "outputs": [],
   "source": []
  },
  {
   "cell_type": "code",
   "execution_count": 26,
   "metadata": {},
   "outputs": [],
   "source": [
    "# makes printing a dict look nice\n",
    "import pprint\n",
    "pp = pprint.PrettyPrinter(indent=4)"
   ]
  },
  {
   "cell_type": "code",
   "execution_count": 27,
   "metadata": {},
   "outputs": [],
   "source": [
    "# you need this for namedtuple\n",
    "from collections import namedtuple"
   ]
  },
  {
   "cell_type": "code",
   "execution_count": 28,
   "metadata": {},
   "outputs": [
    {
     "name": "stdout",
     "output_type": "stream",
     "text": [
      "{   'playlist': [   Song(artist='kanye west', title='i am a god'),\n",
      "                    Song(artist='linkin park', title='crawling')]}\n"
     ]
    }
   ],
   "source": [
    "# Create a namedtuple called 'Song'\n",
    "Song = namedtuple(\"Song\", [\"artist\", \"title\"])\n",
    "\n",
    "song_1 = Song(artist=\"kanye west\", title='i am a god')\n",
    "song_2 = Song(artist=\"linkin park\", title=\"crawling\")\n",
    "# etc.\n",
    "\n",
    "# Return your results as a dict containing a key called 'playlist' , which contains a list of the song tuples.\n",
    "final_result_dictionary = dict(playlist=[song_1, song_2]) # this example uses only 2 songs but you need to return 10 :)\n",
    "\n",
    "pp.pprint(final_result_dictionary)"
   ]
  },
  {
   "cell_type": "code",
   "execution_count": 29,
   "metadata": {},
   "outputs": [
    {
     "name": "stdout",
     "output_type": "stream",
     "text": [
      "{   'playlist': [   Song(artist='kanye west', title='i am a god', info={'playlist': [Song(artist='kanye west', title='i am a god'), Song(artist='linkin park', title='crawling')], 'mood': [Mood(description='Happy', probability=0.75), Mood(description='Energetic', probability=0.71), Mood(description='Celebratory', probability=0.68)], 'genre': 'Jazz'}),\n",
      "                    Song(artist='linkin park', title='crawling', info={'playlist': [Song(artist='kanye west', title='i am a god'), Song(artist='linkin park', title='crawling')], 'mood': [Mood(description='Happy', probability=0.75), Mood(description='Energetic', probability=0.71), Mood(description='Celebratory', probability=0.68)], 'genre': 'Jazz'})]}\n"
     ]
    }
   ],
   "source": [
    "# You can also include more information if you like. For example, if you decide to include Top 3 Moods & Genre:\n",
    "\n",
    "# I'm choosing to also include probability, so I'm making Mood a namedtuple as well\n",
    "Mood = namedtuple(\"Mood\", [\"description\", \"probability\"])\n",
    "\n",
    "top_mood_1 = Mood(description='Happy', probability=0.75)\n",
    "top_mood_2 = Mood(description='Energetic', probability=0.71)\n",
    "top_mood_3 = Mood(description='Celebratory', probability=0.68)\n",
    "\n",
    "final_result_dictionary['mood'] = [top_mood_1, top_mood_2, top_mood_3]\n",
    "final_result_dictionary['genre'] = 'Jazz'\n",
    "\n",
    "#pp.pprint(final_result_dictionary)\n",
    "\n",
    "\n",
    "\n",
    "# Create a namedtuple called 'Song'\n",
    "Song = namedtuple(\"Song\", [\"artist\", \"title\", \"info\"])\n",
    "\n",
    "song_1 = Song(artist=\"kanye west\", title='i am a god', info = final_result_dictionary)\n",
    "song_2 = Song(artist=\"linkin park\", title=\"crawling\",  info = final_result_dictionary)\n",
    "# etc.\n",
    "\n",
    "# Return your results as a dict containing a key called 'playlist' , which contains a list of the song tuples.\n",
    "final_result_dictionary = dict(playlist=[song_1, song_2]) # this example uses only 2 songs but you need to return 10 :)\n",
    "pp.pprint(final_result_dictionary)\n",
    "\n"
   ]
  },
  {
   "cell_type": "code",
   "execution_count": 25,
   "metadata": {},
   "outputs": [],
   "source": [
    "# You should submit code that basically looks like this\n",
    "def recommend_similar_songs(audio_features, lyrics_features):\n",
    "    # ALL YOUR CODE\n",
    "    \n",
    "    return final_result_dictionary    "
   ]
  },
  {
   "cell_type": "markdown",
   "metadata": {},
   "source": [
    "---"
   ]
  }
 ],
 "metadata": {
  "kernelspec": {
   "display_name": "Python 3",
   "language": "python",
   "name": "python3"
  },
  "language_info": {
   "codemirror_mode": {
    "name": "ipython",
    "version": 3
   },
   "file_extension": ".py",
   "mimetype": "text/x-python",
   "name": "python",
   "nbconvert_exporter": "python",
   "pygments_lexer": "ipython3",
   "version": "3.6.4"
  }
 },
 "nbformat": 4,
 "nbformat_minor": 2
}
