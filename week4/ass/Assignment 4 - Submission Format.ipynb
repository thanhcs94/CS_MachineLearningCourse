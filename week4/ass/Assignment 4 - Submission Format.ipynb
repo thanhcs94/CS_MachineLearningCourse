{
 "cells": [
  {
   "cell_type": "markdown",
   "metadata": {},
   "source": [
    "# Assignment 4: Submission Format"
   ]
  },
  {
   "cell_type": "markdown",
   "metadata": {},
   "source": [
    "This notebook shows you how you should format your function in order to return your playlist of 10 songs, along with any other information you want to return."
   ]
  },
  {
   "cell_type": "code",
   "execution_count": 102,
   "metadata": {},
   "outputs": [],
   "source": [
    "import pandas as pd\n",
    "import numpy as np\n",
    "import pickle\n",
    "from sklearn.preprocessing import StandardScaler\n",
    "from sklearn.feature_extraction.text import TfidfVectorizer\n",
    "from sklearn.preprocessing import MultiLabelBinarizer\n",
    "\n",
    "# you need this for namedtuple\n",
    "from collections import namedtuple\n",
    "from string import  punctuation\n",
    "from sklearn.feature_extraction.stop_words import ENGLISH_STOP_WORDS\n",
    "from nltk.stem.snowball import SnowballStemmer\n",
    "\n",
    "# makes printing a dict look nice\n",
    "import pprint\n",
    "pp = pprint.PrettyPrinter(indent=4)"
   ]
  },
  {
   "cell_type": "code",
   "execution_count": 103,
   "metadata": {},
   "outputs": [],
   "source": [
    "songs_master_df = pd.read_json('MasterSongList.json')"
   ]
  },
  {
   "cell_type": "code",
   "execution_count": 104,
   "metadata": {},
   "outputs": [],
   "source": [
    "songs_master_df.loc[:,'genres'] = songs_master_df['genres'].apply(''.join)\n",
    "def consolidateGenre(genre):\n",
    "    if(len(genre) > 0):\n",
    "        return genre.split(':')[0]\n",
    "    else:\n",
    "        return genre\n",
    "songs_master_df.loc[:,'genres'] = songs_master_df['genres'].apply(consolidateGenre)\n",
    "genres_moods_df = pd.concat([songs_master_df['genres'], songs_master_df['moods'], songs_master_df['artist'], songs_master_df['name']], axis=1)"
   ]
  },
  {
   "cell_type": "code",
   "execution_count": 105,
   "metadata": {
    "scrolled": true
   },
   "outputs": [
    {
     "data": {
      "text/html": [
       "<div>\n",
       "<style scoped>\n",
       "    .dataframe tbody tr th:only-of-type {\n",
       "        vertical-align: middle;\n",
       "    }\n",
       "\n",
       "    .dataframe tbody tr th {\n",
       "        vertical-align: top;\n",
       "    }\n",
       "\n",
       "    .dataframe thead th {\n",
       "        text-align: right;\n",
       "    }\n",
       "</style>\n",
       "<table border=\"1\" class=\"dataframe\">\n",
       "  <thead>\n",
       "    <tr style=\"text-align: right;\">\n",
       "      <th></th>\n",
       "      <th>genres</th>\n",
       "      <th>moods</th>\n",
       "      <th>artist</th>\n",
       "      <th>name</th>\n",
       "    </tr>\n",
       "  </thead>\n",
       "  <tbody>\n",
       "    <tr>\n",
       "      <th>0</th>\n",
       "      <td>pop</td>\n",
       "      <td>[energetic, motivational]</td>\n",
       "      <td>PSY</td>\n",
       "      <td>Gangnam Style (강남스타일)</td>\n",
       "    </tr>\n",
       "    <tr>\n",
       "      <th>1</th>\n",
       "      <td>pop</td>\n",
       "      <td>[happy]</td>\n",
       "      <td>OneRepublic</td>\n",
       "      <td>Counting Stars</td>\n",
       "    </tr>\n",
       "    <tr>\n",
       "      <th>2</th>\n",
       "      <td></td>\n",
       "      <td>[happy, celebratory, rowdy]</td>\n",
       "      <td>LMFAO</td>\n",
       "      <td>Party Rock Anthem</td>\n",
       "    </tr>\n",
       "    <tr>\n",
       "      <th>3</th>\n",
       "      <td>dance</td>\n",
       "      <td>[happy, energetic, celebratory]</td>\n",
       "      <td>PSY</td>\n",
       "      <td>Gentleman</td>\n",
       "    </tr>\n",
       "    <tr>\n",
       "      <th>4</th>\n",
       "      <td>reggaeton</td>\n",
       "      <td>[energetic]</td>\n",
       "      <td>Jennifer Lopez</td>\n",
       "      <td>On The Floor</td>\n",
       "    </tr>\n",
       "  </tbody>\n",
       "</table>\n",
       "</div>"
      ],
      "text/plain": [
       "      genres                            moods          artist  \\\n",
       "0        pop        [energetic, motivational]             PSY   \n",
       "1        pop                          [happy]     OneRepublic   \n",
       "2                 [happy, celebratory, rowdy]           LMFAO   \n",
       "3      dance  [happy, energetic, celebratory]             PSY   \n",
       "4  reggaeton                      [energetic]  Jennifer Lopez   \n",
       "\n",
       "                    name  \n",
       "0  Gangnam Style (강남스타일)  \n",
       "1         Counting Stars  \n",
       "2      Party Rock Anthem  \n",
       "3              Gentleman  \n",
       "4           On The Floor  "
      ]
     },
     "execution_count": 105,
     "metadata": {},
     "output_type": "execute_result"
    }
   ],
   "source": [
    "genres_moods_dfgenres_m  = genres_moods_df.join(pd.DataFrame(mlb.fit_transform(genres_moods_df['moods']), columns=mlb.classes_, index=genres_moods_df.index))\n",
    "# genres_moods_df.drop('moods', inplace=True, axis=1)\n",
    "genres_moods_df.dropna(how='any', inplace=True)\n",
    "genres_moods_df.head()"
   ]
  },
  {
   "cell_type": "code",
   "execution_count": 106,
   "metadata": {},
   "outputs": [],
   "source": [
    "mlb = MultiLabelBinarizer()"
   ]
  },
  {
   "cell_type": "code",
   "execution_count": 107,
   "metadata": {},
   "outputs": [],
   "source": [
    "translator = str.maketrans('','', punctuation)\n",
    "stemmer = SnowballStemmer('english')"
   ]
  },
  {
   "cell_type": "code",
   "execution_count": 108,
   "metadata": {},
   "outputs": [],
   "source": [
    "# Create a namedtuple called 'Song'\n",
    "Song = namedtuple(\"Song\", [\"artist\", \"title\", \"info\"])\n",
    "# Create a 'mood'\n",
    "Mood = namedtuple(\"Mood\", [\"description\", \"probability\"])"
   ]
  },
  {
   "cell_type": "code",
   "execution_count": 109,
   "metadata": {},
   "outputs": [],
   "source": [
    "def clean_text(raw_text):\n",
    "    clean_words = []\n",
    "    raw_text.lower()\n",
    "    raw_text = raw_text.translate(translator)\n",
    "    split_words = raw_text.split()\n",
    "    \n",
    "    for word in split_words:\n",
    "        if word not in ENGLISH_STOP_WORDS:\n",
    "            word = stemmer.stem(word)\n",
    "            clean_words.append(word)\n",
    "            \n",
    "    return ' '.join(clean_words)"
   ]
  },
  {
   "cell_type": "code",
   "execution_count": 110,
   "metadata": {},
   "outputs": [
    {
     "name": "stdout",
     "output_type": "stream",
     "text": [
      "[0.0]\n"
     ]
    }
   ],
   "source": [
    "from sklearn.metrics import jaccard_similarity_score\n",
    "def check(raw_text, raw_text2):\n",
    "    clean_words = []\n",
    "    clean_words.append(jaccard_similarity_score(raw_text,raw_text2))\n",
    "    return clean_words\n",
    "\n",
    "print(check(['o'], ['1']))"
   ]
  },
  {
   "cell_type": "code",
   "execution_count": 141,
   "metadata": {},
   "outputs": [],
   "source": [
    "# You should submit code that basically looks like this\n",
    "def recommend_similar_songs(audio_features, lyrics_features):\n",
    "    # ALL YOUR CODE\n",
    "    # You can also include more information if you like. For example, if you decide to include Top 3 Moods & Genre:\n",
    "\n",
    "    # I'm choosing to also include probability, so I'm making Mood a namedtuple as well\n",
    "#     Mood = namedtuple(\"Mood\", [\"description\", \"probability\"])\n",
    "\n",
    "#     top_mood_1 = Mood(description='Happy', probability=0.75)\n",
    "#     top_mood_2 = Mood(description='Energetic', probability=0.71)\n",
    "#     top_mood_3 = Mood(description='Celebratory', probability=0.68)\n",
    "\n",
    "#     `\n",
    "#     final_result_dictionary['genre'] = 'Jazz'\n",
    "\n",
    "#     #pp.pprint(final_result_dictionary)\n",
    "\n",
    "\n",
    "\n",
    "#     # Create a namedtuple called 'Song'\n",
    "#     Song = namedtuple(\"Song\", [\"artist\", \"title\", \"info\"])\n",
    "\n",
    "#     song_1 = Song(artist=\"kanye west\", title='i am a god', info = final_result_dictionary)\n",
    "#     song_2 = Song(artist=\"linkin park\", title=\"crawling\",  info = final_result_dictionary)\n",
    "#     # etc.\n",
    "\n",
    "#     # Return your results as a dict containing a key called 'playlist' , which contains a list of the song tuples.\n",
    "#     final_result_dic = dict(playlist=[song_1, song_2]) # this example uses only 2 songs but you need to return 10 :)\n",
    "#     pp.pprint(final_result_dic)\n",
    "#     tf_idf_vect = TfidfVectorizer()\n",
    "\n",
    "#     tf_idf = tf_idf_vect.fit_transform([lyrics_clean])\n",
    "    \n",
    "#     print(tf_idf)\n",
    "\n",
    "    from sklearn.metrics import jaccard_similarity_score\n",
    "    df_moods = songs_master_df['moods'].str.join(',').str.get_dummies(sep=',')\n",
    "    df_genres_moods = pd.concat((songs_master_df['genres'], df_moods), axis=1)\n",
    "\n",
    "    moods_features_predict  = pickle.load(open('moods_lyrics_tfidf.pickle', 'rb'))\n",
    "    genres_features_predict  = pickle.load(open('genres_features.pickle', 'rb'))  \n",
    "#     print(genres_features_predict)\n",
    "#     print(moods_features_predict)\n",
    "    genres = genres_features_predict.predict(np.array(audio_features).reshape((1, -1)))\n",
    "    \n",
    "    y = mlb.fit_transform(songs_master_df['moods'])\n",
    "    lyrics_clean = clean_text(lyrics_features)\n",
    "    moods = moods_features_predict.predict([lyrics_clean])\n",
    "    moods = mlb.inverse_transform(moods)\n",
    "    \n",
    "#     songs_master_df['genres'] = songs_master_df['genres'].apply(''.join)\n",
    "#     songs_master_df['moods'] = songs_master_df['moods'].apply(', '.join\n",
    "\n",
    "    print (\"genres predict : \" + genres)\n",
    "    print ('mood predict: ' + str(moods))\n",
    "    \n",
    "    \n",
    "    final_genres_moods_df = genres_moods_df.loc[(genres_moods_df['genres']) == genres[0]].copy()\n",
    "#     print(final_genres_moods_df.head(10))\n",
    "    final_genres_moods_df = final_genres_moods_df.drop(['genres', 'artist', 'name'], axis=1)\n",
    "    print(final_genres_moods_df)\n",
    "    for index, row in final_genres_moods_df.iterrows():\n",
    "        final_genres_moods_df['scsore'] = jaccard_similarity_score(row, moods[0])\n",
    "        \n",
    "    final_genres_moods_df.sort_values(by=['score'])\n",
    "    print(final_genres_moods_df.head(10))\n",
    "    \n",
    "    \n",
    "    TopMoods1 = Mood(description='happy', probability=0.5)\n",
    "    TopMoods2 = Mood(description='sad', probability=0.3)\n",
    "    TopMoods3 = Mood(description='fun', probability=0.1)\n",
    "\n",
    "    top_moods_dictionary = [top_mood_1, top_mood_2, top_mood_3]\n",
    "\n",
    "    song_0 = Song(artist=\"kanye west\", title='i am a god', info = top_moods_dictionary)\n",
    "    song_1 = Song(artist=\"thanh\", title='beatbox show', info = top_moods_dictionary)\n",
    "\n",
    "    final_songs_dictionary = dict(playlist=[song_0, song_1])\n",
    "\n",
    "    final_songs_dictionary\n",
    "    \n",
    "    return final_songs_dictionary    "
   ]
  },
  {
   "cell_type": "code",
   "execution_count": 142,
   "metadata": {
    "scrolled": false
   },
   "outputs": [
    {
     "name": "stdout",
     "output_type": "stream",
     "text": [
      "['genres predict : rock']\n",
      "mood predict: [('cocky', 'energetic', 'motivational', 'visceral')]\n",
      "                                         moods\n",
      "25                                    [trippy]\n",
      "47                         [aggressive, rowdy]\n",
      "54                                    [trippy]\n",
      "60                             [cocky, trashy]\n",
      "70                                     [sweet]\n",
      "86                                     [sweet]\n",
      "92                             [cocky, trashy]\n",
      "106                                      [sad]\n",
      "122                  [energetic, motivational]\n",
      "157                                   [trippy]\n",
      "168                           [sad, nocturnal]\n",
      "182                               [aggressive]\n",
      "199                                   [mellow]\n",
      "200                                    [sweet]\n",
      "201                               [aggressive]\n",
      "210                             [motivational]\n",
      "216                                   [angsty]\n",
      "225                                   [mellow]\n",
      "226                            [cocky, trashy]\n",
      "240                             [cocky, rowdy]\n",
      "247                 [energetic, angsty, rowdy]\n",
      "249                        [cocky, aggressive]\n",
      "255                                   [angsty]\n",
      "261                      [cocky, motivational]\n",
      "264                                   [angsty]\n",
      "274                        [energetic, angsty]\n",
      "287                [cocky, aggressive, trashy]\n",
      "288                                    [sweet]\n",
      "298                               [aggressive]\n",
      "301                           [gloomy, angsty]\n",
      "...                                        ...\n",
      "36476                              [sprightly]\n",
      "36479                   [cold, angsty, trashy]\n",
      "36490                                 [trippy]\n",
      "36498                      [cold, atmospheric]\n",
      "36499                                 [mellow]\n",
      "36516        [energetic, aggressive, visceral]\n",
      "36517                              [sprightly]\n",
      "36521                                   [warm]\n",
      "36524                              [sprightly]\n",
      "36532                                 [trippy]\n",
      "36534                              [sprightly]\n",
      "36541                                 [trippy]\n",
      "36544                           [gloomy, cold]\n",
      "36556                                 [trippy]\n",
      "36561                                    [raw]\n",
      "36567                             [aggressive]\n",
      "36571                             [aggressive]\n",
      "36575                                 [trippy]\n",
      "36583  [energetic, angsty, aggressive, trashy]\n",
      "36593                                 [trippy]\n",
      "36596                   [cold, angsty, trashy]\n",
      "36608                                 [angsty]\n",
      "36643        [angsty, aggressive, trashy, raw]\n",
      "36671       [earthy, atmospheric, trippy, raw]\n",
      "36675                              [sprightly]\n",
      "36694                                 [mellow]\n",
      "36702                                 [mellow]\n",
      "36725                           [cocky, rowdy]\n",
      "36730                             [aggressive]\n",
      "36732                             [aggressive]\n",
      "\n",
      "[7485 rows x 1 columns]\n"
     ]
    },
    {
     "name": "stderr",
     "output_type": "stream",
     "text": [
      "/Volumes/Data/anaconda3/lib/python3.6/site-packages/sklearn/preprocessing/label.py:151: DeprecationWarning: The truth value of an empty array is ambiguous. Returning False, but in future this will result in an error. Use `array.size > 0` to check that an array is not empty.\n",
      "  if diff:\n"
     ]
    },
    {
     "ename": "ValueError",
     "evalue": "You appear to be using a legacy multi-label data representation. Sequence of sequences are no longer supported; use a binary array or sparse matrix instead.",
     "output_type": "error",
     "traceback": [
      "\u001b[0;31m---------------------------------------------------------------------------\u001b[0m",
      "\u001b[0;31mValueError\u001b[0m                                Traceback (most recent call last)",
      "\u001b[0;32m<ipython-input-142-87e0c0232198>\u001b[0m in \u001b[0;36m<module>\u001b[0;34m()\u001b[0m\n\u001b[0;32m----> 1\u001b[0;31m \u001b[0mrecommend_similar_songs\u001b[0m\u001b[0;34m(\u001b[0m\u001b[0msongs_master_df\u001b[0m\u001b[0;34m[\u001b[0m\u001b[0;34m'audio_features'\u001b[0m\u001b[0;34m]\u001b[0m\u001b[0;34m[\u001b[0m\u001b[0;36m1\u001b[0m\u001b[0;34m]\u001b[0m\u001b[0;34m,\u001b[0m \u001b[0;34m'get hight tonight'\u001b[0m\u001b[0;34m)\u001b[0m\u001b[0;34m\u001b[0m\u001b[0m\n\u001b[0m",
      "\u001b[0;32m<ipython-input-141-f2b71c43774c>\u001b[0m in \u001b[0;36mrecommend_similar_songs\u001b[0;34m(audio_features, lyrics_features)\u001b[0m\n\u001b[1;32m     61\u001b[0m     \u001b[0mprint\u001b[0m\u001b[0;34m(\u001b[0m\u001b[0mfinal_genres_moods_df\u001b[0m\u001b[0;34m)\u001b[0m\u001b[0;34m\u001b[0m\u001b[0m\n\u001b[1;32m     62\u001b[0m     \u001b[0;32mfor\u001b[0m \u001b[0mindex\u001b[0m\u001b[0;34m,\u001b[0m \u001b[0mrow\u001b[0m \u001b[0;32min\u001b[0m \u001b[0mfinal_genres_moods_df\u001b[0m\u001b[0;34m.\u001b[0m\u001b[0miterrows\u001b[0m\u001b[0;34m(\u001b[0m\u001b[0;34m)\u001b[0m\u001b[0;34m:\u001b[0m\u001b[0;34m\u001b[0m\u001b[0m\n\u001b[0;32m---> 63\u001b[0;31m         \u001b[0mfinal_genres_moods_df\u001b[0m\u001b[0;34m[\u001b[0m\u001b[0;34m'score'\u001b[0m\u001b[0;34m]\u001b[0m \u001b[0;34m=\u001b[0m \u001b[0mjaccard_similarity_score\u001b[0m\u001b[0;34m(\u001b[0m\u001b[0mrow\u001b[0m\u001b[0;34m,\u001b[0m \u001b[0mmoods\u001b[0m\u001b[0;34m)\u001b[0m\u001b[0;34m\u001b[0m\u001b[0m\n\u001b[0m\u001b[1;32m     64\u001b[0m \u001b[0;34m\u001b[0m\u001b[0m\n\u001b[1;32m     65\u001b[0m     \u001b[0mfinal_genres_moods_df\u001b[0m\u001b[0;34m.\u001b[0m\u001b[0msort_values\u001b[0m\u001b[0;34m(\u001b[0m\u001b[0mby\u001b[0m\u001b[0;34m=\u001b[0m\u001b[0;34m[\u001b[0m\u001b[0;34m'score'\u001b[0m\u001b[0;34m]\u001b[0m\u001b[0;34m)\u001b[0m\u001b[0;34m\u001b[0m\u001b[0m\n",
      "\u001b[0;32m/Volumes/Data/anaconda3/lib/python3.6/site-packages/sklearn/metrics/classification.py\u001b[0m in \u001b[0;36mjaccard_similarity_score\u001b[0;34m(y_true, y_pred, normalize, sample_weight)\u001b[0m\n\u001b[1;32m    444\u001b[0m \u001b[0;34m\u001b[0m\u001b[0m\n\u001b[1;32m    445\u001b[0m     \u001b[0;31m# Compute accuracy for each possible representation\u001b[0m\u001b[0;34m\u001b[0m\u001b[0;34m\u001b[0m\u001b[0m\n\u001b[0;32m--> 446\u001b[0;31m     \u001b[0my_type\u001b[0m\u001b[0;34m,\u001b[0m \u001b[0my_true\u001b[0m\u001b[0;34m,\u001b[0m \u001b[0my_pred\u001b[0m \u001b[0;34m=\u001b[0m \u001b[0m_check_targets\u001b[0m\u001b[0;34m(\u001b[0m\u001b[0my_true\u001b[0m\u001b[0;34m,\u001b[0m \u001b[0my_pred\u001b[0m\u001b[0;34m)\u001b[0m\u001b[0;34m\u001b[0m\u001b[0m\n\u001b[0m\u001b[1;32m    447\u001b[0m     \u001b[0;32mif\u001b[0m \u001b[0my_type\u001b[0m\u001b[0;34m.\u001b[0m\u001b[0mstartswith\u001b[0m\u001b[0;34m(\u001b[0m\u001b[0;34m'multilabel'\u001b[0m\u001b[0;34m)\u001b[0m\u001b[0;34m:\u001b[0m\u001b[0;34m\u001b[0m\u001b[0m\n\u001b[1;32m    448\u001b[0m         \u001b[0;32mwith\u001b[0m \u001b[0mnp\u001b[0m\u001b[0;34m.\u001b[0m\u001b[0merrstate\u001b[0m\u001b[0;34m(\u001b[0m\u001b[0mdivide\u001b[0m\u001b[0;34m=\u001b[0m\u001b[0;34m'ignore'\u001b[0m\u001b[0;34m,\u001b[0m \u001b[0minvalid\u001b[0m\u001b[0;34m=\u001b[0m\u001b[0;34m'ignore'\u001b[0m\u001b[0;34m)\u001b[0m\u001b[0;34m:\u001b[0m\u001b[0;34m\u001b[0m\u001b[0m\n",
      "\u001b[0;32m/Volumes/Data/anaconda3/lib/python3.6/site-packages/sklearn/metrics/classification.py\u001b[0m in \u001b[0;36m_check_targets\u001b[0;34m(y_true, y_pred)\u001b[0m\n\u001b[1;32m     70\u001b[0m     \"\"\"\n\u001b[1;32m     71\u001b[0m     \u001b[0mcheck_consistent_length\u001b[0m\u001b[0;34m(\u001b[0m\u001b[0my_true\u001b[0m\u001b[0;34m,\u001b[0m \u001b[0my_pred\u001b[0m\u001b[0;34m)\u001b[0m\u001b[0;34m\u001b[0m\u001b[0m\n\u001b[0;32m---> 72\u001b[0;31m     \u001b[0mtype_true\u001b[0m \u001b[0;34m=\u001b[0m \u001b[0mtype_of_target\u001b[0m\u001b[0;34m(\u001b[0m\u001b[0my_true\u001b[0m\u001b[0;34m)\u001b[0m\u001b[0;34m\u001b[0m\u001b[0m\n\u001b[0m\u001b[1;32m     73\u001b[0m     \u001b[0mtype_pred\u001b[0m \u001b[0;34m=\u001b[0m \u001b[0mtype_of_target\u001b[0m\u001b[0;34m(\u001b[0m\u001b[0my_pred\u001b[0m\u001b[0;34m)\u001b[0m\u001b[0;34m\u001b[0m\u001b[0m\n\u001b[1;32m     74\u001b[0m \u001b[0;34m\u001b[0m\u001b[0m\n",
      "\u001b[0;32m/Volumes/Data/anaconda3/lib/python3.6/site-packages/sklearn/utils/multiclass.py\u001b[0m in \u001b[0;36mtype_of_target\u001b[0;34m(y)\u001b[0m\n\u001b[1;32m    261\u001b[0m         if (not hasattr(y[0], '__array__') and isinstance(y[0], Sequence)\n\u001b[1;32m    262\u001b[0m                 and not isinstance(y[0], string_types)):\n\u001b[0;32m--> 263\u001b[0;31m             raise ValueError('You appear to be using a legacy multi-label data'\n\u001b[0m\u001b[1;32m    264\u001b[0m                              \u001b[0;34m' representation. Sequence of sequences are no'\u001b[0m\u001b[0;34m\u001b[0m\u001b[0m\n\u001b[1;32m    265\u001b[0m                              \u001b[0;34m' longer supported; use a binary array or sparse'\u001b[0m\u001b[0;34m\u001b[0m\u001b[0m\n",
      "\u001b[0;31mValueError\u001b[0m: You appear to be using a legacy multi-label data representation. Sequence of sequences are no longer supported; use a binary array or sparse matrix instead."
     ]
    }
   ],
   "source": [
    "recommend_similar_songs(songs_master_df['audio_features'][1], 'get hight tonight')"
   ]
  },
  {
   "cell_type": "markdown",
   "metadata": {},
   "source": [
    "---"
   ]
  },
  {
   "cell_type": "code",
   "execution_count": null,
   "metadata": {},
   "outputs": [],
   "source": []
  },
  {
   "cell_type": "code",
   "execution_count": null,
   "metadata": {},
   "outputs": [],
   "source": []
  }
 ],
 "metadata": {
  "kernelspec": {
   "display_name": "Python 3",
   "language": "python",
   "name": "python3"
  },
  "language_info": {
   "codemirror_mode": {
    "name": "ipython",
    "version": 3
   },
   "file_extension": ".py",
   "mimetype": "text/x-python",
   "name": "python",
   "nbconvert_exporter": "python",
   "pygments_lexer": "ipython3",
   "version": "3.6.4"
  }
 },
 "nbformat": 4,
 "nbformat_minor": 2
}
