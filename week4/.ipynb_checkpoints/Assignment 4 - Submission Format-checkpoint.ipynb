{
 "cells": [
  {
   "cell_type": "markdown",
   "metadata": {},
   "source": [
    "# Assignment 4: Submission Format"
   ]
  },
  {
   "cell_type": "markdown",
   "metadata": {},
   "source": [
    "This notebook shows you how you should format your function in order to return your playlist of 10 songs, along with any other information you want to return."
   ]
  },
  {
   "cell_type": "code",
   "execution_count": 26,
   "metadata": {},
   "outputs": [],
   "source": [
    "# makes printing a dict look nice\n",
    "import pprint\n",
    "pp = pprint.PrettyPrinter(indent=4)"
   ]
  },
  {
   "cell_type": "code",
   "execution_count": 27,
   "metadata": {},
   "outputs": [],
   "source": [
    "# you need this for namedtuple\n",
    "from collections import namedtuple"
   ]
  },
  {
   "cell_type": "code",
   "execution_count": 28,
   "metadata": {},
   "outputs": [
    {
     "name": "stdout",
     "output_type": "stream",
     "text": [
      "{   'playlist': [   Song(artist='kanye west', title='i am a god'),\n",
      "                    Song(artist='linkin park', title='crawling')]}\n"
     ]
    }
   ],
   "source": [
    "# Create a namedtuple called 'Song'\n",
    "Song = namedtuple(\"Song\", [\"artist\", \"title\"])\n",
    "\n",
    "song_1 = Song(artist=\"kanye west\", title='i am a god')\n",
    "song_2 = Song(artist=\"linkin park\", title=\"crawling\")\n",
    "# etc.\n",
    "\n",
    "# Return your results as a dict containing a key called 'playlist' , which contains a list of the song tuples.\n",
    "final_result_dictionary = dict(playlist=[song_1, song_2]) # this example uses only 2 songs but you need to return 10 :)\n",
    "\n",
    "pp.pprint(final_result_dictionary)"
   ]
  },
  {
   "cell_type": "code",
   "execution_count": 29,
   "metadata": {},
   "outputs": [
    {
     "name": "stdout",
     "output_type": "stream",
     "text": [
      "{   'playlist': [   Song(artist='kanye west', title='i am a god', info={'playlist': [Song(artist='kanye west', title='i am a god'), Song(artist='linkin park', title='crawling')], 'mood': [Mood(description='Happy', probability=0.75), Mood(description='Energetic', probability=0.71), Mood(description='Celebratory', probability=0.68)], 'genre': 'Jazz'}),\n",
      "                    Song(artist='linkin park', title='crawling', info={'playlist': [Song(artist='kanye west', title='i am a god'), Song(artist='linkin park', title='crawling')], 'mood': [Mood(description='Happy', probability=0.75), Mood(description='Energetic', probability=0.71), Mood(description='Celebratory', probability=0.68)], 'genre': 'Jazz'})]}\n"
     ]
    }
   ],
   "source": [
    "# You can also include more information if you like. For example, if you decide to include Top 3 Moods & Genre:\n",
    "\n",
    "# I'm choosing to also include probability, so I'm making Mood a namedtuple as well\n",
    "Mood = namedtuple(\"Mood\", [\"description\", \"probability\"])\n",
    "\n",
    "top_mood_1 = Mood(description='Happy', probability=0.75)\n",
    "top_mood_2 = Mood(description='Energetic', probability=0.71)\n",
    "top_mood_3 = Mood(description='Celebratory', probability=0.68)\n",
    "\n",
    "final_result_dictionary['mood'] = [top_mood_1, top_mood_2, top_mood_3]\n",
    "final_result_dictionary['genre'] = 'Jazz'\n",
    "\n",
    "#pp.pprint(final_result_dictionary)\n",
    "\n",
    "\n",
    "\n",
    "# Create a namedtuple called 'Song'\n",
    "Song = namedtuple(\"Song\", [\"artist\", \"title\", \"info\"])\n",
    "\n",
    "song_1 = Song(artist=\"kanye west\", title='i am a god', info = final_result_dictionary)\n",
    "song_2 = Song(artist=\"linkin park\", title=\"crawling\",  info = final_result_dictionary)\n",
    "# etc.\n",
    "\n",
    "# Return your results as a dict containing a key called 'playlist' , which contains a list of the song tuples.\n",
    "final_result_dictionary = dict(playlist=[song_1, song_2]) # this example uses only 2 songs but you need to return 10 :)\n",
    "pp.pprint(final_result_dictionary)\n",
    "\n"
   ]
  },
  {
   "cell_type": "code",
   "execution_count": 25,
   "metadata": {},
   "outputs": [],
   "source": [
    "# You should submit code that basically looks like this\n",
    "def recommend_similar_songs(audio_features, lyrics_features):\n",
    "    # ALL YOUR CODE\n",
    "    \n",
    "    return final_result_dictionary    "
   ]
  },
  {
   "cell_type": "markdown",
   "metadata": {},
   "source": [
    "---"
   ]
  }
 ],
 "metadata": {
  "kernelspec": {
   "display_name": "Python 3",
   "language": "python",
   "name": "python3"
  },
  "language_info": {
   "codemirror_mode": {
    "name": "ipython",
    "version": 3
   },
   "file_extension": ".py",
   "mimetype": "text/x-python",
   "name": "python",
   "nbconvert_exporter": "python",
   "pygments_lexer": "ipython3",
   "version": "3.6.4"
  }
 },
 "nbformat": 4,
 "nbformat_minor": 2
}
